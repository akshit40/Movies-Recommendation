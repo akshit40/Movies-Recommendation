{
  "nbformat": 4,
  "nbformat_minor": 0,
  "metadata": {
    "colab": {
      "provenance": []
    },
    "kernelspec": {
      "name": "python3",
      "display_name": "Python 3"
    },
    "language_info": {
      "name": "python"
    }
  },
  "cells": [
    {
      "cell_type": "code",
      "execution_count": 17,
      "metadata": {
        "id": "hjMKwSLW5Sa2"
      },
      "outputs": [],
      "source": [
        "import pandas as pd"
      ]
    },
    {
      "cell_type": "code",
      "source": [
        "import numpy as np"
      ],
      "metadata": {
        "id": "A9ymbs-t5jUY"
      },
      "execution_count": 18,
      "outputs": []
    },
    {
      "cell_type": "code",
      "source": [
        "df = pd.read_csv('https://raw.githubusercontent.com/YBI-Foundation/Dataset/main/Movies%20Recommendation.csv')"
      ],
      "metadata": {
        "id": "E7AMX1HZ5jXd"
      },
      "execution_count": 19,
      "outputs": []
    },
    {
      "cell_type": "code",
      "source": [
        "df.head()"
      ],
      "metadata": {
        "id": "hmesZuTr5jaG",
        "colab": {
          "base_uri": "https://localhost:8080/",
          "height": 672
        },
        "outputId": "a58e536f-d293-48f0-b0f3-243f7a11ff38"
      },
      "execution_count": 20,
      "outputs": [
        {
          "output_type": "execute_result",
          "data": {
            "text/plain": [
              "   Movie_ID      Movie_Title                       Movie_Genre Movie_Language  \\\n",
              "0         1       Four Rooms                      Crime Comedy             en   \n",
              "1         2        Star Wars  Adventure Action Science Fiction             en   \n",
              "2         3     Finding Nemo                  Animation Family             en   \n",
              "3         4     Forrest Gump              Comedy Drama Romance             en   \n",
              "4         5  American Beauty                             Drama             en   \n",
              "\n",
              "   Movie_Budget  Movie_Popularity Movie_Release_Date  Movie_Revenue  \\\n",
              "0       4000000         22.876230         09-12-1995        4300000   \n",
              "1      11000000        126.393695         25-05-1977      775398007   \n",
              "2      94000000         85.688789         30-05-2003      940335536   \n",
              "3      55000000        138.133331         06-07-1994      677945399   \n",
              "4      15000000         80.878605         15-09-1999      356296601   \n",
              "\n",
              "   Movie_Runtime  Movie_Vote  ...  \\\n",
              "0           98.0         6.5  ...   \n",
              "1          121.0         8.1  ...   \n",
              "2          100.0         7.6  ...   \n",
              "3          142.0         8.2  ...   \n",
              "4          122.0         7.9  ...   \n",
              "\n",
              "                                      Movie_Homepage  \\\n",
              "0                                                NaN   \n",
              "1  http://www.starwars.com/films/star-wars-episod...   \n",
              "2              http://movies.disney.com/finding-nemo   \n",
              "3                                                NaN   \n",
              "4                      http://www.dreamworks.com/ab/   \n",
              "\n",
              "                                      Movie_Keywords  \\\n",
              "0          hotel new year's eve witch bet hotel room   \n",
              "1        android galaxy hermit death star lightsaber   \n",
              "2  father son relationship harbor underwater fish...   \n",
              "3  vietnam veteran hippie mentally disabled runni...   \n",
              "4  male nudity female nudity adultery midlife cri...   \n",
              "\n",
              "                                      Movie_Overview  \\\n",
              "0  It's Ted the Bellhop's first night on the job....   \n",
              "1  Princess Leia is captured and held hostage by ...   \n",
              "2  Nemo, an adventurous young clownfish, is unexp...   \n",
              "3  A man with a low IQ has accomplished great thi...   \n",
              "4  Lester Burnham, a depressed suburban father in...   \n",
              "\n",
              "                              Movie_Production_House  \\\n",
              "0  [{\"name\": \"Miramax Films\", \"id\": 14}, {\"name\":...   \n",
              "1  [{\"name\": \"Lucasfilm\", \"id\": 1}, {\"name\": \"Twe...   \n",
              "2     [{\"name\": \"Pixar Animation Studios\", \"id\": 3}]   \n",
              "3          [{\"name\": \"Paramount Pictures\", \"id\": 4}]   \n",
              "4  [{\"name\": \"DreamWorks SKG\", \"id\": 27}, {\"name\"...   \n",
              "\n",
              "                            Movie_Production_Country  \\\n",
              "0  [{\"iso_3166_1\": \"US\", \"name\": \"United States o...   \n",
              "1  [{\"iso_3166_1\": \"US\", \"name\": \"United States o...   \n",
              "2  [{\"iso_3166_1\": \"US\", \"name\": \"United States o...   \n",
              "3  [{\"iso_3166_1\": \"US\", \"name\": \"United States o...   \n",
              "4  [{\"iso_3166_1\": \"US\", \"name\": \"United States o...   \n",
              "\n",
              "                      Movie_Spoken_Language  \\\n",
              "0  [{\"iso_639_1\": \"en\", \"name\": \"English\"}]   \n",
              "1  [{\"iso_639_1\": \"en\", \"name\": \"English\"}]   \n",
              "2  [{\"iso_639_1\": \"en\", \"name\": \"English\"}]   \n",
              "3  [{\"iso_639_1\": \"en\", \"name\": \"English\"}]   \n",
              "4  [{\"iso_639_1\": \"en\", \"name\": \"English\"}]   \n",
              "\n",
              "                                       Movie_Tagline  \\\n",
              "0  Twelve outrageous guests. Four scandalous requ...   \n",
              "1       A long time ago in a galaxy far, far away...   \n",
              "2  There are 3.7 trillion fish in the ocean, they...   \n",
              "3  The world will never be the same, once you've ...   \n",
              "4                                       Look closer.   \n",
              "\n",
              "                                          Movie_Cast  \\\n",
              "0  Tim Roth Antonio Banderas Jennifer Beals Madon...   \n",
              "1  Mark Hamill Harrison Ford Carrie Fisher Peter ...   \n",
              "2  Albert Brooks Ellen DeGeneres Alexander Gould ...   \n",
              "3  Tom Hanks Robin Wright Gary Sinise Mykelti Wil...   \n",
              "4  Kevin Spacey Annette Bening Thora Birch Wes Be...   \n",
              "\n",
              "                                          Movie_Crew   Movie_Director  \n",
              "0  [{'name': 'Allison Anders', 'gender': 1, 'depa...   Allison Anders  \n",
              "1  [{'name': 'George Lucas', 'gender': 2, 'depart...     George Lucas  \n",
              "2  [{'name': 'Andrew Stanton', 'gender': 2, 'depa...   Andrew Stanton  \n",
              "3  [{'name': 'Alan Silvestri', 'gender': 2, 'depa...  Robert Zemeckis  \n",
              "4  [{'name': 'Thomas Newman', 'gender': 2, 'depar...       Sam Mendes  \n",
              "\n",
              "[5 rows x 21 columns]"
            ],
            "text/html": [
              "\n",
              "  <div id=\"df-7e0caa08-0dc5-46a6-96a3-e99345e0e346\" class=\"colab-df-container\">\n",
              "    <div>\n",
              "<style scoped>\n",
              "    .dataframe tbody tr th:only-of-type {\n",
              "        vertical-align: middle;\n",
              "    }\n",
              "\n",
              "    .dataframe tbody tr th {\n",
              "        vertical-align: top;\n",
              "    }\n",
              "\n",
              "    .dataframe thead th {\n",
              "        text-align: right;\n",
              "    }\n",
              "</style>\n",
              "<table border=\"1\" class=\"dataframe\">\n",
              "  <thead>\n",
              "    <tr style=\"text-align: right;\">\n",
              "      <th></th>\n",
              "      <th>Movie_ID</th>\n",
              "      <th>Movie_Title</th>\n",
              "      <th>Movie_Genre</th>\n",
              "      <th>Movie_Language</th>\n",
              "      <th>Movie_Budget</th>\n",
              "      <th>Movie_Popularity</th>\n",
              "      <th>Movie_Release_Date</th>\n",
              "      <th>Movie_Revenue</th>\n",
              "      <th>Movie_Runtime</th>\n",
              "      <th>Movie_Vote</th>\n",
              "      <th>...</th>\n",
              "      <th>Movie_Homepage</th>\n",
              "      <th>Movie_Keywords</th>\n",
              "      <th>Movie_Overview</th>\n",
              "      <th>Movie_Production_House</th>\n",
              "      <th>Movie_Production_Country</th>\n",
              "      <th>Movie_Spoken_Language</th>\n",
              "      <th>Movie_Tagline</th>\n",
              "      <th>Movie_Cast</th>\n",
              "      <th>Movie_Crew</th>\n",
              "      <th>Movie_Director</th>\n",
              "    </tr>\n",
              "  </thead>\n",
              "  <tbody>\n",
              "    <tr>\n",
              "      <th>0</th>\n",
              "      <td>1</td>\n",
              "      <td>Four Rooms</td>\n",
              "      <td>Crime Comedy</td>\n",
              "      <td>en</td>\n",
              "      <td>4000000</td>\n",
              "      <td>22.876230</td>\n",
              "      <td>09-12-1995</td>\n",
              "      <td>4300000</td>\n",
              "      <td>98.0</td>\n",
              "      <td>6.5</td>\n",
              "      <td>...</td>\n",
              "      <td>NaN</td>\n",
              "      <td>hotel new year's eve witch bet hotel room</td>\n",
              "      <td>It's Ted the Bellhop's first night on the job....</td>\n",
              "      <td>[{\"name\": \"Miramax Films\", \"id\": 14}, {\"name\":...</td>\n",
              "      <td>[{\"iso_3166_1\": \"US\", \"name\": \"United States o...</td>\n",
              "      <td>[{\"iso_639_1\": \"en\", \"name\": \"English\"}]</td>\n",
              "      <td>Twelve outrageous guests. Four scandalous requ...</td>\n",
              "      <td>Tim Roth Antonio Banderas Jennifer Beals Madon...</td>\n",
              "      <td>[{'name': 'Allison Anders', 'gender': 1, 'depa...</td>\n",
              "      <td>Allison Anders</td>\n",
              "    </tr>\n",
              "    <tr>\n",
              "      <th>1</th>\n",
              "      <td>2</td>\n",
              "      <td>Star Wars</td>\n",
              "      <td>Adventure Action Science Fiction</td>\n",
              "      <td>en</td>\n",
              "      <td>11000000</td>\n",
              "      <td>126.393695</td>\n",
              "      <td>25-05-1977</td>\n",
              "      <td>775398007</td>\n",
              "      <td>121.0</td>\n",
              "      <td>8.1</td>\n",
              "      <td>...</td>\n",
              "      <td>http://www.starwars.com/films/star-wars-episod...</td>\n",
              "      <td>android galaxy hermit death star lightsaber</td>\n",
              "      <td>Princess Leia is captured and held hostage by ...</td>\n",
              "      <td>[{\"name\": \"Lucasfilm\", \"id\": 1}, {\"name\": \"Twe...</td>\n",
              "      <td>[{\"iso_3166_1\": \"US\", \"name\": \"United States o...</td>\n",
              "      <td>[{\"iso_639_1\": \"en\", \"name\": \"English\"}]</td>\n",
              "      <td>A long time ago in a galaxy far, far away...</td>\n",
              "      <td>Mark Hamill Harrison Ford Carrie Fisher Peter ...</td>\n",
              "      <td>[{'name': 'George Lucas', 'gender': 2, 'depart...</td>\n",
              "      <td>George Lucas</td>\n",
              "    </tr>\n",
              "    <tr>\n",
              "      <th>2</th>\n",
              "      <td>3</td>\n",
              "      <td>Finding Nemo</td>\n",
              "      <td>Animation Family</td>\n",
              "      <td>en</td>\n",
              "      <td>94000000</td>\n",
              "      <td>85.688789</td>\n",
              "      <td>30-05-2003</td>\n",
              "      <td>940335536</td>\n",
              "      <td>100.0</td>\n",
              "      <td>7.6</td>\n",
              "      <td>...</td>\n",
              "      <td>http://movies.disney.com/finding-nemo</td>\n",
              "      <td>father son relationship harbor underwater fish...</td>\n",
              "      <td>Nemo, an adventurous young clownfish, is unexp...</td>\n",
              "      <td>[{\"name\": \"Pixar Animation Studios\", \"id\": 3}]</td>\n",
              "      <td>[{\"iso_3166_1\": \"US\", \"name\": \"United States o...</td>\n",
              "      <td>[{\"iso_639_1\": \"en\", \"name\": \"English\"}]</td>\n",
              "      <td>There are 3.7 trillion fish in the ocean, they...</td>\n",
              "      <td>Albert Brooks Ellen DeGeneres Alexander Gould ...</td>\n",
              "      <td>[{'name': 'Andrew Stanton', 'gender': 2, 'depa...</td>\n",
              "      <td>Andrew Stanton</td>\n",
              "    </tr>\n",
              "    <tr>\n",
              "      <th>3</th>\n",
              "      <td>4</td>\n",
              "      <td>Forrest Gump</td>\n",
              "      <td>Comedy Drama Romance</td>\n",
              "      <td>en</td>\n",
              "      <td>55000000</td>\n",
              "      <td>138.133331</td>\n",
              "      <td>06-07-1994</td>\n",
              "      <td>677945399</td>\n",
              "      <td>142.0</td>\n",
              "      <td>8.2</td>\n",
              "      <td>...</td>\n",
              "      <td>NaN</td>\n",
              "      <td>vietnam veteran hippie mentally disabled runni...</td>\n",
              "      <td>A man with a low IQ has accomplished great thi...</td>\n",
              "      <td>[{\"name\": \"Paramount Pictures\", \"id\": 4}]</td>\n",
              "      <td>[{\"iso_3166_1\": \"US\", \"name\": \"United States o...</td>\n",
              "      <td>[{\"iso_639_1\": \"en\", \"name\": \"English\"}]</td>\n",
              "      <td>The world will never be the same, once you've ...</td>\n",
              "      <td>Tom Hanks Robin Wright Gary Sinise Mykelti Wil...</td>\n",
              "      <td>[{'name': 'Alan Silvestri', 'gender': 2, 'depa...</td>\n",
              "      <td>Robert Zemeckis</td>\n",
              "    </tr>\n",
              "    <tr>\n",
              "      <th>4</th>\n",
              "      <td>5</td>\n",
              "      <td>American Beauty</td>\n",
              "      <td>Drama</td>\n",
              "      <td>en</td>\n",
              "      <td>15000000</td>\n",
              "      <td>80.878605</td>\n",
              "      <td>15-09-1999</td>\n",
              "      <td>356296601</td>\n",
              "      <td>122.0</td>\n",
              "      <td>7.9</td>\n",
              "      <td>...</td>\n",
              "      <td>http://www.dreamworks.com/ab/</td>\n",
              "      <td>male nudity female nudity adultery midlife cri...</td>\n",
              "      <td>Lester Burnham, a depressed suburban father in...</td>\n",
              "      <td>[{\"name\": \"DreamWorks SKG\", \"id\": 27}, {\"name\"...</td>\n",
              "      <td>[{\"iso_3166_1\": \"US\", \"name\": \"United States o...</td>\n",
              "      <td>[{\"iso_639_1\": \"en\", \"name\": \"English\"}]</td>\n",
              "      <td>Look closer.</td>\n",
              "      <td>Kevin Spacey Annette Bening Thora Birch Wes Be...</td>\n",
              "      <td>[{'name': 'Thomas Newman', 'gender': 2, 'depar...</td>\n",
              "      <td>Sam Mendes</td>\n",
              "    </tr>\n",
              "  </tbody>\n",
              "</table>\n",
              "<p>5 rows × 21 columns</p>\n",
              "</div>\n",
              "    <div class=\"colab-df-buttons\">\n",
              "\n",
              "  <div class=\"colab-df-container\">\n",
              "    <button class=\"colab-df-convert\" onclick=\"convertToInteractive('df-7e0caa08-0dc5-46a6-96a3-e99345e0e346')\"\n",
              "            title=\"Convert this dataframe to an interactive table.\"\n",
              "            style=\"display:none;\">\n",
              "\n",
              "  <svg xmlns=\"http://www.w3.org/2000/svg\" height=\"24px\" viewBox=\"0 -960 960 960\">\n",
              "    <path d=\"M120-120v-720h720v720H120Zm60-500h600v-160H180v160Zm220 220h160v-160H400v160Zm0 220h160v-160H400v160ZM180-400h160v-160H180v160Zm440 0h160v-160H620v160ZM180-180h160v-160H180v160Zm440 0h160v-160H620v160Z\"/>\n",
              "  </svg>\n",
              "    </button>\n",
              "\n",
              "  <style>\n",
              "    .colab-df-container {\n",
              "      display:flex;\n",
              "      gap: 12px;\n",
              "    }\n",
              "\n",
              "    .colab-df-convert {\n",
              "      background-color: #E8F0FE;\n",
              "      border: none;\n",
              "      border-radius: 50%;\n",
              "      cursor: pointer;\n",
              "      display: none;\n",
              "      fill: #1967D2;\n",
              "      height: 32px;\n",
              "      padding: 0 0 0 0;\n",
              "      width: 32px;\n",
              "    }\n",
              "\n",
              "    .colab-df-convert:hover {\n",
              "      background-color: #E2EBFA;\n",
              "      box-shadow: 0px 1px 2px rgba(60, 64, 67, 0.3), 0px 1px 3px 1px rgba(60, 64, 67, 0.15);\n",
              "      fill: #174EA6;\n",
              "    }\n",
              "\n",
              "    .colab-df-buttons div {\n",
              "      margin-bottom: 4px;\n",
              "    }\n",
              "\n",
              "    [theme=dark] .colab-df-convert {\n",
              "      background-color: #3B4455;\n",
              "      fill: #D2E3FC;\n",
              "    }\n",
              "\n",
              "    [theme=dark] .colab-df-convert:hover {\n",
              "      background-color: #434B5C;\n",
              "      box-shadow: 0px 1px 3px 1px rgba(0, 0, 0, 0.15);\n",
              "      filter: drop-shadow(0px 1px 2px rgba(0, 0, 0, 0.3));\n",
              "      fill: #FFFFFF;\n",
              "    }\n",
              "  </style>\n",
              "\n",
              "    <script>\n",
              "      const buttonEl =\n",
              "        document.querySelector('#df-7e0caa08-0dc5-46a6-96a3-e99345e0e346 button.colab-df-convert');\n",
              "      buttonEl.style.display =\n",
              "        google.colab.kernel.accessAllowed ? 'block' : 'none';\n",
              "\n",
              "      async function convertToInteractive(key) {\n",
              "        const element = document.querySelector('#df-7e0caa08-0dc5-46a6-96a3-e99345e0e346');\n",
              "        const dataTable =\n",
              "          await google.colab.kernel.invokeFunction('convertToInteractive',\n",
              "                                                    [key], {});\n",
              "        if (!dataTable) return;\n",
              "\n",
              "        const docLinkHtml = 'Like what you see? Visit the ' +\n",
              "          '<a target=\"_blank\" href=https://colab.research.google.com/notebooks/data_table.ipynb>data table notebook</a>'\n",
              "          + ' to learn more about interactive tables.';\n",
              "        element.innerHTML = '';\n",
              "        dataTable['output_type'] = 'display_data';\n",
              "        await google.colab.output.renderOutput(dataTable, element);\n",
              "        const docLink = document.createElement('div');\n",
              "        docLink.innerHTML = docLinkHtml;\n",
              "        element.appendChild(docLink);\n",
              "      }\n",
              "    </script>\n",
              "  </div>\n",
              "\n",
              "\n",
              "<div id=\"df-00228084-40a7-48d5-a5c8-dea6ff99eb9c\">\n",
              "  <button class=\"colab-df-quickchart\" onclick=\"quickchart('df-00228084-40a7-48d5-a5c8-dea6ff99eb9c')\"\n",
              "            title=\"Suggest charts\"\n",
              "            style=\"display:none;\">\n",
              "\n",
              "<svg xmlns=\"http://www.w3.org/2000/svg\" height=\"24px\"viewBox=\"0 0 24 24\"\n",
              "     width=\"24px\">\n",
              "    <g>\n",
              "        <path d=\"M19 3H5c-1.1 0-2 .9-2 2v14c0 1.1.9 2 2 2h14c1.1 0 2-.9 2-2V5c0-1.1-.9-2-2-2zM9 17H7v-7h2v7zm4 0h-2V7h2v10zm4 0h-2v-4h2v4z\"/>\n",
              "    </g>\n",
              "</svg>\n",
              "  </button>\n",
              "\n",
              "<style>\n",
              "  .colab-df-quickchart {\n",
              "      --bg-color: #E8F0FE;\n",
              "      --fill-color: #1967D2;\n",
              "      --hover-bg-color: #E2EBFA;\n",
              "      --hover-fill-color: #174EA6;\n",
              "      --disabled-fill-color: #AAA;\n",
              "      --disabled-bg-color: #DDD;\n",
              "  }\n",
              "\n",
              "  [theme=dark] .colab-df-quickchart {\n",
              "      --bg-color: #3B4455;\n",
              "      --fill-color: #D2E3FC;\n",
              "      --hover-bg-color: #434B5C;\n",
              "      --hover-fill-color: #FFFFFF;\n",
              "      --disabled-bg-color: #3B4455;\n",
              "      --disabled-fill-color: #666;\n",
              "  }\n",
              "\n",
              "  .colab-df-quickchart {\n",
              "    background-color: var(--bg-color);\n",
              "    border: none;\n",
              "    border-radius: 50%;\n",
              "    cursor: pointer;\n",
              "    display: none;\n",
              "    fill: var(--fill-color);\n",
              "    height: 32px;\n",
              "    padding: 0;\n",
              "    width: 32px;\n",
              "  }\n",
              "\n",
              "  .colab-df-quickchart:hover {\n",
              "    background-color: var(--hover-bg-color);\n",
              "    box-shadow: 0 1px 2px rgba(60, 64, 67, 0.3), 0 1px 3px 1px rgba(60, 64, 67, 0.15);\n",
              "    fill: var(--button-hover-fill-color);\n",
              "  }\n",
              "\n",
              "  .colab-df-quickchart-complete:disabled,\n",
              "  .colab-df-quickchart-complete:disabled:hover {\n",
              "    background-color: var(--disabled-bg-color);\n",
              "    fill: var(--disabled-fill-color);\n",
              "    box-shadow: none;\n",
              "  }\n",
              "\n",
              "  .colab-df-spinner {\n",
              "    border: 2px solid var(--fill-color);\n",
              "    border-color: transparent;\n",
              "    border-bottom-color: var(--fill-color);\n",
              "    animation:\n",
              "      spin 1s steps(1) infinite;\n",
              "  }\n",
              "\n",
              "  @keyframes spin {\n",
              "    0% {\n",
              "      border-color: transparent;\n",
              "      border-bottom-color: var(--fill-color);\n",
              "      border-left-color: var(--fill-color);\n",
              "    }\n",
              "    20% {\n",
              "      border-color: transparent;\n",
              "      border-left-color: var(--fill-color);\n",
              "      border-top-color: var(--fill-color);\n",
              "    }\n",
              "    30% {\n",
              "      border-color: transparent;\n",
              "      border-left-color: var(--fill-color);\n",
              "      border-top-color: var(--fill-color);\n",
              "      border-right-color: var(--fill-color);\n",
              "    }\n",
              "    40% {\n",
              "      border-color: transparent;\n",
              "      border-right-color: var(--fill-color);\n",
              "      border-top-color: var(--fill-color);\n",
              "    }\n",
              "    60% {\n",
              "      border-color: transparent;\n",
              "      border-right-color: var(--fill-color);\n",
              "    }\n",
              "    80% {\n",
              "      border-color: transparent;\n",
              "      border-right-color: var(--fill-color);\n",
              "      border-bottom-color: var(--fill-color);\n",
              "    }\n",
              "    90% {\n",
              "      border-color: transparent;\n",
              "      border-bottom-color: var(--fill-color);\n",
              "    }\n",
              "  }\n",
              "</style>\n",
              "\n",
              "  <script>\n",
              "    async function quickchart(key) {\n",
              "      const quickchartButtonEl =\n",
              "        document.querySelector('#' + key + ' button');\n",
              "      quickchartButtonEl.disabled = true;  // To prevent multiple clicks.\n",
              "      quickchartButtonEl.classList.add('colab-df-spinner');\n",
              "      try {\n",
              "        const charts = await google.colab.kernel.invokeFunction(\n",
              "            'suggestCharts', [key], {});\n",
              "      } catch (error) {\n",
              "        console.error('Error during call to suggestCharts:', error);\n",
              "      }\n",
              "      quickchartButtonEl.classList.remove('colab-df-spinner');\n",
              "      quickchartButtonEl.classList.add('colab-df-quickchart-complete');\n",
              "    }\n",
              "    (() => {\n",
              "      let quickchartButtonEl =\n",
              "        document.querySelector('#df-00228084-40a7-48d5-a5c8-dea6ff99eb9c button');\n",
              "      quickchartButtonEl.style.display =\n",
              "        google.colab.kernel.accessAllowed ? 'block' : 'none';\n",
              "    })();\n",
              "  </script>\n",
              "</div>\n",
              "\n",
              "    </div>\n",
              "  </div>\n"
            ],
            "application/vnd.google.colaboratory.intrinsic+json": {
              "type": "dataframe",
              "variable_name": "df"
            }
          },
          "metadata": {},
          "execution_count": 20
        }
      ]
    },
    {
      "cell_type": "code",
      "source": [
        "df.info()"
      ],
      "metadata": {
        "id": "4kHek9f45jcX",
        "colab": {
          "base_uri": "https://localhost:8080/"
        },
        "outputId": "10122301-3479-4183-ddf4-57547934a071"
      },
      "execution_count": 21,
      "outputs": [
        {
          "output_type": "stream",
          "name": "stdout",
          "text": [
            "<class 'pandas.core.frame.DataFrame'>\n",
            "RangeIndex: 4760 entries, 0 to 4759\n",
            "Data columns (total 21 columns):\n",
            " #   Column                    Non-Null Count  Dtype  \n",
            "---  ------                    --------------  -----  \n",
            " 0   Movie_ID                  4760 non-null   int64  \n",
            " 1   Movie_Title               4760 non-null   object \n",
            " 2   Movie_Genre               4760 non-null   object \n",
            " 3   Movie_Language            4760 non-null   object \n",
            " 4   Movie_Budget              4760 non-null   int64  \n",
            " 5   Movie_Popularity          4760 non-null   float64\n",
            " 6   Movie_Release_Date        4760 non-null   object \n",
            " 7   Movie_Revenue             4760 non-null   int64  \n",
            " 8   Movie_Runtime             4758 non-null   float64\n",
            " 9   Movie_Vote                4760 non-null   float64\n",
            " 10  Movie_Vote_Count          4760 non-null   int64  \n",
            " 11  Movie_Homepage            1699 non-null   object \n",
            " 12  Movie_Keywords            4373 non-null   object \n",
            " 13  Movie_Overview            4757 non-null   object \n",
            " 14  Movie_Production_House    4760 non-null   object \n",
            " 15  Movie_Production_Country  4760 non-null   object \n",
            " 16  Movie_Spoken_Language     4760 non-null   object \n",
            " 17  Movie_Tagline             3942 non-null   object \n",
            " 18  Movie_Cast                4733 non-null   object \n",
            " 19  Movie_Crew                4760 non-null   object \n",
            " 20  Movie_Director            4738 non-null   object \n",
            "dtypes: float64(3), int64(4), object(14)\n",
            "memory usage: 781.1+ KB\n"
          ]
        }
      ]
    },
    {
      "cell_type": "code",
      "source": [
        "df.shape"
      ],
      "metadata": {
        "id": "A2NFxowF5jfV",
        "colab": {
          "base_uri": "https://localhost:8080/"
        },
        "outputId": "9681ae20-6334-4d28-ed46-1f912d364cf5"
      },
      "execution_count": 22,
      "outputs": [
        {
          "output_type": "execute_result",
          "data": {
            "text/plain": [
              "(4760, 21)"
            ]
          },
          "metadata": {},
          "execution_count": 22
        }
      ]
    },
    {
      "cell_type": "code",
      "source": [
        "df.columns"
      ],
      "metadata": {
        "id": "JWm98xLP5jiG",
        "colab": {
          "base_uri": "https://localhost:8080/"
        },
        "outputId": "cd923ed0-e4ca-4300-9bfc-c30477f747d7"
      },
      "execution_count": 23,
      "outputs": [
        {
          "output_type": "execute_result",
          "data": {
            "text/plain": [
              "Index(['Movie_ID', 'Movie_Title', 'Movie_Genre', 'Movie_Language',\n",
              "       'Movie_Budget', 'Movie_Popularity', 'Movie_Release_Date',\n",
              "       'Movie_Revenue', 'Movie_Runtime', 'Movie_Vote', 'Movie_Vote_Count',\n",
              "       'Movie_Homepage', 'Movie_Keywords', 'Movie_Overview',\n",
              "       'Movie_Production_House', 'Movie_Production_Country',\n",
              "       'Movie_Spoken_Language', 'Movie_Tagline', 'Movie_Cast', 'Movie_Crew',\n",
              "       'Movie_Director'],\n",
              "      dtype='object')"
            ]
          },
          "metadata": {},
          "execution_count": 23
        }
      ]
    },
    {
      "cell_type": "markdown",
      "source": [
        "GET FEATURE SELECTION"
      ],
      "metadata": {
        "id": "PopYEFxi7wqE"
      }
    },
    {
      "cell_type": "code",
      "source": [
        "df_features = df[['Movie_Genre','Movie_Keywords','Movie_Tagline','Movie_Cast','Movie_Director']].fillna('')"
      ],
      "metadata": {
        "id": "QP-DI4wb78cw"
      },
      "execution_count": 24,
      "outputs": []
    },
    {
      "cell_type": "code",
      "source": [
        "df_features.shape"
      ],
      "metadata": {
        "colab": {
          "base_uri": "https://localhost:8080/"
        },
        "id": "H3AJDjdr8L2G",
        "outputId": "bc024822-2dd7-43ca-ad88-2a1ecbccce74"
      },
      "execution_count": 25,
      "outputs": [
        {
          "output_type": "execute_result",
          "data": {
            "text/plain": [
              "(4760, 5)"
            ]
          },
          "metadata": {},
          "execution_count": 25
        }
      ]
    },
    {
      "cell_type": "code",
      "source": [
        "df_features"
      ],
      "metadata": {
        "colab": {
          "base_uri": "https://localhost:8080/",
          "height": 493
        },
        "id": "JEmM_XQc8Q9i",
        "outputId": "65182d68-646b-43c4-d428-b593f0fc8a43"
      },
      "execution_count": 26,
      "outputs": [
        {
          "output_type": "execute_result",
          "data": {
            "text/plain": [
              "                           Movie_Genre  \\\n",
              "0                         Crime Comedy   \n",
              "1     Adventure Action Science Fiction   \n",
              "2                     Animation Family   \n",
              "3                 Comedy Drama Romance   \n",
              "4                                Drama   \n",
              "...                                ...   \n",
              "4755                            Horror   \n",
              "4756               Comedy Family Drama   \n",
              "4757                    Thriller Drama   \n",
              "4758                            Family   \n",
              "4759                       Documentary   \n",
              "\n",
              "                                         Movie_Keywords  \\\n",
              "0             hotel new year's eve witch bet hotel room   \n",
              "1           android galaxy hermit death star lightsaber   \n",
              "2     father son relationship harbor underwater fish...   \n",
              "3     vietnam veteran hippie mentally disabled runni...   \n",
              "4     male nudity female nudity adultery midlife cri...   \n",
              "...                                                 ...   \n",
              "4755                                                      \n",
              "4756                                                      \n",
              "4757                     christian film sex trafficking   \n",
              "4758                                                      \n",
              "4759  music actors legendary perfomer classic hollyw...   \n",
              "\n",
              "                                          Movie_Tagline  \\\n",
              "0     Twelve outrageous guests. Four scandalous requ...   \n",
              "1          A long time ago in a galaxy far, far away...   \n",
              "2     There are 3.7 trillion fish in the ocean, they...   \n",
              "3     The world will never be the same, once you've ...   \n",
              "4                                          Look closer.   \n",
              "...                                                 ...   \n",
              "4755                The hot spot where Satan's waitin'.   \n",
              "4756           It’s better to stand out than to fit in.   \n",
              "4757           She never knew it could happen to her...   \n",
              "4758                                                      \n",
              "4759                                                      \n",
              "\n",
              "                                             Movie_Cast     Movie_Director  \n",
              "0     Tim Roth Antonio Banderas Jennifer Beals Madon...     Allison Anders  \n",
              "1     Mark Hamill Harrison Ford Carrie Fisher Peter ...       George Lucas  \n",
              "2     Albert Brooks Ellen DeGeneres Alexander Gould ...     Andrew Stanton  \n",
              "3     Tom Hanks Robin Wright Gary Sinise Mykelti Wil...    Robert Zemeckis  \n",
              "4     Kevin Spacey Annette Bening Thora Birch Wes Be...         Sam Mendes  \n",
              "...                                                 ...                ...  \n",
              "4755  Lisa Hart Carroll Michael Des Barres Paul Drak...         Pece Dingo  \n",
              "4756  Roni Akurati Brighton Sharbino Jason Lee Anjul...       Frank Lotito  \n",
              "4757  Nicole Smolen Kim Baldwin Ariana Stephens Brys...       Jaco Booyens  \n",
              "4758                                                                        \n",
              "4759                                    Tony Oppedisano  Simon Napier-Bell  \n",
              "\n",
              "[4760 rows x 5 columns]"
            ],
            "text/html": [
              "\n",
              "  <div id=\"df-194a948d-497f-4fdf-a229-7636719f8cb3\" class=\"colab-df-container\">\n",
              "    <div>\n",
              "<style scoped>\n",
              "    .dataframe tbody tr th:only-of-type {\n",
              "        vertical-align: middle;\n",
              "    }\n",
              "\n",
              "    .dataframe tbody tr th {\n",
              "        vertical-align: top;\n",
              "    }\n",
              "\n",
              "    .dataframe thead th {\n",
              "        text-align: right;\n",
              "    }\n",
              "</style>\n",
              "<table border=\"1\" class=\"dataframe\">\n",
              "  <thead>\n",
              "    <tr style=\"text-align: right;\">\n",
              "      <th></th>\n",
              "      <th>Movie_Genre</th>\n",
              "      <th>Movie_Keywords</th>\n",
              "      <th>Movie_Tagline</th>\n",
              "      <th>Movie_Cast</th>\n",
              "      <th>Movie_Director</th>\n",
              "    </tr>\n",
              "  </thead>\n",
              "  <tbody>\n",
              "    <tr>\n",
              "      <th>0</th>\n",
              "      <td>Crime Comedy</td>\n",
              "      <td>hotel new year's eve witch bet hotel room</td>\n",
              "      <td>Twelve outrageous guests. Four scandalous requ...</td>\n",
              "      <td>Tim Roth Antonio Banderas Jennifer Beals Madon...</td>\n",
              "      <td>Allison Anders</td>\n",
              "    </tr>\n",
              "    <tr>\n",
              "      <th>1</th>\n",
              "      <td>Adventure Action Science Fiction</td>\n",
              "      <td>android galaxy hermit death star lightsaber</td>\n",
              "      <td>A long time ago in a galaxy far, far away...</td>\n",
              "      <td>Mark Hamill Harrison Ford Carrie Fisher Peter ...</td>\n",
              "      <td>George Lucas</td>\n",
              "    </tr>\n",
              "    <tr>\n",
              "      <th>2</th>\n",
              "      <td>Animation Family</td>\n",
              "      <td>father son relationship harbor underwater fish...</td>\n",
              "      <td>There are 3.7 trillion fish in the ocean, they...</td>\n",
              "      <td>Albert Brooks Ellen DeGeneres Alexander Gould ...</td>\n",
              "      <td>Andrew Stanton</td>\n",
              "    </tr>\n",
              "    <tr>\n",
              "      <th>3</th>\n",
              "      <td>Comedy Drama Romance</td>\n",
              "      <td>vietnam veteran hippie mentally disabled runni...</td>\n",
              "      <td>The world will never be the same, once you've ...</td>\n",
              "      <td>Tom Hanks Robin Wright Gary Sinise Mykelti Wil...</td>\n",
              "      <td>Robert Zemeckis</td>\n",
              "    </tr>\n",
              "    <tr>\n",
              "      <th>4</th>\n",
              "      <td>Drama</td>\n",
              "      <td>male nudity female nudity adultery midlife cri...</td>\n",
              "      <td>Look closer.</td>\n",
              "      <td>Kevin Spacey Annette Bening Thora Birch Wes Be...</td>\n",
              "      <td>Sam Mendes</td>\n",
              "    </tr>\n",
              "    <tr>\n",
              "      <th>...</th>\n",
              "      <td>...</td>\n",
              "      <td>...</td>\n",
              "      <td>...</td>\n",
              "      <td>...</td>\n",
              "      <td>...</td>\n",
              "    </tr>\n",
              "    <tr>\n",
              "      <th>4755</th>\n",
              "      <td>Horror</td>\n",
              "      <td></td>\n",
              "      <td>The hot spot where Satan's waitin'.</td>\n",
              "      <td>Lisa Hart Carroll Michael Des Barres Paul Drak...</td>\n",
              "      <td>Pece Dingo</td>\n",
              "    </tr>\n",
              "    <tr>\n",
              "      <th>4756</th>\n",
              "      <td>Comedy Family Drama</td>\n",
              "      <td></td>\n",
              "      <td>It’s better to stand out than to fit in.</td>\n",
              "      <td>Roni Akurati Brighton Sharbino Jason Lee Anjul...</td>\n",
              "      <td>Frank Lotito</td>\n",
              "    </tr>\n",
              "    <tr>\n",
              "      <th>4757</th>\n",
              "      <td>Thriller Drama</td>\n",
              "      <td>christian film sex trafficking</td>\n",
              "      <td>She never knew it could happen to her...</td>\n",
              "      <td>Nicole Smolen Kim Baldwin Ariana Stephens Brys...</td>\n",
              "      <td>Jaco Booyens</td>\n",
              "    </tr>\n",
              "    <tr>\n",
              "      <th>4758</th>\n",
              "      <td>Family</td>\n",
              "      <td></td>\n",
              "      <td></td>\n",
              "      <td></td>\n",
              "      <td></td>\n",
              "    </tr>\n",
              "    <tr>\n",
              "      <th>4759</th>\n",
              "      <td>Documentary</td>\n",
              "      <td>music actors legendary perfomer classic hollyw...</td>\n",
              "      <td></td>\n",
              "      <td>Tony Oppedisano</td>\n",
              "      <td>Simon Napier-Bell</td>\n",
              "    </tr>\n",
              "  </tbody>\n",
              "</table>\n",
              "<p>4760 rows × 5 columns</p>\n",
              "</div>\n",
              "    <div class=\"colab-df-buttons\">\n",
              "\n",
              "  <div class=\"colab-df-container\">\n",
              "    <button class=\"colab-df-convert\" onclick=\"convertToInteractive('df-194a948d-497f-4fdf-a229-7636719f8cb3')\"\n",
              "            title=\"Convert this dataframe to an interactive table.\"\n",
              "            style=\"display:none;\">\n",
              "\n",
              "  <svg xmlns=\"http://www.w3.org/2000/svg\" height=\"24px\" viewBox=\"0 -960 960 960\">\n",
              "    <path d=\"M120-120v-720h720v720H120Zm60-500h600v-160H180v160Zm220 220h160v-160H400v160Zm0 220h160v-160H400v160ZM180-400h160v-160H180v160Zm440 0h160v-160H620v160ZM180-180h160v-160H180v160Zm440 0h160v-160H620v160Z\"/>\n",
              "  </svg>\n",
              "    </button>\n",
              "\n",
              "  <style>\n",
              "    .colab-df-container {\n",
              "      display:flex;\n",
              "      gap: 12px;\n",
              "    }\n",
              "\n",
              "    .colab-df-convert {\n",
              "      background-color: #E8F0FE;\n",
              "      border: none;\n",
              "      border-radius: 50%;\n",
              "      cursor: pointer;\n",
              "      display: none;\n",
              "      fill: #1967D2;\n",
              "      height: 32px;\n",
              "      padding: 0 0 0 0;\n",
              "      width: 32px;\n",
              "    }\n",
              "\n",
              "    .colab-df-convert:hover {\n",
              "      background-color: #E2EBFA;\n",
              "      box-shadow: 0px 1px 2px rgba(60, 64, 67, 0.3), 0px 1px 3px 1px rgba(60, 64, 67, 0.15);\n",
              "      fill: #174EA6;\n",
              "    }\n",
              "\n",
              "    .colab-df-buttons div {\n",
              "      margin-bottom: 4px;\n",
              "    }\n",
              "\n",
              "    [theme=dark] .colab-df-convert {\n",
              "      background-color: #3B4455;\n",
              "      fill: #D2E3FC;\n",
              "    }\n",
              "\n",
              "    [theme=dark] .colab-df-convert:hover {\n",
              "      background-color: #434B5C;\n",
              "      box-shadow: 0px 1px 3px 1px rgba(0, 0, 0, 0.15);\n",
              "      filter: drop-shadow(0px 1px 2px rgba(0, 0, 0, 0.3));\n",
              "      fill: #FFFFFF;\n",
              "    }\n",
              "  </style>\n",
              "\n",
              "    <script>\n",
              "      const buttonEl =\n",
              "        document.querySelector('#df-194a948d-497f-4fdf-a229-7636719f8cb3 button.colab-df-convert');\n",
              "      buttonEl.style.display =\n",
              "        google.colab.kernel.accessAllowed ? 'block' : 'none';\n",
              "\n",
              "      async function convertToInteractive(key) {\n",
              "        const element = document.querySelector('#df-194a948d-497f-4fdf-a229-7636719f8cb3');\n",
              "        const dataTable =\n",
              "          await google.colab.kernel.invokeFunction('convertToInteractive',\n",
              "                                                    [key], {});\n",
              "        if (!dataTable) return;\n",
              "\n",
              "        const docLinkHtml = 'Like what you see? Visit the ' +\n",
              "          '<a target=\"_blank\" href=https://colab.research.google.com/notebooks/data_table.ipynb>data table notebook</a>'\n",
              "          + ' to learn more about interactive tables.';\n",
              "        element.innerHTML = '';\n",
              "        dataTable['output_type'] = 'display_data';\n",
              "        await google.colab.output.renderOutput(dataTable, element);\n",
              "        const docLink = document.createElement('div');\n",
              "        docLink.innerHTML = docLinkHtml;\n",
              "        element.appendChild(docLink);\n",
              "      }\n",
              "    </script>\n",
              "  </div>\n",
              "\n",
              "\n",
              "<div id=\"df-3516e6e2-a9a2-471e-9cd0-402926d71e6c\">\n",
              "  <button class=\"colab-df-quickchart\" onclick=\"quickchart('df-3516e6e2-a9a2-471e-9cd0-402926d71e6c')\"\n",
              "            title=\"Suggest charts\"\n",
              "            style=\"display:none;\">\n",
              "\n",
              "<svg xmlns=\"http://www.w3.org/2000/svg\" height=\"24px\"viewBox=\"0 0 24 24\"\n",
              "     width=\"24px\">\n",
              "    <g>\n",
              "        <path d=\"M19 3H5c-1.1 0-2 .9-2 2v14c0 1.1.9 2 2 2h14c1.1 0 2-.9 2-2V5c0-1.1-.9-2-2-2zM9 17H7v-7h2v7zm4 0h-2V7h2v10zm4 0h-2v-4h2v4z\"/>\n",
              "    </g>\n",
              "</svg>\n",
              "  </button>\n",
              "\n",
              "<style>\n",
              "  .colab-df-quickchart {\n",
              "      --bg-color: #E8F0FE;\n",
              "      --fill-color: #1967D2;\n",
              "      --hover-bg-color: #E2EBFA;\n",
              "      --hover-fill-color: #174EA6;\n",
              "      --disabled-fill-color: #AAA;\n",
              "      --disabled-bg-color: #DDD;\n",
              "  }\n",
              "\n",
              "  [theme=dark] .colab-df-quickchart {\n",
              "      --bg-color: #3B4455;\n",
              "      --fill-color: #D2E3FC;\n",
              "      --hover-bg-color: #434B5C;\n",
              "      --hover-fill-color: #FFFFFF;\n",
              "      --disabled-bg-color: #3B4455;\n",
              "      --disabled-fill-color: #666;\n",
              "  }\n",
              "\n",
              "  .colab-df-quickchart {\n",
              "    background-color: var(--bg-color);\n",
              "    border: none;\n",
              "    border-radius: 50%;\n",
              "    cursor: pointer;\n",
              "    display: none;\n",
              "    fill: var(--fill-color);\n",
              "    height: 32px;\n",
              "    padding: 0;\n",
              "    width: 32px;\n",
              "  }\n",
              "\n",
              "  .colab-df-quickchart:hover {\n",
              "    background-color: var(--hover-bg-color);\n",
              "    box-shadow: 0 1px 2px rgba(60, 64, 67, 0.3), 0 1px 3px 1px rgba(60, 64, 67, 0.15);\n",
              "    fill: var(--button-hover-fill-color);\n",
              "  }\n",
              "\n",
              "  .colab-df-quickchart-complete:disabled,\n",
              "  .colab-df-quickchart-complete:disabled:hover {\n",
              "    background-color: var(--disabled-bg-color);\n",
              "    fill: var(--disabled-fill-color);\n",
              "    box-shadow: none;\n",
              "  }\n",
              "\n",
              "  .colab-df-spinner {\n",
              "    border: 2px solid var(--fill-color);\n",
              "    border-color: transparent;\n",
              "    border-bottom-color: var(--fill-color);\n",
              "    animation:\n",
              "      spin 1s steps(1) infinite;\n",
              "  }\n",
              "\n",
              "  @keyframes spin {\n",
              "    0% {\n",
              "      border-color: transparent;\n",
              "      border-bottom-color: var(--fill-color);\n",
              "      border-left-color: var(--fill-color);\n",
              "    }\n",
              "    20% {\n",
              "      border-color: transparent;\n",
              "      border-left-color: var(--fill-color);\n",
              "      border-top-color: var(--fill-color);\n",
              "    }\n",
              "    30% {\n",
              "      border-color: transparent;\n",
              "      border-left-color: var(--fill-color);\n",
              "      border-top-color: var(--fill-color);\n",
              "      border-right-color: var(--fill-color);\n",
              "    }\n",
              "    40% {\n",
              "      border-color: transparent;\n",
              "      border-right-color: var(--fill-color);\n",
              "      border-top-color: var(--fill-color);\n",
              "    }\n",
              "    60% {\n",
              "      border-color: transparent;\n",
              "      border-right-color: var(--fill-color);\n",
              "    }\n",
              "    80% {\n",
              "      border-color: transparent;\n",
              "      border-right-color: var(--fill-color);\n",
              "      border-bottom-color: var(--fill-color);\n",
              "    }\n",
              "    90% {\n",
              "      border-color: transparent;\n",
              "      border-bottom-color: var(--fill-color);\n",
              "    }\n",
              "  }\n",
              "</style>\n",
              "\n",
              "  <script>\n",
              "    async function quickchart(key) {\n",
              "      const quickchartButtonEl =\n",
              "        document.querySelector('#' + key + ' button');\n",
              "      quickchartButtonEl.disabled = true;  // To prevent multiple clicks.\n",
              "      quickchartButtonEl.classList.add('colab-df-spinner');\n",
              "      try {\n",
              "        const charts = await google.colab.kernel.invokeFunction(\n",
              "            'suggestCharts', [key], {});\n",
              "      } catch (error) {\n",
              "        console.error('Error during call to suggestCharts:', error);\n",
              "      }\n",
              "      quickchartButtonEl.classList.remove('colab-df-spinner');\n",
              "      quickchartButtonEl.classList.add('colab-df-quickchart-complete');\n",
              "    }\n",
              "    (() => {\n",
              "      let quickchartButtonEl =\n",
              "        document.querySelector('#df-3516e6e2-a9a2-471e-9cd0-402926d71e6c button');\n",
              "      quickchartButtonEl.style.display =\n",
              "        google.colab.kernel.accessAllowed ? 'block' : 'none';\n",
              "    })();\n",
              "  </script>\n",
              "</div>\n",
              "\n",
              "  <div id=\"id_ffed7c18-46d0-45d2-9ccb-710cee9ff3b4\">\n",
              "    <style>\n",
              "      .colab-df-generate {\n",
              "        background-color: #E8F0FE;\n",
              "        border: none;\n",
              "        border-radius: 50%;\n",
              "        cursor: pointer;\n",
              "        display: none;\n",
              "        fill: #1967D2;\n",
              "        height: 32px;\n",
              "        padding: 0 0 0 0;\n",
              "        width: 32px;\n",
              "      }\n",
              "\n",
              "      .colab-df-generate:hover {\n",
              "        background-color: #E2EBFA;\n",
              "        box-shadow: 0px 1px 2px rgba(60, 64, 67, 0.3), 0px 1px 3px 1px rgba(60, 64, 67, 0.15);\n",
              "        fill: #174EA6;\n",
              "      }\n",
              "\n",
              "      [theme=dark] .colab-df-generate {\n",
              "        background-color: #3B4455;\n",
              "        fill: #D2E3FC;\n",
              "      }\n",
              "\n",
              "      [theme=dark] .colab-df-generate:hover {\n",
              "        background-color: #434B5C;\n",
              "        box-shadow: 0px 1px 3px 1px rgba(0, 0, 0, 0.15);\n",
              "        filter: drop-shadow(0px 1px 2px rgba(0, 0, 0, 0.3));\n",
              "        fill: #FFFFFF;\n",
              "      }\n",
              "    </style>\n",
              "    <button class=\"colab-df-generate\" onclick=\"generateWithVariable('df_features')\"\n",
              "            title=\"Generate code using this dataframe.\"\n",
              "            style=\"display:none;\">\n",
              "\n",
              "  <svg xmlns=\"http://www.w3.org/2000/svg\" height=\"24px\"viewBox=\"0 0 24 24\"\n",
              "       width=\"24px\">\n",
              "    <path d=\"M7,19H8.4L18.45,9,17,7.55,7,17.6ZM5,21V16.75L18.45,3.32a2,2,0,0,1,2.83,0l1.4,1.43a1.91,1.91,0,0,1,.58,1.4,1.91,1.91,0,0,1-.58,1.4L9.25,21ZM18.45,9,17,7.55Zm-12,3A5.31,5.31,0,0,0,4.9,8.1,5.31,5.31,0,0,0,1,6.5,5.31,5.31,0,0,0,4.9,4.9,5.31,5.31,0,0,0,6.5,1,5.31,5.31,0,0,0,8.1,4.9,5.31,5.31,0,0,0,12,6.5,5.46,5.46,0,0,0,6.5,12Z\"/>\n",
              "  </svg>\n",
              "    </button>\n",
              "    <script>\n",
              "      (() => {\n",
              "      const buttonEl =\n",
              "        document.querySelector('#id_ffed7c18-46d0-45d2-9ccb-710cee9ff3b4 button.colab-df-generate');\n",
              "      buttonEl.style.display =\n",
              "        google.colab.kernel.accessAllowed ? 'block' : 'none';\n",
              "\n",
              "      buttonEl.onclick = () => {\n",
              "        google.colab.notebook.generateWithVariable('df_features');\n",
              "      }\n",
              "      })();\n",
              "    </script>\n",
              "  </div>\n",
              "\n",
              "    </div>\n",
              "  </div>\n"
            ],
            "application/vnd.google.colaboratory.intrinsic+json": {
              "type": "dataframe",
              "variable_name": "df_features",
              "summary": "{\n  \"name\": \"df_features\",\n  \"rows\": 4760,\n  \"fields\": [\n    {\n      \"column\": \"Movie_Genre\",\n      \"properties\": {\n        \"dtype\": \"category\",\n        \"num_unique_values\": 1164,\n        \"samples\": [\n          \"Family Animation Adventure\",\n          \"Adventure Science Fiction Action\",\n          \"Action Crime Drama Romance Thriller\"\n        ],\n        \"semantic_type\": \"\",\n        \"description\": \"\"\n      }\n    },\n    {\n      \"column\": \"Movie_Keywords\",\n      \"properties\": {\n        \"dtype\": \"string\",\n        \"num_unique_values\": 4203,\n        \"samples\": [\n          \"canada nazis sequel spin off ancient evil\",\n          \"sex professor wedding woman director columbia university\",\n          \"prophecy sea beach gold small town\"\n        ],\n        \"semantic_type\": \"\",\n        \"description\": \"\"\n      }\n    },\n    {\n      \"column\": \"Movie_Tagline\",\n      \"properties\": {\n        \"dtype\": \"string\",\n        \"num_unique_values\": 3928,\n        \"samples\": [\n          \"The messenger must be silenced.\",\n          \"It's not the house that's haunted.\",\n          \"The final hunt begins.\"\n        ],\n        \"semantic_type\": \"\",\n        \"description\": \"\"\n      }\n    },\n    {\n      \"column\": \"Movie_Cast\",\n      \"properties\": {\n        \"dtype\": \"string\",\n        \"num_unique_values\": 4715,\n        \"samples\": [\n          \"Robin Tunney Fairuza Balk Neve Campbell Rachel True Skeet Ulrich\",\n          \"Peter Sellers Christopher Plummer Herbert Lom Catherine Schell Peter Arne\",\n          \"John Wayne Laraine Day Cedric Hardwicke Judith Anderson Anthony Quinn\"\n        ],\n        \"semantic_type\": \"\",\n        \"description\": \"\"\n      }\n    },\n    {\n      \"column\": \"Movie_Director\",\n      \"properties\": {\n        \"dtype\": \"category\",\n        \"num_unique_values\": 2332,\n        \"samples\": [\n          \"Rob McKittrick\",\n          \"Terron R. Parsons\",\n          \"Cyrus Nowrasteh\"\n        ],\n        \"semantic_type\": \"\",\n        \"description\": \"\"\n      }\n    }\n  ]\n}"
            }
          },
          "metadata": {},
          "execution_count": 26
        }
      ]
    },
    {
      "cell_type": "code",
      "source": [
        "x = df_features['Movie_Genre'] + ' ' + df_features['Movie_Keywords'] + ' ' + df_features['Movie_Tagline'] + ' ' + df_features['Movie_Cast'] + ' ' + df_features['Movie_Director']"
      ],
      "metadata": {
        "id": "aXbCoiS98RCS"
      },
      "execution_count": 27,
      "outputs": []
    },
    {
      "cell_type": "code",
      "source": [
        "x.shape"
      ],
      "metadata": {
        "colab": {
          "base_uri": "https://localhost:8080/"
        },
        "id": "GoTxresR8wCK",
        "outputId": "b96d5636-d38a-440f-971a-016dd329a7a2"
      },
      "execution_count": 28,
      "outputs": [
        {
          "output_type": "execute_result",
          "data": {
            "text/plain": [
              "(4760,)"
            ]
          },
          "metadata": {},
          "execution_count": 28
        }
      ]
    },
    {
      "cell_type": "markdown",
      "source": [
        "GET FEATURES TEXT CONVERSION TO TOKEN"
      ],
      "metadata": {
        "id": "1XTK-MsoZCGC"
      }
    },
    {
      "cell_type": "code",
      "source": [
        "from sklearn.feature_extraction.text import TfidfVectorizer"
      ],
      "metadata": {
        "id": "Rmyl08WHZMIT"
      },
      "execution_count": 29,
      "outputs": []
    },
    {
      "cell_type": "code",
      "source": [
        "tfidf = TfidfVectorizer()"
      ],
      "metadata": {
        "id": "ZqKG60s9ZV8j"
      },
      "execution_count": 30,
      "outputs": []
    },
    {
      "cell_type": "code",
      "source": [
        "\n",
        "x = tfidf.fit_transform(x)"
      ],
      "metadata": {
        "id": "tL2bkP9kZZgE"
      },
      "execution_count": 32,
      "outputs": []
    },
    {
      "cell_type": "code",
      "source": [
        "x.shape"
      ],
      "metadata": {
        "colab": {
          "base_uri": "https://localhost:8080/"
        },
        "id": "nojD-75dZZns",
        "outputId": "7fe87a99-acbf-43ff-ce62-69244274136c"
      },
      "execution_count": 34,
      "outputs": [
        {
          "output_type": "execute_result",
          "data": {
            "text/plain": [
              "(4760, 17258)"
            ]
          },
          "metadata": {},
          "execution_count": 34
        }
      ]
    },
    {
      "cell_type": "code",
      "source": [
        "print(x)"
      ],
      "metadata": {
        "colab": {
          "base_uri": "https://localhost:8080/"
        },
        "id": "gNRD6_KYa8nD",
        "outputId": "d047cd70-2eee-4b20-d000-47448da349a9"
      },
      "execution_count": 35,
      "outputs": [
        {
          "output_type": "stream",
          "name": "stdout",
          "text": [
            "  (0, 617)\t0.1633382144407513\n",
            "  (0, 492)\t0.1432591540388685\n",
            "  (0, 15413)\t0.1465525095337543\n",
            "  (0, 9675)\t0.14226057295252661\n",
            "  (0, 9465)\t0.1659841367820977\n",
            "  (0, 1390)\t0.16898383612799558\n",
            "  (0, 7825)\t0.09799561597509843\n",
            "  (0, 1214)\t0.13865857545144072\n",
            "  (0, 729)\t0.13415063359531618\n",
            "  (0, 13093)\t0.1432591540388685\n",
            "  (0, 15355)\t0.10477815972666779\n",
            "  (0, 9048)\t0.0866842116160778\n",
            "  (0, 11161)\t0.06250380151644369\n",
            "  (0, 16773)\t0.17654247479915475\n",
            "  (0, 5612)\t0.08603537588547631\n",
            "  (0, 16735)\t0.10690083751525419\n",
            "  (0, 7904)\t0.13348000542112332\n",
            "  (0, 15219)\t0.09800472886453934\n",
            "  (0, 11242)\t0.07277788238484746\n",
            "  (0, 3878)\t0.11998399582562203\n",
            "  (0, 5499)\t0.11454057510303811\n",
            "  (0, 7071)\t0.19822417598406614\n",
            "  (0, 7454)\t0.14745635785412262\n",
            "  (0, 1495)\t0.19712637387361423\n",
            "  (0, 9206)\t0.15186283580984414\n",
            "  :\t:\n",
            "  (4757, 5455)\t0.12491480594769522\n",
            "  (4757, 2967)\t0.16273475835631626\n",
            "  (4757, 8464)\t0.23522565554066333\n",
            "  (4757, 6938)\t0.17088173678136628\n",
            "  (4757, 8379)\t0.17480603856721913\n",
            "  (4757, 15303)\t0.07654356007668191\n",
            "  (4757, 15384)\t0.09754322497537371\n",
            "  (4757, 7649)\t0.11479421494340192\n",
            "  (4757, 10896)\t0.14546473055066447\n",
            "  (4757, 4494)\t0.05675298448720501\n",
            "  (4758, 5238)\t1.0\n",
            "  (4759, 11264)\t0.33947721804318337\n",
            "  (4759, 11708)\t0.33947721804318337\n",
            "  (4759, 205)\t0.3237911628497312\n",
            "  (4759, 8902)\t0.3040290704566037\n",
            "  (4759, 14062)\t0.3237911628497312\n",
            "  (4759, 3058)\t0.2812896191863103\n",
            "  (4759, 7130)\t0.26419662449963793\n",
            "  (4759, 10761)\t0.3126617295732147\n",
            "  (4759, 4358)\t0.18306542312175342\n",
            "  (4759, 14051)\t0.20084315377640435\n",
            "  (4759, 5690)\t0.19534291014627303\n",
            "  (4759, 15431)\t0.19628653185946862\n",
            "  (4759, 1490)\t0.21197258705292082\n",
            "  (4759, 10666)\t0.15888268987343043\n"
          ]
        }
      ]
    },
    {
      "cell_type": "markdown",
      "source": [
        "Code Similarity score using cosine similiarity"
      ],
      "metadata": {
        "id": "K5x-WJETbSPs"
      }
    },
    {
      "cell_type": "code",
      "source": [
        "from sklearn.metrics.pairwise import cosine_similarity"
      ],
      "metadata": {
        "id": "fPkTomBYbZ_u"
      },
      "execution_count": 36,
      "outputs": []
    },
    {
      "cell_type": "code",
      "source": [
        "similarity_score = cosine_similarity(x)"
      ],
      "metadata": {
        "id": "1uK4TkUta8uo"
      },
      "execution_count": 37,
      "outputs": []
    },
    {
      "cell_type": "code",
      "source": [
        "similarity_score"
      ],
      "metadata": {
        "colab": {
          "base_uri": "https://localhost:8080/"
        },
        "id": "htGxQ-b0bmzp",
        "outputId": "f708996c-6926-4397-aa5b-58da58bbd0e9"
      },
      "execution_count": 38,
      "outputs": [
        {
          "output_type": "execute_result",
          "data": {
            "text/plain": [
              "array([[1.        , 0.01351235, 0.03570468, ..., 0.        , 0.        ,\n",
              "        0.        ],\n",
              "       [0.01351235, 1.        , 0.00806674, ..., 0.        , 0.        ,\n",
              "        0.        ],\n",
              "       [0.03570468, 0.00806674, 1.        , ..., 0.        , 0.08014876,\n",
              "        0.        ],\n",
              "       ...,\n",
              "       [0.        , 0.        , 0.        , ..., 1.        , 0.        ,\n",
              "        0.        ],\n",
              "       [0.        , 0.        , 0.08014876, ..., 0.        , 1.        ,\n",
              "        0.        ],\n",
              "       [0.        , 0.        , 0.        , ..., 0.        , 0.        ,\n",
              "        1.        ]])"
            ]
          },
          "metadata": {},
          "execution_count": 38
        }
      ]
    },
    {
      "cell_type": "code",
      "source": [
        "similarity_score.shape"
      ],
      "metadata": {
        "colab": {
          "base_uri": "https://localhost:8080/"
        },
        "id": "nMq6ZU_zbm9E",
        "outputId": "5eb64580-45dc-4de9-892a-31fa940e60dc"
      },
      "execution_count": 39,
      "outputs": [
        {
          "output_type": "execute_result",
          "data": {
            "text/plain": [
              "(4760, 4760)"
            ]
          },
          "metadata": {},
          "execution_count": 39
        }
      ]
    },
    {
      "cell_type": "markdown",
      "source": [
        "Give movie name as input from user and validate for closet spelling\n"
      ],
      "metadata": {
        "id": "W2HgILP3b1VW"
      }
    },
    {
      "cell_type": "code",
      "source": [
        "Favourite_movie_name = input('Enter your favourite movie name : ')"
      ],
      "metadata": {
        "colab": {
          "base_uri": "https://localhost:8080/"
        },
        "id": "xCou90r_cFTX",
        "outputId": "b9737892-d4a1-4e2f-e2e8-f4aae8f4b4ce"
      },
      "execution_count": 60,
      "outputs": [
        {
          "name": "stdout",
          "output_type": "stream",
          "text": [
            "Enter your favourite movie name : deadpool\n"
          ]
        }
      ]
    },
    {
      "cell_type": "code",
      "source": [
        "ALL_MOVIES_TITLE_LIST = df['Movie_Title'].tolist()"
      ],
      "metadata": {
        "id": "xulciVqEceGG"
      },
      "execution_count": 61,
      "outputs": []
    },
    {
      "cell_type": "code",
      "source": [
        "import difflib"
      ],
      "metadata": {
        "id": "x9bq4TXDdQLX"
      },
      "execution_count": 62,
      "outputs": []
    },
    {
      "cell_type": "code",
      "source": [
        "Favourite_movie_name = difflib.get_close_matches(Favourite_movie_name,ALL_MOVIES_TITLE_LIST)\n",
        "print(Favourite_movie_name)"
      ],
      "metadata": {
        "colab": {
          "base_uri": "https://localhost:8080/"
        },
        "id": "YYmexYoQdWuA",
        "outputId": "4ec64c52-1243-4799-f861-06510a5fb279"
      },
      "execution_count": 63,
      "outputs": [
        {
          "output_type": "stream",
          "name": "stdout",
          "text": [
            "['Deadpool', 'Tadpole']\n"
          ]
        }
      ]
    },
    {
      "cell_type": "code",
      "source": [
        "index_of_close_match = df[df.Movie_Title == Favourite_movie_name[0]].index[0]\n",
        "print(index_of_close_match)"
      ],
      "metadata": {
        "colab": {
          "base_uri": "https://localhost:8080/"
        },
        "id": "t5hLtAKudW7w",
        "outputId": "bbfc5080-50ff-4026-910a-ccdffefb2af1"
      },
      "execution_count": 64,
      "outputs": [
        {
          "output_type": "stream",
          "name": "stdout",
          "text": [
            "4564\n"
          ]
        }
      ]
    },
    {
      "cell_type": "code",
      "source": [
        "#getting a list of similar movie\n",
        "Recommendation_score = list(enumerate(similarity_score[index_of_close_match]))\n",
        "print(Recommendation_score)"
      ],
      "metadata": {
        "colab": {
          "base_uri": "https://localhost:8080/"
        },
        "id": "aY0_V4xUdQa5",
        "outputId": "3c874709-6511-4eac-8485-79780973d38c"
      },
      "execution_count": 65,
      "outputs": [
        {
          "output_type": "stream",
          "name": "stdout",
          "text": [
            "[(0, 0.03622061598629978), (1, 0.011368359509130618), (2, 0.003841327708903179), (3, 0.04153465657621692), (4, 0.0), (5, 0.0), (6, 0.013694070798498806), (7, 0.009647950914200091), (8, 0.0), (9, 0.02266147687021014), (10, 0.010620929304677994), (11, 0.004635933350825679), (12, 0.004780719661940975), (13, 0.0), (14, 0.007592963458285671), (15, 0.006718193580401703), (16, 0.0), (17, 0.013520177554841879), (18, 0.026972522201943936), (19, 0.020994574125352335), (20, 0.0), (21, 0.028702336673083986), (22, 0.011026009862984748), (23, 0.0), (24, 0.0), (25, 0.01288896444842453), (26, 0.0), (27, 0.02878056508263785), (28, 0.02920627355938733), (29, 0.011199348919114659), (30, 0.0), (31, 0.0), (32, 0.0175487639204366), (33, 0.00395637344944607), (34, 0.02184154573153739), (35, 0.05268213218886251), (36, 0.018245572741878116), (37, 0.02387939860079419), (38, 0.02704145476975925), (39, 0.02177035622071744), (40, 0.01861455446733466), (41, 0.04048060351575459), (42, 0.003908342530719645), (43, 0.015749465786458437), (44, 0.01063276614101371), (45, 0.01474477196298283), (46, 0.011829725935493444), (47, 0.0), (48, 0.010981446445000275), (49, 0.003703634093193249), (50, 0.0037734171565215807), (51, 0.0), (52, 0.0), (53, 0.0513958616943563), (54, 0.012925579379594505), (55, 0.03702992962933189), (56, 0.05261372112865705), (57, 0.03720427742184532), (58, 0.009822877242535315), (59, 0.03813812343473354), (60, 0.013328801080069681), (61, 0.0), (62, 0.016083104250038928), (63, 0.015926374520342214), (64, 0.0037495220578226615), (65, 0.053923527789337615), (66, 0.0), (67, 0.06905171961062055), (68, 0.005821941665709986), (69, 0.01397505908443051), (70, 0.0), (71, 0.020968897548038178), (72, 0.00434176460365412), (73, 0.009574491858884303), (74, 0.009522537726355662), (75, 0.02112001156944221), (76, 0.01253659874326942), (77, 0.0), (78, 0.02666870058142903), (79, 0.018939403795266086), (80, 0.0157639954139697), (81, 0.02250221495977118), (82, 0.020748517696985998), (83, 0.01191752450224889), (84, 0.009758282280915027), (85, 0.007006958318948319), (86, 0.021892709902831407), (87, 0.0), (88, 0.11622071076982729), (89, 0.0), (90, 0.03465469985162977), (91, 0.013753943986797596), (92, 0.004831010967801814), (93, 0.01219046619532042), (94, 0.01579933444980575), (95, 0.013092483127421742), (96, 0.004143414097164045), (97, 0.003928721167374903), (98, 0.0), (99, 0.0), (100, 0.0), (101, 0.03206523711321423), (102, 0.01088838946446079), (103, 0.0033095148922532985), (104, 0.03468933316529346), (105, 0.004439964593253697), (106, 0.022261474141801782), (107, 0.04115288281399813), (108, 0.04962730201647188), (109, 0.007261582866662132), (110, 0.04815902857933394), (111, 0.0), (112, 0.013816951611880636), (113, 0.012273754369995888), (114, 0.0038246117047677055), (115, 0.003907032206851712), (116, 0.0), (117, 0.022367040684028186), (118, 0.013059453009099622), (119, 0.028417304624007676), (120, 0.0), (121, 0.009075916764036211), (122, 0.03215961078864596), (123, 0.010903973701167146), (124, 0.04221520816096312), (125, 0.014622897086536833), (126, 0.019311804281054862), (127, 0.0), (128, 0.006089934219103377), (129, 0.002668187437742221), (130, 0.04354324538405941), (131, 0.011915009411292324), (132, 0.0), (133, 0.0), (134, 0.0039032869512356703), (135, 0.014430774993114754), (136, 0.0), (137, 0.012108049808826592), (138, 0.03558693437598195), (139, 0.010446191888040648), (140, 0.0), (141, 0.0041969037444611), (142, 0.006026194684453064), (143, 0.005758636880334923), (144, 0.012138558192058172), (145, 0.0), (146, 0.05538557912090212), (147, 0.024009770735667676), (148, 0.018005291086403252), (149, 0.008154601299872081), (150, 0.01855321211223829), (151, 0.013147709081660377), (152, 0.016707694507645036), (153, 0.052510384490109474), (154, 0.0), (155, 0.005435167194706146), (156, 0.02067969149053846), (157, 0.003639069577790128), (158, 0.0), (159, 0.01700452025746932), (160, 0.005031688337247754), (161, 0.016528356484460445), (162, 0.04326146159512091), (163, 0.0), (164, 0.006930686851999794), (165, 0.03837568619275481), (166, 0.003953732755706122), (167, 0.009539786337627063), (168, 0.009242894132200766), (169, 0.008152546209665794), (170, 0.013086383879919589), (171, 0.01633114698183248), (172, 0.07045916783681092), (173, 0.007633641812165399), (174, 0.010968593006355215), (175, 0.01315704929365371), (176, 0.0), (177, 0.013842012418674977), (178, 0.0), (179, 0.03309054570108294), (180, 0.005866138988369872), (181, 0.005453001028813988), (182, 0.027514111512038208), (183, 0.006679946742458744), (184, 0.02476990222945555), (185, 0.017341277390447846), (186, 0.05386696907317571), (187, 0.04168664202593659), (188, 0.003796034762224881), (189, 0.0178160064925433), (190, 0.01938089111011264), (191, 0.021697239811990544), (192, 0.004841999093681195), (193, 0.03607864589265948), (194, 0.0), (195, 0.006974572914333652), (196, 0.01907608791178981), (197, 0.010485102914098888), (198, 0.0), (199, 0.006641344504299464), (200, 0.0), (201, 0.017950030204322925), (202, 0.008382361973702027), (203, 0.0), (204, 0.00399187659382237), (205, 0.004046006325289967), (206, 0.024091685260774355), (207, 0.023119059196578102), (208, 0.021245319854364075), (209, 0.011867012660089483), (210, 0.005916348086305149), (211, 0.012667157941256774), (212, 0.08311803287898088), (213, 0.0), (214, 0.015556233391059363), (215, 0.054628723808591205), (216, 0.004641289094178791), (217, 0.01869979982656924), (218, 0.015623488051104303), (219, 0.02129950834657464), (220, 0.015269683007040666), (221, 0.008512994511599455), (222, 0.024642537425150997), (223, 0.00959711320896368), (224, 0.0), (225, 0.013937461923900083), (226, 0.0), (227, 0.0), (228, 0.006781083401301822), (229, 0.0), (230, 0.01243916282171885), (231, 0.1497990663331261), (232, 0.026365824948338466), (233, 0.027833179514045722), (234, 0.014807066381168165), (235, 0.030294503950799075), (236, 0.0), (237, 0.02653286073716324), (238, 0.0038971272951319495), (239, 0.012426063193984534), (240, 0.004143760123669903), (241, 0.007220385060681727), (242, 0.03223651797805152), (243, 0.011431557978926369), (244, 0.0053702457817244855), (245, 0.003919327994068699), (246, 0.008127022786286272), (247, 0.03455132135895103), (248, 0.006738188957110655), (249, 0.011778464390620868), (250, 0.03042321506906793), (251, 0.013917025543869251), (252, 0.019314931032462124), (253, 0.0041775575261554935), (254, 0.025032436826372198), (255, 0.010340715357288177), (256, 0.0), (257, 0.0063195765221950966), (258, 0.012814551745810962), (259, 0.014360497292708224), (260, 0.01631834869196618), (261, 0.050776399937493555), (262, 0.023858844186353086), (263, 0.035262765803784395), (264, 0.021054452196281163), (265, 0.0), (266, 0.020161954013730138), (267, 0.0), (268, 0.0), (269, 0.041234120309652275), (270, 0.0), (271, 0.009789112274053706), (272, 0.004475488894101916), (273, 0.034478727378771216), (274, 0.08064562770402783), (275, 0.0), (276, 0.0), (277, 0.04059893423090112), (278, 0.0032908683707129896), (279, 0.02741803756327655), (280, 0.011729728960635986), (281, 0.0), (282, 0.007175536331209768), (283, 0.01062709854731314), (284, 0.01640761492043658), (285, 0.0), (286, 0.006211207702682361), (287, 0.019436454830129353), (288, 0.02459822423236787), (289, 0.010215256922170433), (290, 0.010386020345682995), (291, 0.004080664025481166), (292, 0.023758817418307016), (293, 0.00318314476063041), (294, 0.013698630603182441), (295, 0.010379616041430673), (296, 0.015032176659876544), (297, 0.017130143280492907), (298, 0.036944838170878236), (299, 0.03536142201699212), (300, 0.013834972274282792), (301, 0.020096971604977663), (302, 0.0), (303, 0.0059569144660088875), (304, 0.0), (305, 0.017187839125355216), (306, 0.019976267321313933), (307, 0.028135046363566417), (308, 0.022888101064087726), (309, 0.012914703823258124), (310, 0.02083105589741996), (311, 0.0035864081055973305), (312, 0.040383259195326676), (313, 0.007548412788151075), (314, 0.010669289629423628), (315, 0.012766854129310681), (316, 0.011795981141954084), (317, 0.012755466984500752), (318, 0.004175688595385368), (319, 0.014965080671449676), (320, 0.013343150637738346), (321, 0.019423177617683543), (322, 0.019705442862457262), (323, 0.011385003424798815), (324, 0.025058786361346154), (325, 0.003610697006543093), (326, 0.0), (327, 0.021967308182693324), (328, 0.028175409339960315), (329, 0.01413141418491433), (330, 0.026317444895733996), (331, 0.007589942325059303), (332, 0.015017897140115737), (333, 0.037566400815713774), (334, 0.011493618714951376), (335, 0.004138749560082063), (336, 0.01957666140769372), (337, 0.004063253494203942), (338, 0.011654934901829363), (339, 0.01325372381853925), (340, 0.015602770750757586), (341, 0.017483261331679364), (342, 0.03755211815365239), (343, 0.019188549413431424), (344, 0.012745874050557656), (345, 0.015057308241753286), (346, 0.025295144773069354), (347, 0.004491985916144702), (348, 0.004431680211438656), (349, 0.0), (350, 0.010135994589769756), (351, 0.0029151701088909587), (352, 0.004068900850543138), (353, 0.04154130106010159), (354, 0.010762362706600396), (355, 0.01935478010564765), (356, 0.031239245607488773), (357, 0.011023709820784391), (358, 0.014167728254529749), (359, 0.033298747514611815), (360, 0.0), (361, 0.01649168932668295), (362, 0.012210239216157034), (363, 0.0719755885340293), (364, 0.01472250683945773), (365, 0.012281063576008406), (366, 0.003116029966199473), (367, 0.0036604079630503613), (368, 0.018648438489156538), (369, 0.006350516172871691), (370, 0.0), (371, 0.004926254887632853), (372, 0.008342516999051528), (373, 0.0), (374, 0.01437248241608993), (375, 0.005425200523461575), (376, 0.0), (377, 0.003936913905547626), (378, 0.0), (379, 0.01172128804025702), (380, 0.005142999363190701), (381, 0.009568278396180371), (382, 0.011706521362924589), (383, 0.00340539502063838), (384, 0.028481654094829757), (385, 0.053071250182479955), (386, 0.013300485918987389), (387, 0.004222175702292764), (388, 0.0042262118877505715), (389, 0.0), (390, 0.012250075472565347), (391, 0.031107984297648904), (392, 0.030556265537445882), (393, 0.0033837190216391287), (394, 0.004691374833800392), (395, 0.0), (396, 0.0), (397, 0.04906618544202885), (398, 0.03635094103129082), (399, 0.0), (400, 0.0), (401, 0.01120860298477046), (402, 0.00887921052543667), (403, 0.013762587409605294), (404, 0.003708070175946467), (405, 0.004096269126117837), (406, 0.007431263623276184), (407, 0.022464483881994565), (408, 0.004232631602752133), (409, 0.014303381494039206), (410, 0.0041649780847089375), (411, 0.009147810782621356), (412, 0.013265456212570506), (413, 0.03779432075137426), (414, 0.04402795321731867), (415, 0.004035841101861157), (416, 0.011105326277974935), (417, 0.028702530500095646), (418, 0.04322703578466066), (419, 0.00815208068196948), (420, 0.004813943895567022), (421, 0.012015334398011212), (422, 0.04851375092788354), (423, 0.0), (424, 0.019534609741928152), (425, 0.019517661295320506), (426, 0.01609207239425914), (427, 0.007959110025764743), (428, 0.021194467463717725), (429, 0.0), (430, 0.0), (431, 0.0045061727496249005), (432, 0.01932083909311344), (433, 0.058868961289282914), (434, 0.0), (435, 0.00445131690959449), (436, 0.022900304846877054), (437, 0.013822368062651856), (438, 0.0), (439, 0.004450480522986383), (440, 0.00444739596100022), (441, 0.01341793663066471), (442, 0.025235449335643177), (443, 0.0), (444, 0.0), (445, 0.006235311995727927), (446, 0.007105257225487441), (447, 0.0), (448, 0.005167363428789428), (449, 0.006587416579137679), (450, 0.0), (451, 0.005513254692088585), (452, 0.030673155866144716), (453, 0.0), (454, 0.007701120959685949), (455, 0.016115936392355028), (456, 0.008096545896545513), (457, 0.00664326240088952), (458, 0.006125263098096818), (459, 0.0037433671841569146), (460, 0.008912036244497752), (461, 0.013096411012798116), (462, 0.0), (463, 0.027798389625074683), (464, 0.007199532314818958), (465, 0.013299265121529078), (466, 0.0), (467, 0.012546419777583686), (468, 0.018725902744983258), (469, 0.0179177720676912), (470, 0.013471683133375257), (471, 0.003568241454183569), (472, 0.01955916146906089), (473, 0.0034568695879082603), (474, 0.004014890643786666), (475, 0.0025462888706954483), (476, 0.0), (477, 0.02887834353314766), (478, 0.0), (479, 0.026500881096920753), (480, 0.05259451484776333), (481, 0.0), (482, 0.007602462177357575), (483, 0.02870607399593009), (484, 0.013286108609462496), (485, 0.0), (486, 0.004299193133636807), (487, 0.0), (488, 0.0), (489, 0.0), (490, 0.0), (491, 0.05717405260512569), (492, 0.038902590559833375), (493, 0.0), (494, 0.0093532592996694), (495, 0.008814876709919438), (496, 0.03476937858620992), (497, 0.01871038091085376), (498, 0.020044596067544447), (499, 0.0), (500, 0.014082972833474055), (501, 0.011429155635045152), (502, 0.0), (503, 0.003716915084750099), (504, 0.008347951645378793), (505, 0.0036298548653699854), (506, 0.07240027896942872), (507, 0.007791406508148255), (508, 0.009541058519444414), (509, 0.0), (510, 0.006632755222540549), (511, 0.017344211193853064), (512, 0.01184558383253654), (513, 0.005967457535703236), (514, 0.030582535510067087), (515, 0.02886400362800455), (516, 0.027601299123990435), (517, 0.005704755582797871), (518, 0.0), (519, 0.017668971396115927), (520, 0.0033385780909941506), (521, 0.015001834199716447), (522, 0.022045793916490856), (523, 0.07535029350111283), (524, 0.008213855816747797), (525, 0.008253379449820311), (526, 0.033750885734399855), (527, 0.011532420796044255), (528, 0.016850252149746003), (529, 0.00834909107052931), (530, 0.008813779984653656), (531, 0.00917524006206842), (532, 0.008645589395947728), (533, 0.02978283214712823), (534, 0.005421819762502289), (535, 0.0037701767809612003), (536, 0.004066396747306456), (537, 0.022778674420181718), (538, 0.02255420074768033), (539, 0.012454705361577511), (540, 0.020010467448513793), (541, 0.0), (542, 0.037176404092906), (543, 0.0), (544, 0.023047153402246844), (545, 0.013647792971059088), (546, 0.010670328899938), (547, 0.009915369132681645), (548, 0.03831311288159477), (549, 0.013315639994449732), (550, 0.037242849198193755), (551, 0.0197781533797969), (552, 0.0), (553, 0.03223401638113954), (554, 0.005325060986861911), (555, 0.03122593446089164), (556, 0.0), (557, 0.0), (558, 0.0), (559, 0.0), (560, 0.01990132925795742), (561, 0.025925151603568036), (562, 0.0033963448156326907), (563, 0.02047919597514327), (564, 0.0), (565, 0.26666119487193196), (566, 0.02348904749946481), (567, 0.1329481292872259), (568, 0.026864192969571696), (569, 0.02891405007759497), (570, 0.017384252440412792), (571, 0.0), (572, 0.10726499690819455), (573, 0.009156634965410693), (574, 0.0), (575, 0.0037556504516570856), (576, 0.0), (577, 0.007431670937137836), (578, 0.0), (579, 0.013883568515778596), (580, 0.0), (581, 0.0), (582, 0.013082155475043634), (583, 0.017589369419526255), (584, 0.0), (585, 0.007982392367288097), (586, 0.011520019049186352), (587, 0.0), (588, 0.004651990910110771), (589, 0.0035411717458372766), (590, 0.02592544146677049), (591, 0.038918819216800335), (592, 0.012927136165734971), (593, 0.0), (594, 0.017887781779231206), (595, 0.04594303591033081), (596, 0.0), (597, 0.01862038753032253), (598, 0.0), (599, 0.02571473077246983), (600, 0.025767465786638924), (601, 0.04107727917935182), (602, 0.010391741110566528), (603, 0.01829912450525845), (604, 0.009081906495905514), (605, 0.003362146981874286), (606, 0.0), (607, 0.0), (608, 0.015512563731951996), (609, 0.03235025660318307), (610, 0.017105679097639416), (611, 0.0), (612, 0.0), (613, 0.01695808345909148), (614, 0.038572328557972636), (615, 0.12057042042497268), (616, 0.006069786541924682), (617, 0.0), (618, 0.011481157814005341), (619, 0.005464100330703562), (620, 0.02347592809881634), (621, 0.004644630094534183), (622, 0.0), (623, 0.0), (624, 0.0), (625, 0.0), (626, 0.0), (627, 0.00980107832600463), (628, 0.0), (629, 0.009589005181610894), (630, 0.0038607633979394133), (631, 0.02517848087553586), (632, 0.008414746429759827), (633, 0.0), (634, 0.0), (635, 0.05396999268854377), (636, 0.0), (637, 0.0), (638, 0.0), (639, 0.01452782055265433), (640, 0.026417511736089097), (641, 0.010399046441221464), (642, 0.0), (643, 0.020965313574171498), (644, 0.009467624665531003), (645, 0.0), (646, 0.0), (647, 0.0), (648, 0.017184892866472415), (649, 0.003621258608128454), (650, 0.006776966230764389), (651, 0.01233189629261501), (652, 0.0), (653, 0.025053169571665944), (654, 0.010504232659378148), (655, 0.009221511629438786), (656, 0.029627333926580072), (657, 0.018394576027944077), (658, 0.0), (659, 0.003559208474303105), (660, 0.0), (661, 0.022929462337360096), (662, 0.0037046913505672393), (663, 0.022748721383717255), (664, 0.013967072879052838), (665, 0.00765901357088098), (666, 0.2264095527944251), (667, 0.004017204521967121), (668, 0.007884778020623802), (669, 0.015871960979232887), (670, 0.006765238082944463), (671, 0.011466466818939054), (672, 0.01319723134834545), (673, 0.005990527245348991), (674, 0.012616684842221055), (675, 0.004882141402880344), (676, 0.0), (677, 0.01283868922953248), (678, 0.00416550608436693), (679, 0.004403588751094266), (680, 0.004761029136556003), (681, 0.02767282558753543), (682, 0.02978079666233123), (683, 0.011251299290747904), (684, 0.01922789343011886), (685, 0.019341830430349736), (686, 0.007999692213543559), (687, 0.03234291618168161), (688, 0.006081151744900185), (689, 0.01169597471160957), (690, 0.03187149919193512), (691, 0.01621152627869267), (692, 0.058589228287934184), (693, 0.0), (694, 0.0), (695, 0.0), (696, 0.0), (697, 0.011151049298139776), (698, 0.0), (699, 0.014561065834553962), (700, 0.0899123768706941), (701, 0.03034939631113686), (702, 0.0035748805950128006), (703, 0.0033940850919071145), (704, 0.004840696008120746), (705, 0.006448220938195763), (706, 0.03380798686695666), (707, 0.003213830127427764), (708, 0.003942225242208216), (709, 0.003199576347088259), (710, 0.06352371598580257), (711, 0.004488192557318346), (712, 0.003375808442264912), (713, 0.04067444440735239), (714, 0.036810175613331296), (715, 0.08380185315909092), (716, 0.01334674483886946), (717, 0.004668583264909981), (718, 0.0), (719, 0.02105147338528193), (720, 0.010636372455487429), (721, 0.0), (722, 0.00402261153649699), (723, 0.01601668951710177), (724, 0.02974287771008686), (725, 0.07690814794974626), (726, 0.016733799628662067), (727, 0.03650351986360219), (728, 0.030416386599455655), (729, 0.0314470432555044), (730, 0.02828831372191759), (731, 0.046732807991312325), (732, 0.00650211414819497), (733, 0.025456510803494224), (734, 0.006821351937307161), (735, 0.00521755106706858), (736, 0.00835344264292166), (737, 0.021883880378919855), (738, 0.01189828833665011), (739, 0.025915570944866538), (740, 0.0025632676165799175), (741, 0.010884470579416486), (742, 0.011054820571496808), (743, 0.0), (744, 0.0041401057299144915), (745, 0.010225050122040417), (746, 0.0), (747, 0.004991214273435016), (748, 0.012479318469482924), (749, 0.014451879274777837), (750, 0.0), (751, 0.013345201411595113), (752, 0.015619021332323913), (753, 0.006363491937266553), (754, 0.004093599163756648), (755, 0.0037133326442669364), (756, 0.045032091415719566), (757, 0.02541635253400841), (758, 0.011190768608404053), (759, 0.0034788868752819065), (760, 0.004383349920370506), (761, 0.0), (762, 0.02514569018164827), (763, 0.02051157638691816), (764, 0.005576497511089374), (765, 0.004731386415019193), (766, 0.006739378562423277), (767, 0.004246734730092466), (768, 0.016929983219924775), (769, 0.004418220969546296), (770, 0.0035291983263823668), (771, 0.004116532433085348), (772, 0.003665617119544974), (773, 0.008027114523871975), (774, 0.0), (775, 0.02353179768483304), (776, 0.029742350082699306), (777, 0.0), (778, 0.019967454132748606), (779, 0.008519337659587626), (780, 0.012154100011299497), (781, 0.00873867878105528), (782, 0.01128514006400183), (783, 0.0), (784, 0.003961855721638161), (785, 0.012782201701239893), (786, 0.0032002747192868553), (787, 0.018309290097798466), (788, 0.020993911683410475), (789, 0.00722569239982305), (790, 0.004339084812033079), (791, 0.0), (792, 0.004762124757595179), (793, 0.017186403093941212), (794, 0.01574285871630056), (795, 0.011004461585240589), (796, 0.017426351753421235), (797, 0.003987733895640269), (798, 0.01796815118110308), (799, 0.0), (800, 0.011480963669399446), (801, 0.0), (802, 0.024850320165916824), (803, 0.01691018747853557), (804, 0.004937415122045157), (805, 0.025141506539047197), (806, 0.021661182139490396), (807, 0.009621972516926286), (808, 0.03286409046479174), (809, 0.013113367887450902), (810, 0.023793406444114665), (811, 0.0), (812, 0.006886954570829855), (813, 0.010056227474347248), (814, 0.0188891951216651), (815, 0.018752351696654426), (816, 0.0), (817, 0.007048515583693755), (818, 0.0), (819, 0.019400087182720915), (820, 0.007329771491603857), (821, 0.06945193969412247), (822, 0.024391860426731443), (823, 0.02419415650347219), (824, 0.00266080380677386), (825, 0.005324123943808693), (826, 0.013573990318735858), (827, 0.005207776292039584), (828, 0.03078245807848521), (829, 0.024975733428017163), (830, 0.0), (831, 0.0), (832, 0.004551964143772673), (833, 0.006816590983841646), (834, 0.007224349470419226), (835, 0.006886683621065886), (836, 0.0033684832225662014), (837, 0.0029372105022740964), (838, 0.006772774201172628), (839, 0.004316996709301118), (840, 0.016702243805765845), (841, 0.004195558293433639), (842, 0.026947243935457207), (843, 0.024666866588839), (844, 0.00785071025137361), (845, 0.005747043395047265), (846, 0.0039125140371360605), (847, 0.01786776199644339), (848, 0.005536215731009096), (849, 0.016537770894423685), (850, 0.022025648026856325), (851, 0.008156353143508398), (852, 0.041496135831007565), (853, 0.009092931381397567), (854, 0.009511438048404305), (855, 0.0), (856, 0.016261001526252265), (857, 0.0), (858, 0.0), (859, 0.003611821185685779), (860, 0.0), (861, 0.0), (862, 0.011129001137862853), (863, 0.0), (864, 0.011883576944258527), (865, 0.02331986122906038), (866, 0.009265161018513265), (867, 0.018122480284333845), (868, 0.005096826599499146), (869, 0.009546024511954045), (870, 0.011499613058494389), (871, 0.007437081527741547), (872, 0.017716320966903207), (873, 0.004091660979697022), (874, 0.0383617104774508), (875, 0.01396925844151192), (876, 0.0), (877, 0.0), (878, 0.009413364542553159), (879, 0.003986365172503421), (880, 0.0), (881, 0.03529852608649), (882, 0.010384579020462968), (883, 0.030520204545023428), (884, 0.003975369924521579), (885, 0.007442742940896743), (886, 0.003582190391612648), (887, 0.0), (888, 0.0), (889, 0.0), (890, 0.008654066970565467), (891, 0.010498269144745866), (892, 0.0033101903775187716), (893, 0.0), (894, 0.004434772282864127), (895, 0.0561573451028856), (896, 0.0), (897, 0.011849918575294193), (898, 0.02994639023883702), (899, 0.017555161625812107), (900, 0.04073581530351499), (901, 0.0), (902, 0.013056122560946008), (903, 0.010366488182384346), (904, 0.027854097562065406), (905, 0.010770268967783329), (906, 0.038059761257680125), (907, 0.007630753843420681), (908, 0.014085016336440565), (909, 0.007315661009834726), (910, 0.0), (911, 0.02054056890940688), (912, 0.0033599186083769893), (913, 0.03466216419490188), (914, 0.038247204101459854), (915, 0.016555159692663086), (916, 0.01443773223001116), (917, 0.0), (918, 0.01780449603847178), (919, 0.01748380036132426), (920, 0.010152474319448485), (921, 0.013515219128042044), (922, 0.0), (923, 0.003679686586054245), (924, 0.010243926857406998), (925, 0.004393483798399937), (926, 0.00862562246587826), (927, 0.0), (928, 0.01040042633840758), (929, 0.05365518385137137), (930, 0.009503517796962535), (931, 0.035113570138687676), (932, 0.0), (933, 0.003902274735450192), (934, 0.02143651059185179), (935, 0.019224454281586045), (936, 0.03350113825707929), (937, 0.0), (938, 0.018215839736560872), (939, 0.0036039966269935542), (940, 0.007771648016585021), (941, 0.0035787252697827626), (942, 0.0), (943, 0.00383013730450347), (944, 0.034234158536103704), (945, 0.021289638921461174), (946, 0.016468045369117234), (947, 0.007405011290702739), (948, 0.017359952120372158), (949, 0.0356777333849254), (950, 0.0), (951, 0.009335996824177387), (952, 0.023620624925339215), (953, 0.02161040059911882), (954, 0.011375283551881785), (955, 0.004505211584446025), (956, 0.018131110645114277), (957, 0.02087855510614052), (958, 0.0101498328962774), (959, 0.02205951005732143), (960, 0.0), (961, 0.03534736759070109), (962, 0.015396475017094112), (963, 0.02953998107343036), (964, 0.003185342176366796), (965, 0.04872084363667802), (966, 0.023121178150425466), (967, 0.0), (968, 0.013195814886345312), (969, 0.027080962754662492), (970, 0.01316459089873733), (971, 0.008540999071859028), (972, 0.01860456678175952), (973, 0.03326541342376872), (974, 0.0093297920105339), (975, 0.0), (976, 0.0), (977, 0.046012057931917025), (978, 0.01120928092901971), (979, 0.006440630375836721), (980, 0.0), (981, 0.013002877741337893), (982, 0.014052623039643018), (983, 0.026058759253165552), (984, 0.0036345362655417824), (985, 0.004370915205039805), (986, 0.0054853520989362236), (987, 0.0), (988, 0.004446642032007978), (989, 0.0), (990, 0.02613030125036048), (991, 0.0), (992, 0.005872828327569362), (993, 0.014457333044726739), (994, 0.005578700254203491), (995, 0.016900161161127785), (996, 0.013138022441089518), (997, 0.004937108733763753), (998, 0.07227799216339066), (999, 0.004328037898145467), (1000, 0.00896414776363106), (1001, 0.020664005632690823), (1002, 0.015812224681859777), (1003, 0.0), (1004, 0.0), (1005, 0.031702649781305894), (1006, 0.01627864306024874), (1007, 0.025041639537225095), (1008, 0.0032741483366798795), (1009, 0.006461517949957146), (1010, 0.011661207890312312), (1011, 0.027604275893072516), (1012, 0.01982393433567642), (1013, 0.03568294427640458), (1014, 0.014798570129264173), (1015, 0.013807466343579067), (1016, 0.006501622371056566), (1017, 0.01241529116256979), (1018, 0.010255450440465188), (1019, 0.028463192092513974), (1020, 0.006987854112170331), (1021, 0.03196892719035308), (1022, 0.015464914431936183), (1023, 0.014357946611336714), (1024, 0.06517851385751482), (1025, 0.007394436347546225), (1026, 0.0), (1027, 0.0), (1028, 0.026185881764314647), (1029, 0.07184205068516594), (1030, 0.0), (1031, 0.010596468137419861), (1032, 0.03965039614132496), (1033, 0.029527007224356163), (1034, 0.0), (1035, 0.009682081234573878), (1036, 0.0), (1037, 0.005924984445919755), (1038, 0.0034896898246258344), (1039, 0.02609491464986565), (1040, 0.002984347544426214), (1041, 0.008404569685497763), (1042, 0.0), (1043, 0.01285177320757025), (1044, 0.005317836343640423), (1045, 0.013051019592948139), (1046, 0.008465060284040503), (1047, 0.03230785034368704), (1048, 0.012221069902189154), (1049, 0.004530801991973816), (1050, 0.006166373589442032), (1051, 0.008852221924504454), (1052, 0.004144549320771104), (1053, 0.0), (1054, 0.0436733679998534), (1055, 0.041895524512992756), (1056, 0.010843532722168345), (1057, 0.05512253595490013), (1058, 0.0), (1059, 0.004431498790368861), (1060, 0.00863875892396525), (1061, 0.012330006334644756), (1062, 0.0031948818552119283), (1063, 0.012297520045470196), (1064, 0.0), (1065, 0.005017416909797021), (1066, 0.07799022251428599), (1067, 0.006903491850859313), (1068, 0.010876085666664051), (1069, 0.04165784046940442), (1070, 0.003265785908038739), (1071, 0.01910985605257375), (1072, 0.0), (1073, 0.0036326675802958036), (1074, 0.14454707656900978), (1075, 0.007672814117225245), (1076, 0.005291599728862141), (1077, 0.03521675361569232), (1078, 0.0031820444181373973), (1079, 0.028992261863603114), (1080, 0.0), (1081, 0.03571855979466953), (1082, 0.005391413560568106), (1083, 0.0), (1084, 0.003744059886475456), (1085, 0.011274299981856844), (1086, 0.0), (1087, 0.023866387410841107), (1088, 0.0032663232617253886), (1089, 0.0042009019616646), (1090, 0.07998152352930424), (1091, 0.013933987996260049), (1092, 0.004575551630175487), (1093, 0.00345349855508092), (1094, 0.06299827622447628), (1095, 0.014510828433434935), (1096, 0.01242656466115942), (1097, 0.0), (1098, 0.0), (1099, 0.025271209229148432), (1100, 0.003757740347374623), (1101, 0.0), (1102, 0.005448261329852372), (1103, 0.004117411346810382), (1104, 0.026255714652302146), (1105, 0.012964312208006852), (1106, 0.03924354123715974), (1107, 0.0), (1108, 0.040058395287323634), (1109, 0.018402100703858608), (1110, 0.0), (1111, 0.17259416938145586), (1112, 0.003805699644380649), (1113, 0.024618989606865517), (1114, 0.0242076484967036), (1115, 0.0855014963081797), (1116, 0.01817772203203001), (1117, 0.0036706406886762044), (1118, 0.02685735757997842), (1119, 0.0), (1120, 0.003816793647241551), (1121, 0.0), (1122, 0.005588848182152357), (1123, 0.022478765364098197), (1124, 0.011512693180176153), (1125, 0.0036717620672969613), (1126, 0.010920440428169951), (1127, 0.005403061927646464), (1128, 0.007136998266199536), (1129, 0.029021451372765322), (1130, 0.00813095959872488), (1131, 0.02278702639475963), (1132, 0.004254619212542353), (1133, 0.0038127610523390155), (1134, 0.05431156042871847), (1135, 0.032886261386062765), (1136, 0.014234998341054295), (1137, 0.004507088807245354), (1138, 0.005553055779979558), (1139, 0.030162039963860302), (1140, 0.00479344840356581), (1141, 0.013650355699452724), (1142, 0.004002937201847098), (1143, 0.0), (1144, 0.009376239225729641), (1145, 0.029025167106550762), (1146, 0.011371221947348593), (1147, 0.02133565986710917), (1148, 0.0), (1149, 0.0035224650511816165), (1150, 0.10400938901118291), (1151, 0.012762300873599737), (1152, 0.00354243016372694), (1153, 0.006527969841918703), (1154, 0.0048929933920224735), (1155, 0.008606141176722558), (1156, 0.003136705262605856), (1157, 0.02097946987239812), (1158, 0.0), (1159, 0.0), (1160, 0.0), (1161, 0.0), (1162, 0.021881765215839753), (1163, 0.0), (1164, 0.004463683211733131), (1165, 0.03595572612113703), (1166, 0.0038949043143908556), (1167, 0.04025586863269644), (1168, 0.01723403596015544), (1169, 0.00447192437943903), (1170, 0.008307127736038825), (1171, 0.004055268429363573), (1172, 0.036469596404943704), (1173, 0.025618775016500006), (1174, 0.005611961544047533), (1175, 0.00730475640861384), (1176, 0.0), (1177, 0.0), (1178, 0.007048953714027012), (1179, 0.0172021502881978), (1180, 0.0071181210799048785), (1181, 0.0), (1182, 0.007431298210448738), (1183, 0.0050953893450240715), (1184, 0.0), (1185, 0.018125798744555964), (1186, 0.022361424901846914), (1187, 0.004489283600443247), (1188, 0.023837753259431972), (1189, 0.0), (1190, 0.025225123558482155), (1191, 0.008988966295912875), (1192, 0.06225238048370282), (1193, 0.004003896587377397), (1194, 0.050887518543298135), (1195, 0.0432353597355654), (1196, 0.02413054288798095), (1197, 0.0), (1198, 0.03435953637584356), (1199, 0.0033706559279066146), (1200, 0.0034730295346034465), (1201, 0.008654714550351711), (1202, 0.0), (1203, 0.0035875756202290664), (1204, 0.0038767594268548484), (1205, 0.004065585632514734), (1206, 0.02452654081035656), (1207, 0.012159355372449904), (1208, 0.010578953182403927), (1209, 0.0), (1210, 0.022276526401766004), (1211, 0.003620583916992073), (1212, 0.008032085091929987), (1213, 0.0033564936350445737), (1214, 0.015314851174775613), (1215, 0.010066538670155173), (1216, 0.015643606680104876), (1217, 0.0033172304024031603), (1218, 0.004270803263278311), (1219, 0.006493390273152384), (1220, 0.010614606074864225), (1221, 0.017949368293618376), (1222, 0.0222420740023908), (1223, 0.004494142877754488), (1224, 0.05571360911685257), (1225, 0.013427004694447651), (1226, 0.012644592289381975), (1227, 0.0038171004323337226), (1228, 0.007767309701279796), (1229, 0.00573105409498574), (1230, 0.005269062132743404), (1231, 0.010597447894982022), (1232, 0.003850452722056176), (1233, 0.0), (1234, 0.004046156200341772), (1235, 0.0037109356692010204), (1236, 0.0), (1237, 0.0), (1238, 0.02266406369299183), (1239, 0.03967045858738879), (1240, 0.03679008400947665), (1241, 0.01187342723099292), (1242, 0.010117006293259852), (1243, 0.03937503539736968), (1244, 0.017069663120708133), (1245, 0.0), (1246, 0.0316396703301066), (1247, 0.0), (1248, 0.05547065617463963), (1249, 0.01594194738972566), (1250, 0.011986612571960575), (1251, 0.0033811649229627235), (1252, 0.005438835995572256), (1253, 0.005412933188095788), (1254, 0.03715070062504395), (1255, 0.0069205817987122815), (1256, 0.048480255153878674), (1257, 0.028587198459075404), (1258, 0.015397141981255111), (1259, 0.026318657792913397), (1260, 0.004262272859215376), (1261, 0.00369946828319614), (1262, 0.024422914535977506), (1263, 0.03587542783229128), (1264, 0.0), (1265, 0.005966311060308089), (1266, 0.0323677949277616), (1267, 0.015062585880853874), (1268, 0.021994097759630578), (1269, 0.06015576770912149), (1270, 0.008208375518551716), (1271, 0.0), (1272, 0.007131754732649436), (1273, 0.03888403397731825), (1274, 0.009464901233557976), (1275, 0.026205424612484478), (1276, 0.004094539117441313), (1277, 0.01580417446823158), (1278, 0.029148731983614663), (1279, 0.009901591786784666), (1280, 0.06241084955626068), (1281, 0.005010444109882226), (1282, 0.008871010874203198), (1283, 0.011192928130834204), (1284, 0.025827817486742684), (1285, 0.005255627389069351), (1286, 0.003745894037787995), (1287, 0.006973658523830614), (1288, 0.014135596138190328), (1289, 0.0031392045156458546), (1290, 0.004863352020534892), (1291, 0.020980283454009423), (1292, 0.04120012114605231), (1293, 0.0299078441718717), (1294, 0.0), (1295, 0.0), (1296, 0.032067823310641536), (1297, 0.01212893133041128), (1298, 0.0037998089906680042), (1299, 0.004011051995372575), (1300, 0.0032309177663630002), (1301, 0.015030728478033887), (1302, 0.016830466868823033), (1303, 0.0), (1304, 0.022657112055743764), (1305, 0.02959105552939914), (1306, 0.011836755628148083), (1307, 0.04184472458047253), (1308, 0.06453862542362984), (1309, 0.017433422979637188), (1310, 0.028083758220829726), (1311, 0.0042865784512584396), (1312, 0.013149154542005869), (1313, 0.003765217127328464), (1314, 0.009804090632993), (1315, 0.012380077448059502), (1316, 0.0065539948493547676), (1317, 0.008997259363279992), (1318, 0.0034077036554018216), (1319, 0.01317663823606703), (1320, 0.007308773691618389), (1321, 0.02419815649296354), (1322, 0.008446926598357572), (1323, 0.0032829489039691634), (1324, 0.013576715774529909), (1325, 0.0), (1326, 0.0716136536806632), (1327, 0.01744264104013871), (1328, 0.013421848630540559), (1329, 0.05402236877934106), (1330, 0.0037508665220356775), (1331, 0.0035022255239480727), (1332, 0.006116285212406791), (1333, 0.01179337360514653), (1334, 0.027552723813877432), (1335, 0.0055442026652384796), (1336, 0.03020418826756511), (1337, 0.009501442211799313), (1338, 0.009802381143457918), (1339, 0.0), (1340, 0.0032449398748531444), (1341, 0.0350137453533569), (1342, 0.0), (1343, 0.0053218926514966135), (1344, 0.0030897227145253482), (1345, 0.011080011659557937), (1346, 0.017302824341661544), (1347, 0.004324164979412075), (1348, 0.008109915191591783), (1349, 0.03528608739374431), (1350, 0.01239789946971732), (1351, 0.04563256302753039), (1352, 0.014614185738259197), (1353, 0.01273446774146092), (1354, 0.02000085190422852), (1355, 0.0), (1356, 0.0), (1357, 0.026855430685758568), (1358, 0.012543885112027947), (1359, 0.016038327359714957), (1360, 0.004074448613110953), (1361, 0.003881330611999398), (1362, 0.0028394560441590724), (1363, 0.00362626834681934), (1364, 0.008616086501345852), (1365, 0.011341270605765402), (1366, 0.029296236287177837), (1367, 0.0031908652824070628), (1368, 0.02028624728342256), (1369, 0.020080081017711852), (1370, 0.0032946247007366435), (1371, 0.004244447385623547), (1372, 0.003584309359213343), (1373, 0.03705383249489418), (1374, 0.03174928698296043), (1375, 0.004254979272397118), (1376, 0.01746068697443278), (1377, 0.021880886918071295), (1378, 0.0), (1379, 0.029215951325372476), (1380, 0.018144471515443274), (1381, 0.019743208726105247), (1382, 0.011462024311098705), (1383, 0.0), (1384, 0.008870179707982772), (1385, 0.02003652745339528), (1386, 0.10637638758521632), (1387, 0.011489843136962125), (1388, 0.011107298744699966), (1389, 0.011645615875313695), (1390, 0.03094820452714141), (1391, 0.0), (1392, 0.010774801700848526), (1393, 0.005764073787435978), (1394, 0.007351676846098205), (1395, 0.0036035947485955145), (1396, 0.10139697425218068), (1397, 0.009563558385552728), (1398, 0.014733812916144697), (1399, 0.0), (1400, 0.0), (1401, 0.027060266772993315), (1402, 0.004694448724432902), (1403, 0.01972411073528415), (1404, 0.004231793490253046), (1405, 0.003359208889196265), (1406, 0.00536514006667493), (1407, 0.007740364886456648), (1408, 0.01782028939380978), (1409, 0.004087768341489617), (1410, 0.0038618122447241594), (1411, 0.008199624051459872), (1412, 0.034502080759769585), (1413, 0.02205013043172594), (1414, 0.09528606974633388), (1415, 0.0), (1416, 0.037100204854534295), (1417, 0.009970689065596798), (1418, 0.05509205544125535), (1419, 0.01538280450798998), (1420, 0.024435239362494258), (1421, 0.0043158143062858745), (1422, 0.011799502248486679), (1423, 0.0), (1424, 0.004362317123948849), (1425, 0.01585087377627034), (1426, 0.0047430424355341325), (1427, 0.0031322035541913487), (1428, 0.0), (1429, 0.0), (1430, 0.004162734875170759), (1431, 0.040857750838832585), (1432, 0.009698312646020548), (1433, 0.07956296738285398), (1434, 0.0), (1435, 0.0), (1436, 0.018203592022309433), (1437, 0.01875190874870393), (1438, 0.0), (1439, 0.03709026952142609), (1440, 0.012924195294913478), (1441, 0.00411908104586674), (1442, 0.0098668416356042), (1443, 0.04011908944265831), (1444, 0.003802139085120212), (1445, 0.03350510603306759), (1446, 0.01493169052344943), (1447, 0.008184475985535664), (1448, 0.0), (1449, 0.0), (1450, 0.0), (1451, 0.008410287194597566), (1452, 0.0), (1453, 0.03260755177427238), (1454, 0.0060295464045218876), (1455, 0.005482871890253636), (1456, 0.022486975967957006), (1457, 0.0035583827646645688), (1458, 0.04184698339906802), (1459, 0.08798290050675735), (1460, 0.0402744179165423), (1461, 0.015755799184010398), (1462, 0.0), (1463, 0.0043163709371523), (1464, 0.0073343179951525315), (1465, 0.023704904039071488), (1466, 0.01483752784372521), (1467, 0.019130904303851635), (1468, 0.018636760857743455), (1469, 0.009638644784116565), (1470, 0.013174160351865952), (1471, 0.028835929957135478), (1472, 0.013586626763053477), (1473, 0.052007750921552666), (1474, 0.013064698207351557), (1475, 0.015138732498528956), (1476, 0.0038711640334246978), (1477, 0.03944885062434489), (1478, 0.025356718159650293), (1479, 0.004190800364621808), (1480, 0.0), (1481, 0.031241582720084482), (1482, 0.007252977123310654), (1483, 0.01524532447304906), (1484, 0.0058068357655185095), (1485, 0.003447328319997008), (1486, 0.023205218712946528), (1487, 0.02147441658016733), (1488, 0.00766116900657044), (1489, 0.004293496697792539), (1490, 0.010566543817693511), (1491, 0.00416394396192786), (1492, 0.009609839414739993), (1493, 0.018360262549892793), (1494, 0.020663858833673436), (1495, 0.05447043873569879), (1496, 0.012004235745576856), (1497, 0.02335962761904945), (1498, 0.0), (1499, 0.0), (1500, 0.02046662434743281), (1501, 0.015561731197540039), (1502, 0.02095271210259563), (1503, 0.01468059958056718), (1504, 0.005436966364702958), (1505, 0.011136772318429028), (1506, 0.050151268599949055), (1507, 0.004375597700655409), (1508, 0.007525891047179093), (1509, 0.00803415817830976), (1510, 0.047695451223132554), (1511, 0.010822313419028725), (1512, 0.11446179230073746), (1513, 0.009698794432506742), (1514, 0.01343947403537685), (1515, 0.024647749393361014), (1516, 0.00958855150553335), (1517, 0.033096593126387346), (1518, 0.004115198160098967), (1519, 0.006735411637670872), (1520, 0.008907534953722923), (1521, 0.013417886577851167), (1522, 0.04577820903384839), (1523, 0.0032643635874859355), (1524, 0.0075995780568691735), (1525, 0.03275830144680239), (1526, 0.014889752145785801), (1527, 0.045946360202269304), (1528, 0.0034705255157353007), (1529, 0.01321695041406022), (1530, 0.014089542534007241), (1531, 0.0), (1532, 0.0036269727026556112), (1533, 0.0520846823608138), (1534, 0.0), (1535, 0.01668419814849927), (1536, 0.005708457946701717), (1537, 0.014761160060323068), (1538, 0.006611297822738357), (1539, 0.01730091799258385), (1540, 0.006412721879577433), (1541, 0.04637339542041847), (1542, 0.0039560485019467136), (1543, 0.0035203222610592348), (1544, 0.00893757399975004), (1545, 0.008928186215060963), (1546, 0.008573844927679541), (1547, 0.014823852434226644), (1548, 0.01261550492655399), (1549, 0.003769078651449004), (1550, 0.0), (1551, 0.011558663549037267), (1552, 0.022786100631998745), (1553, 0.05627422234929619), (1554, 0.014013240247568243), (1555, 0.053757080479790005), (1556, 0.0), (1557, 0.024958501171210755), (1558, 0.0), (1559, 0.003874513845266241), (1560, 0.010491821002508011), (1561, 0.003672680961771998), (1562, 0.0), (1563, 0.00830245393964736), (1564, 0.01412055292174473), (1565, 0.0038266235378084405), (1566, 0.012737928529708998), (1567, 0.021588525555471708), (1568, 0.004085368797539672), (1569, 0.003430731942405264), (1570, 0.03545998840643752), (1571, 0.02104642220101457), (1572, 0.02535866607845006), (1573, 0.0), (1574, 0.004517712796264195), (1575, 0.0), (1576, 0.004396980150990427), (1577, 0.02120905914431349), (1578, 0.032659477033353514), (1579, 0.26474106739044334), (1580, 0.0), (1581, 0.02264801212095548), (1582, 0.0036682976137306566), (1583, 0.06913771767980685), (1584, 0.012265312541592346), (1585, 0.007820043559112427), (1586, 0.01735907478487287), (1587, 0.021402176287386), (1588, 0.0), (1589, 0.003742887470851651), (1590, 0.0), (1591, 0.006357705010199754), (1592, 0.01975554801427316), (1593, 0.0), (1594, 0.014302777741886218), (1595, 0.00405139496627665), (1596, 0.004058803300701217), (1597, 0.007993190038962109), (1598, 0.010916975960215812), (1599, 0.009426702875387823), (1600, 0.01562075139634167), (1601, 0.009816408064600022), (1602, 0.02520075433432903), (1603, 0.13462575191774234), (1604, 0.012619203625671491), (1605, 0.0), (1606, 0.021127461835794597), (1607, 0.007048766799026193), (1608, 0.00790324013579423), (1609, 0.0040774731516422125), (1610, 0.0035376789853046454), (1611, 0.016723992070213894), (1612, 0.007252995616298605), (1613, 0.029921043695272567), (1614, 0.00408760988947963), (1615, 0.013096408263966254), (1616, 0.003357839446165636), (1617, 0.004370553221977647), (1618, 0.0036998040024500385), (1619, 0.012532980423359256), (1620, 0.004186089227835384), (1621, 0.0), (1622, 0.0), (1623, 0.0), (1624, 0.01848121148137541), (1625, 0.0), (1626, 0.007518666913456944), (1627, 0.004692504171661064), (1628, 0.0), (1629, 0.007518527413516366), (1630, 0.008495671704751295), (1631, 0.0), (1632, 0.004292323559245914), (1633, 0.0), (1634, 0.00757410199135198), (1635, 0.0), (1636, 0.0046126056533726655), (1637, 0.0040986150093927755), (1638, 0.003806157901590148), (1639, 0.0032347023938544815), (1640, 0.01677986686348258), (1641, 0.01946446248147028), (1642, 0.007679733706074311), (1643, 0.028543570248021167), (1644, 0.011092075237431614), (1645, 0.03639401424156981), (1646, 0.0030743896303256704), (1647, 0.006885086069365688), (1648, 0.006686484257033054), (1649, 0.16858842366147267), (1650, 0.049539891025419565), (1651, 0.0305719706531904), (1652, 0.003389219659201822), (1653, 0.009718897058905013), (1654, 0.017552268302632526), (1655, 0.008859973228914386), (1656, 0.004380714889325495), (1657, 0.004957913037590736), (1658, 0.012294321386673319), (1659, 0.00585121489726598), (1660, 0.008669808163630858), (1661, 0.03907371000391661), (1662, 0.010960967257029438), (1663, 0.023373749846066598), (1664, 0.023106017271239947), (1665, 0.005139906691941928), (1666, 0.00882956477759214), (1667, 0.0), (1668, 0.01229972344884113), (1669, 0.005508376553129878), (1670, 0.0), (1671, 0.0), (1672, 0.0), (1673, 0.0035571703797766764), (1674, 0.0), (1675, 0.045377058191084306), (1676, 0.003050871524799887), (1677, 0.010775119274478141), (1678, 0.01715146573091146), (1679, 0.01384140033129306), (1680, 0.04814782371158318), (1681, 0.01094181417637136), (1682, 0.017871305953198753), (1683, 0.0328100570890571), (1684, 0.009727162226882942), (1685, 0.007706214953686156), (1686, 0.04040028446885008), (1687, 0.010567017475185722), (1688, 0.020453647864953524), (1689, 0.01340278751771385), (1690, 0.01344745287971864), (1691, 0.007639780895223402), (1692, 0.017067608870918377), (1693, 0.0035875725933268887), (1694, 0.0033925043219466843), (1695, 0.02917851352678243), (1696, 0.02220874380085694), (1697, 0.018834024148086253), (1698, 0.01876822935197765), (1699, 0.0), (1700, 0.025971028668679633), (1701, 0.01989193084875321), (1702, 0.008624408880483131), (1703, 0.0), (1704, 0.004563510113656418), (1705, 0.013629273531287988), (1706, 0.007304090172036175), (1707, 0.03567508808621127), (1708, 0.013719044258310026), (1709, 0.02646508802426526), (1710, 0.031023185285764896), (1711, 0.028480399820166903), (1712, 0.007785486734781958), (1713, 0.02272345888922539), (1714, 0.04754858995428595), (1715, 0.013367631308816616), (1716, 0.005020725779576985), (1717, 0.0), (1718, 0.01633226137359897), (1719, 0.007488725724428592), (1720, 0.0), (1721, 0.02234360990300056), (1722, 0.003858512371007697), (1723, 0.05565487689273604), (1724, 0.0), (1725, 0.03805914317666796), (1726, 0.008514915437596896), (1727, 0.00968039389131901), (1728, 0.004240595721618186), (1729, 0.0034801336753371086), (1730, 0.006640418170547503), (1731, 0.0118566832995813), (1732, 0.009950999192129266), (1733, 0.031540658737692316), (1734, 0.009755685987785931), (1735, 0.009601625449168876), (1736, 0.005746778936928682), (1737, 0.03367879740304135), (1738, 0.014748707759882861), (1739, 0.0), (1740, 0.005599890219001044), (1741, 0.003851892802937314), (1742, 0.02407966410908007), (1743, 0.010010397989722166), (1744, 0.003645136846962452), (1745, 0.010893928039130791), (1746, 0.018720129253607526), (1747, 0.005668328475881847), (1748, 0.0), (1749, 0.005148719644113095), (1750, 0.045693669545166016), (1751, 0.013949383987999312), (1752, 0.0031591249541860753), (1753, 0.0), (1754, 0.0), (1755, 0.015407916836769996), (1756, 0.004221674076483699), (1757, 0.003764063893193216), (1758, 0.017965111505990054), (1759, 0.0072205734199904436), (1760, 0.01940661304115634), (1761, 0.007443290630040052), (1762, 0.010491550177544592), (1763, 0.0), (1764, 0.06529553142234631), (1765, 0.003951898246685479), (1766, 0.0042164705458947295), (1767, 0.0036705236803860676), (1768, 0.004602807453085084), (1769, 0.0038612421416513217), (1770, 0.013734585902924177), (1771, 0.0037252113483462576), (1772, 0.01492947483039116), (1773, 0.007136234522619481), (1774, 0.06484810741958678), (1775, 0.0), (1776, 0.020001366462061326), (1777, 0.003925500843884896), (1778, 0.007728874056505937), (1779, 0.007754650940973177), (1780, 0.0), (1781, 0.015540332713810468), (1782, 0.013126299599435353), (1783, 0.003595213650698994), (1784, 0.00753479633703766), (1785, 0.0036155814515572457), (1786, 0.004202431575409116), (1787, 0.02589646869911166), (1788, 0.06660338447924839), (1789, 0.011752939049099787), (1790, 0.013237747296795608), (1791, 0.015756076648270605), (1792, 0.004490313450556308), (1793, 0.011022689068744922), (1794, 0.007592755004366874), (1795, 0.0), (1796, 0.023683949814650017), (1797, 0.055982978780461136), (1798, 0.034059385590942154), (1799, 0.02379618727612839), (1800, 0.0), (1801, 0.030858462882604243), (1802, 0.014653675510291772), (1803, 0.04359729795284849), (1804, 0.00832299004835779), (1805, 0.0), (1806, 0.004171480578040992), (1807, 0.011535590734467494), (1808, 0.028085951192457145), (1809, 0.022131157369532986), (1810, 0.006920073889451764), (1811, 0.0), (1812, 0.030941615204372316), (1813, 0.0), (1814, 0.0), (1815, 0.006354630159328168), (1816, 0.010924238797049554), (1817, 0.008035217071287105), (1818, 0.024209733203345397), (1819, 0.0), (1820, 0.0), (1821, 0.004009609063000751), (1822, 0.009828382962147376), (1823, 0.013363198967630302), (1824, 0.007799800519692081), (1825, 0.008564812594588418), (1826, 0.0), (1827, 0.0034552404334052714), (1828, 0.008599605374408282), (1829, 0.02284769741876372), (1830, 0.0033856296605845678), (1831, 0.0), (1832, 0.0), (1833, 0.056401987837864855), (1834, 0.0037879935953517873), (1835, 0.0), (1836, 0.05701007724549627), (1837, 0.0037834750944111734), (1838, 0.008510085793421133), (1839, 0.029280333207862864), (1840, 0.019097840482084776), (1841, 0.04909099181488911), (1842, 0.003738534283817586), (1843, 0.016522390103507905), (1844, 0.012141706336135117), (1845, 0.009945202098288178), (1846, 0.012398745562857406), (1847, 0.009612802315145354), (1848, 0.028561673291957176), (1849, 0.010931975778189329), (1850, 0.01340021664109221), (1851, 0.008638717045230546), (1852, 0.08085968791270363), (1853, 0.00581060657228336), (1854, 0.0), (1855, 0.03158682146443384), (1856, 0.004063490521070358), (1857, 0.004407262415488567), (1858, 0.030422135439126346), (1859, 0.004720612699685847), (1860, 0.029077035978160772), (1861, 0.0057925335971361555), (1862, 0.0), (1863, 0.006290472612518737), (1864, 0.007005555248976078), (1865, 0.017916974459577354), (1866, 0.022349602053482166), (1867, 0.010966843498863902), (1868, 0.007157028792546327), (1869, 0.03285223072603448), (1870, 0.04533056084168468), (1871, 0.0030411761425815542), (1872, 0.0), (1873, 0.007290859852764157), (1874, 0.0), (1875, 0.010799632580860977), (1876, 0.012846571344358005), (1877, 0.03872002413894634), (1878, 0.003627985016035741), (1879, 0.003865602383429983), (1880, 0.05006146584819364), (1881, 0.01442071835473097), (1882, 0.0), (1883, 0.017258999868988018), (1884, 0.0), (1885, 0.0), (1886, 0.02152336535399188), (1887, 0.005073309098811575), (1888, 0.011904656921633932), (1889, 0.011227756925248484), (1890, 0.0), (1891, 0.0), (1892, 0.0), (1893, 0.012782013733879969), (1894, 0.013792220299800834), (1895, 0.04839017719183442), (1896, 0.0047492646735978776), (1897, 0.007897254644116959), (1898, 0.015473970775410018), (1899, 0.0035620877029603317), (1900, 0.0036787039785035613), (1901, 0.037284293605251484), (1902, 0.004016243837421379), (1903, 0.034210758914235286), (1904, 0.01346012180238806), (1905, 0.004165747139117354), (1906, 0.0038339401573237574), (1907, 0.008931756621954206), (1908, 0.050969401940308544), (1909, 0.0), (1910, 0.026456476453141024), (1911, 0.057175898734856255), (1912, 0.010588138005318708), (1913, 0.01095852885581558), (1914, 0.007798470314996674), (1915, 0.012148796798942135), (1916, 0.0), (1917, 0.003922247945672835), (1918, 0.0), (1919, 0.01895972210647992), (1920, 0.006734561573251879), (1921, 0.0), (1922, 0.0), (1923, 0.0725836398598652), (1924, 0.02594627764360796), (1925, 0.031550332107356485), (1926, 0.011751392426529627), (1927, 0.0), (1928, 0.020544996054133815), (1929, 0.0036426239856418136), (1930, 0.0), (1931, 0.01300412047757548), (1932, 0.007515961960974933), (1933, 0.0), (1934, 0.0619703091763245), (1935, 0.017611641180352515), (1936, 0.04137175837823502), (1937, 0.005392146947177332), (1938, 0.0031857402807866073), (1939, 0.021962000544281365), (1940, 0.0), (1941, 0.011143566110379657), (1942, 0.007410347449280826), (1943, 0.02114135514784718), (1944, 0.0031735128258381148), (1945, 0.02016326656992885), (1946, 0.0), (1947, 0.004435645571261512), (1948, 0.0279058777219285), (1949, 0.009652406962668158), (1950, 0.017672178980784048), (1951, 0.02058552322569352), (1952, 0.004820776427231071), (1953, 0.0), (1954, 0.003384724820333645), (1955, 0.011616526371619378), (1956, 0.0784488196312601), (1957, 0.022970358105274598), (1958, 0.0), (1959, 0.0), (1960, 0.023239952183808806), (1961, 0.040370932790349603), (1962, 0.0), (1963, 0.0030914599142119726), (1964, 0.017020252300826648), (1965, 0.011551485151107616), (1966, 0.0), (1967, 0.0), (1968, 0.011704183077367572), (1969, 0.004320366889353084), (1970, 0.039555923091766976), (1971, 0.016817469345509255), (1972, 0.0), (1973, 0.02225947518839963), (1974, 0.0034919094546215753), (1975, 0.0), (1976, 0.006132386156855715), (1977, 0.004887623314667711), (1978, 0.003405568637538459), (1979, 0.0), (1980, 0.0034271457716024867), (1981, 0.006929584792572862), (1982, 0.027459310308927096), (1983, 0.06408731484152402), (1984, 0.007626585537945392), (1985, 0.038113094619033824), (1986, 0.01540965627075427), (1987, 0.023409407382889658), (1988, 0.01804691512239233), (1989, 0.005813599752005672), (1990, 0.0040786446508753954), (1991, 0.021293241459264808), (1992, 0.0035696874297907726), (1993, 0.0), (1994, 0.020344435038026902), (1995, 0.0), (1996, 0.0), (1997, 0.0097278388709468), (1998, 0.022985269780439598), (1999, 0.01249241438828505), (2000, 0.022311105860644883), (2001, 0.003290224375153663), (2002, 0.003999172417472558), (2003, 0.008016475298786279), (2004, 0.00928118802536765), (2005, 0.024585557963985018), (2006, 0.009431451644571156), (2007, 0.003487673518902115), (2008, 0.007083309329961272), (2009, 0.00452551736172296), (2010, 0.01005125573557108), (2011, 0.00662303933574662), (2012, 0.015855746706029086), (2013, 0.030945583629186195), (2014, 0.04572207292400233), (2015, 0.017964874641719725), (2016, 0.017860468175405653), (2017, 0.009137653266573209), (2018, 0.0031166121388019143), (2019, 0.01098329018936567), (2020, 0.014714156852037042), (2021, 0.01602010521560435), (2022, 0.012877314190530035), (2023, 0.004215805478011047), (2024, 0.00525675965659507), (2025, 0.007680380210833929), (2026, 0.0038179401536722933), (2027, 0.0183701266057931), (2028, 0.04171536550819023), (2029, 0.004370701918852016), (2030, 0.0), (2031, 0.012119420892908819), (2032, 0.014201204505604751), (2033, 0.008468934874036334), (2034, 0.010486016897682367), (2035, 0.0), (2036, 0.011628842140663053), (2037, 0.020754227186010676), (2038, 0.0), (2039, 0.0), (2040, 0.01411136750748452), (2041, 0.0038750786944752487), (2042, 0.003987154077772704), (2043, 0.03992713084410975), (2044, 0.005831021749186227), (2045, 0.02488682969851467), (2046, 0.008287460761172923), (2047, 0.007912029197607017), (2048, 0.007449919941312474), (2049, 0.012242243626688918), (2050, 0.010545183728930214), (2051, 0.03407901286740724), (2052, 0.02226839368668065), (2053, 0.026292464298154742), (2054, 0.022040120914346376), (2055, 0.041915920567215485), (2056, 0.015014884510968949), (2057, 0.0), (2058, 0.13435858538635562), (2059, 0.02674056186885095), (2060, 0.024042453626247975), (2061, 0.014628793671117475), (2062, 0.015722379324919173), (2063, 0.0034640646348416317), (2064, 0.008179233436349489), (2065, 0.019478981590745244), (2066, 0.014318049093926338), (2067, 0.012804231575680001), (2068, 0.003630822700620708), (2069, 0.0), (2070, 0.010059279057524188), (2071, 0.011884338978390339), (2072, 0.0046389315455957975), (2073, 0.0), (2074, 0.031770022368457364), (2075, 0.04418031845778112), (2076, 0.006998361408950686), (2077, 0.01135473670877141), (2078, 0.007926322699778835), (2079, 0.009472442680967207), (2080, 0.0), (2081, 0.030332574412801384), (2082, 0.01010056995881706), (2083, 0.0057448876849937065), (2084, 0.0), (2085, 0.005719419631334623), (2086, 0.05945463700564938), (2087, 0.010861108248108004), (2088, 0.029546137404395656), (2089, 0.0), (2090, 0.003987840056856995), (2091, 0.005565949034593546), (2092, 0.003925171555459843), (2093, 0.015305114924281337), (2094, 0.016323662643373395), (2095, 0.04128676698228025), (2096, 0.007763425776964459), (2097, 0.0), (2098, 0.009498752267358463), (2099, 0.0035713867293402607), (2100, 0.04848066147335893), (2101, 0.07482748981568499), (2102, 0.04338398390086526), (2103, 0.023844806421663263), (2104, 0.0), (2105, 0.0), (2106, 0.007899981943307004), (2107, 0.025272748144721517), (2108, 0.004240994263732643), (2109, 0.011854888534330837), (2110, 0.006682843515993496), (2111, 0.007485610394974528), (2112, 0.012980285600808834), (2113, 0.012985497154800789), (2114, 0.030555338120759352), (2115, 0.0), (2116, 0.01198503362949499), (2117, 0.033993505825086714), (2118, 0.005568580143447066), (2119, 0.00675678435538392), (2120, 0.0), (2121, 0.006934148057260676), (2122, 0.0038573731720352453), (2123, 0.04919165487769282), (2124, 0.015861082945756257), (2125, 0.03676714194017099), (2126, 0.026263614636837004), (2127, 0.014443102270561187), (2128, 0.03799786424394324), (2129, 0.01896588029710848), (2130, 0.007316674229513317), (2131, 0.02978851529567031), (2132, 0.0), (2133, 0.04858407508529433), (2134, 0.0), (2135, 0.0), (2136, 0.05218612300753948), (2137, 0.005415566199040053), (2138, 0.004330665359756599), (2139, 0.016147065587692494), (2140, 0.0036331645059993894), (2141, 0.0), (2142, 0.0), (2143, 0.014897330784350547), (2144, 0.06149350376084618), (2145, 0.03644664363826232), (2146, 0.003265385237445867), (2147, 0.00880757134985433), (2148, 0.007920840810487856), (2149, 0.0), (2150, 0.016025458725969822), (2151, 0.008147755740643718), (2152, 0.0), (2153, 0.04042055217436562), (2154, 0.009329596596283908), (2155, 0.007410975116474484), (2156, 0.013874491136920568), (2157, 0.0032129148122997954), (2158, 0.030935302306499074), (2159, 0.05240597977020481), (2160, 0.01887459409582907), (2161, 0.015361012075627931), (2162, 0.057645852956332705), (2163, 0.0), (2164, 0.01852286164533278), (2165, 0.0), (2166, 0.008768486429986132), (2167, 0.012275474789238402), (2168, 0.011719999275265921), (2169, 0.027363804901674227), (2170, 0.003573256363749114), (2171, 0.00781948478488042), (2172, 0.04504154854848425), (2173, 0.0), (2174, 0.007219669385256898), (2175, 0.019127852686739742), (2176, 0.02507136088937141), (2177, 0.013920163615323836), (2178, 0.009694074007287135), (2179, 0.00358950801840469), (2180, 0.011392510411871141), (2181, 0.006231035721742684), (2182, 0.031680744261632726), (2183, 0.010255329605103313), (2184, 0.005156690747008732), (2185, 0.021350231107712992), (2186, 0.004330970271857795), (2187, 0.028475327691472953), (2188, 0.006699543522152288), (2189, 0.0), (2190, 0.0), (2191, 0.0), (2192, 0.0038479307710697942), (2193, 0.015723194615981), (2194, 0.00396293014042531), (2195, 0.004465022921189266), (2196, 0.0), (2197, 0.010803338395950435), (2198, 0.026286798702863948), (2199, 0.03161757717720464), (2200, 0.0039046503238962223), (2201, 0.003554449643046833), (2202, 0.03266722974114962), (2203, 0.010161193897503005), (2204, 0.007034102248908031), (2205, 0.11326564706821753), (2206, 0.0052471312659390125), (2207, 0.003498141028897739), (2208, 0.017539595245925306), (2209, 0.012362710233502439), (2210, 0.01013309568363472), (2211, 0.01305592762706631), (2212, 0.0054776419950457395), (2213, 0.0), (2214, 0.0), (2215, 0.011990650448743301), (2216, 0.0), (2217, 0.009746986763215917), (2218, 0.017271804180963548), (2219, 0.019580609137961523), (2220, 0.0), (2221, 0.0195539009902269), (2222, 0.008570850505255172), (2223, 0.027616883118692107), (2224, 0.01370525582642941), (2225, 0.0034997505445762186), (2226, 0.02220758537875441), (2227, 0.0077365627567407115), (2228, 0.004945339568695666), (2229, 0.0), (2230, 0.0), (2231, 0.02509740197891235), (2232, 0.005363106835706605), (2233, 0.018880334475670776), (2234, 0.00784878237797259), (2235, 0.0), (2236, 0.018201476437438753), (2237, 0.01902505337368899), (2238, 0.005685034873573065), (2239, 0.025560385381926252), (2240, 0.003353098526108725), (2241, 0.014337097366111988), (2242, 0.0036318277557285954), (2243, 0.005888212868651311), (2244, 0.0080106490755554), (2245, 0.004324021981432336), (2246, 0.014324813734924873), (2247, 0.0), (2248, 0.0), (2249, 0.011565443383401418), (2250, 0.004467163650253133), (2251, 0.0), (2252, 0.009647069847783482), (2253, 0.0), (2254, 0.0), (2255, 0.02708063265364328), (2256, 0.0), (2257, 0.0), (2258, 0.004143331984894191), (2259, 0.0197031922800619), (2260, 0.004087464030379432), (2261, 0.02815419757778334), (2262, 0.0074755743144532556), (2263, 0.004804818898901877), (2264, 0.0033945964962713822), (2265, 0.010081007969171458), (2266, 0.02520278401448885), (2267, 0.0), (2268, 0.004323627272011487), (2269, 0.0), (2270, 0.020986207458551766), (2271, 0.012961497171258928), (2272, 0.003549112953913641), (2273, 0.0), (2274, 0.008566799955866664), (2275, 0.007434017167787306), (2276, 0.013120455617110127), (2277, 0.024823370436451712), (2278, 0.004541737842819755), (2279, 0.0), (2280, 0.003785062006488851), (2281, 0.005069246581074952), (2282, 0.004909215773807214), (2283, 0.023007868749787122), (2284, 0.003841593557342315), (2285, 0.027636782514760958), (2286, 0.04051296144485737), (2287, 0.019547397894271772), (2288, 0.0), (2289, 0.0), (2290, 0.0038991583987222455), (2291, 0.010075621234866439), (2292, 0.0038916383633527105), (2293, 0.029256193038944448), (2294, 0.04081488100376591), (2295, 0.0), (2296, 0.017662120221795894), (2297, 0.013424642511824191), (2298, 0.016330187304834324), (2299, 0.0), (2300, 0.0), (2301, 0.02817839232425785), (2302, 0.00433995883023921), (2303, 0.014695405517836503), (2304, 0.008538446829313049), (2305, 0.004370111527870425), (2306, 0.009215226583576795), (2307, 0.0039192970462398604), (2308, 0.004781833867032094), (2309, 0.07770143732598224), (2310, 0.05543058522887688), (2311, 0.007805605420535621), (2312, 0.0055010634303873296), (2313, 0.0), (2314, 0.0), (2315, 0.008581710382471252), (2316, 0.045712323512828563), (2317, 0.004142270672737959), (2318, 0.01340668008529924), (2319, 0.0), (2320, 0.014850799663928046), (2321, 0.023333642462433114), (2322, 0.05890117662656498), (2323, 0.0), (2324, 0.00933891004082116), (2325, 0.003966664664307418), (2326, 0.0035153378803713365), (2327, 0.007736411409496035), (2328, 0.0), (2329, 0.04156473283158806), (2330, 0.051708040064270905), (2331, 0.003135059295889059), (2332, 0.028551610407070212), (2333, 0.00454855616830404), (2334, 0.004607874928979294), (2335, 0.015057483934449618), (2336, 0.003799530953321911), (2337, 0.007663238509126149), (2338, 0.00808946726115826), (2339, 0.017697011741505595), (2340, 0.059053380731847155), (2341, 0.0), (2342, 0.0), (2343, 0.0), (2344, 0.0), (2345, 0.0), (2346, 0.0), (2347, 0.0), (2348, 0.003599048476940239), (2349, 0.0), (2350, 0.0), (2351, 0.03701297534124081), (2352, 0.023678537724906617), (2353, 0.038649236551703034), (2354, 0.0), (2355, 0.0), (2356, 0.014228159651098846), (2357, 0.004337781806199738), (2358, 0.0), (2359, 0.0), (2360, 0.003376885237475828), (2361, 0.005822759345535836), (2362, 0.0), (2363, 0.01703831676478538), (2364, 0.008891769354783087), (2365, 0.03766684286230209), (2366, 0.0033885698269889176), (2367, 0.012228225333337237), (2368, 0.0483488363408212), (2369, 0.0), (2370, 0.0), (2371, 0.02874149609767684), (2372, 0.0), (2373, 0.0031865593510747394), (2374, 0.0), (2375, 0.0041977167413735994), (2376, 0.05621918302998123), (2377, 0.014425865063574612), (2378, 0.0064603627185218365), (2379, 0.0055143893117985555), (2380, 0.003996706553912774), (2381, 0.018450672698646097), (2382, 0.0), (2383, 0.006103787631281552), (2384, 0.0042555645358659435), (2385, 0.025582515247691555), (2386, 0.0), (2387, 0.0038126684831947585), (2388, 0.0), (2389, 0.035019772592272166), (2390, 0.0), (2391, 0.004081008822369678), (2392, 0.0), (2393, 0.0), (2394, 0.004026176264899531), (2395, 0.005285407488702304), (2396, 0.003855705098683533), (2397, 0.02794100456840165), (2398, 0.0033799941540099483), (2399, 0.04251242082228497), (2400, 0.0), (2401, 0.0), (2402, 0.0034603621553617827), (2403, 0.038974668152042584), (2404, 0.005197069628200605), (2405, 0.0), (2406, 0.0), (2407, 0.0), (2408, 0.0), (2409, 0.007903013465894006), (2410, 0.004191726915573621), (2411, 0.004326635723326421), (2412, 0.016428330990714855), (2413, 0.06320194754468662), (2414, 0.011808881062507954), (2415, 0.006661175016692515), (2416, 0.0141447682081885), (2417, 0.008528074971549393), (2418, 0.03653978563694226), (2419, 0.0), (2420, 0.057514132032458684), (2421, 0.02673219384292501), (2422, 0.012400358046422868), (2423, 0.004815377482085561), (2424, 0.008439081283118655), (2425, 0.0), (2426, 0.02148105281926806), (2427, 0.02518441849189175), (2428, 0.014046116597445271), (2429, 0.0050886594883430315), (2430, 0.009084175048074883), (2431, 0.00854011656773531), (2432, 0.009606551412308387), (2433, 0.03241593120089754), (2434, 0.004567908135429629), (2435, 0.0037731053004950166), (2436, 0.06452887335883284), (2437, 0.0), (2438, 0.0), (2439, 0.06283306608416282), (2440, 0.0038804558689675525), (2441, 0.011090625529148739), (2442, 0.03295898646820528), (2443, 0.01729060291630502), (2444, 0.02144681023339544), (2445, 0.0035168089884046604), (2446, 0.00770696426690127), (2447, 0.0038396584347336763), (2448, 0.029660224104826355), (2449, 0.0038457232714166722), (2450, 0.010280739287189719), (2451, 0.007773905260157595), (2452, 0.08357079734231976), (2453, 0.0), (2454, 0.0), (2455, 0.004849826161205354), (2456, 0.0039436880459192405), (2457, 0.0), (2458, 0.009042711393865253), (2459, 0.006681669708531051), (2460, 0.023122469288961032), (2461, 0.00370476258819199), (2462, 0.0), (2463, 0.011560051015359826), (2464, 0.0041905925669488775), (2465, 0.0036825917306900534), (2466, 0.0), (2467, 0.003686485712763401), (2468, 0.010878478506850876), (2469, 0.00570265497669054), (2470, 0.011256245524921028), (2471, 0.0), (2472, 0.018355371523218172), (2473, 0.013830124506700679), (2474, 0.04218608442181125), (2475, 0.0), (2476, 0.006242020130345083), (2477, 0.0), (2478, 0.02788315753758433), (2479, 0.01847945325457501), (2480, 0.011659398771179864), (2481, 0.015859300919943062), (2482, 0.004126525274716304), (2483, 0.005039084484320394), (2484, 0.0), (2485, 0.015030696140379987), (2486, 0.033438928222543955), (2487, 0.015791085851828514), (2488, 0.004669654824223381), (2489, 0.0), (2490, 0.005507228875645611), (2491, 0.007650446449359799), (2492, 0.012854584365892275), (2493, 0.010275639654483231), (2494, 0.01679898761618621), (2495, 0.0038206398064766843), (2496, 0.0), (2497, 0.007663626699346327), (2498, 0.008819488425208459), (2499, 0.03627896503322835), (2500, 0.005331096657672535), (2501, 0.1866574184128901), (2502, 0.0), (2503, 0.011661965343996626), (2504, 0.015168607217146439), (2505, 0.00808899730216129), (2506, 0.012769036344906014), (2507, 0.004150723633292212), (2508, 0.029881109080673887), (2509, 0.010497895900120693), (2510, 0.028125062514569983), (2511, 0.0378791343421685), (2512, 0.010979787365316306), (2513, 0.03781328691516255), (2514, 0.007454899186835625), (2515, 0.004743801890593668), (2516, 0.00404856503914932), (2517, 0.033775686715105994), (2518, 0.009367414886817556), (2519, 0.003941320797694538), (2520, 0.0), (2521, 0.04841909084300858), (2522, 0.013564842545900301), (2523, 0.01513792683446226), (2524, 0.05003386945390176), (2525, 0.0042155763150795575), (2526, 0.0036629041247456745), (2527, 0.0), (2528, 0.0), (2529, 0.005546570428004961), (2530, 0.045042605408651015), (2531, 0.008647804478077815), (2532, 0.013225469600082376), (2533, 0.0), (2534, 0.010396319938864631), (2535, 0.02940692070419755), (2536, 0.004991341440285353), (2537, 0.005241635621491513), (2538, 0.0), (2539, 0.009600381291138764), (2540, 0.005231958521836189), (2541, 0.0), (2542, 0.030922486315539264), (2543, 0.0047944372923851755), (2544, 0.018038763096368305), (2545, 0.0075884351995668935), (2546, 0.03326039913121553), (2547, 0.013124148028753531), (2548, 0.047444170945679896), (2549, 0.020221921202944523), (2550, 0.018837285011858388), (2551, 0.03526904598613978), (2552, 0.06824293355589849), (2553, 0.012454100757173436), (2554, 0.016694444652486748), (2555, 0.014473482385308916), (2556, 0.0), (2557, 0.0), (2558, 0.026843558406580263), (2559, 0.016731433420814266), (2560, 0.00513812392604179), (2561, 0.003986338570103683), (2562, 0.012191256815976496), (2563, 0.009726467282842158), (2564, 0.004746930098529705), (2565, 0.007726548249119142), (2566, 0.0583235364592457), (2567, 0.015103575231858686), (2568, 0.014383458332849059), (2569, 0.010927755919082266), (2570, 0.004497171841606837), (2571, 0.004325268495222799), (2572, 0.006899603387696321), (2573, 0.004499831770974204), (2574, 0.014111400555911766), (2575, 0.01208746945126947), (2576, 0.00621032109527458), (2577, 0.0), (2578, 0.0), (2579, 0.025457007682897947), (2580, 0.0), (2581, 0.01722894942212708), (2582, 0.08262321334627024), (2583, 0.0), (2584, 0.03783977901240738), (2585, 0.057180647812945136), (2586, 0.003871415026529408), (2587, 0.01721825737772766), (2588, 0.028419216210173705), (2589, 0.0), (2590, 0.010294971947603159), (2591, 0.0034280043509754116), (2592, 0.004230068174729703), (2593, 0.0), (2594, 0.0035789256914775763), (2595, 0.047399656448145575), (2596, 0.0), (2597, 0.006309607984329319), (2598, 0.018685568910885974), (2599, 0.0), (2600, 0.011746432691561916), (2601, 0.011580991006228548), (2602, 0.0), (2603, 0.013086528208547164), (2604, 0.004158254245883003), (2605, 0.011544557162667567), (2606, 0.0), (2607, 0.006528666868860776), (2608, 0.010614403902639298), (2609, 0.01249546664074279), (2610, 0.06910300567096368), (2611, 0.0038407158632552296), (2612, 0.04602577911027624), (2613, 0.0), (2614, 0.0), (2615, 0.014431848547908539), (2616, 0.034590244804849256), (2617, 0.0), (2618, 0.0), (2619, 0.045743443278917294), (2620, 0.0036460893377495904), (2621, 0.006336887415476998), (2622, 0.008455597938819982), (2623, 0.0), (2624, 0.0), (2625, 0.02173738293377244), (2626, 0.01021832764110121), (2627, 0.0037674959101142913), (2628, 0.0), (2629, 0.0), (2630, 0.0), (2631, 0.007880019425825875), (2632, 0.0158556387497409), (2633, 0.016357983453280746), (2634, 0.00512933610537843), (2635, 0.004477132809566172), (2636, 0.010774791239157385), (2637, 0.01668011263733069), (2638, 0.013362290938635274), (2639, 0.03008287710522153), (2640, 0.025622250698003342), (2641, 0.01219639805051574), (2642, 0.029771269704377098), (2643, 0.0), (2644, 0.003635731317756375), (2645, 0.025534840137453104), (2646, 0.03811733559178916), (2647, 0.027426875994569923), (2648, 0.003939974907697524), (2649, 0.0), (2650, 0.045404388003454525), (2651, 0.0), (2652, 0.0), (2653, 0.02024501502821151), (2654, 0.013079564139595126), (2655, 0.0), (2656, 0.016129173343042293), (2657, 0.060919890061507234), (2658, 0.0), (2659, 0.01341129664376622), (2660, 0.019372414982743055), (2661, 0.004101828746724984), (2662, 0.008422593450309108), (2663, 0.007471094430067575), (2664, 0.0), (2665, 0.016516366931404493), (2666, 0.028505696618335723), (2667, 0.012686896091211368), (2668, 0.022355316510057455), (2669, 0.005650717305794043), (2670, 0.00587587528614319), (2671, 0.010059428707462743), (2672, 0.02356624816782477), (2673, 0.00595539753226895), (2674, 0.005053261885512845), (2675, 0.008698530255247566), (2676, 0.010676270380358278), (2677, 0.0037228691270433066), (2678, 0.00622287494449067), (2679, 0.0), (2680, 0.020826431324696075), (2681, 0.0036734748386945348), (2682, 0.009298516691040263), (2683, 0.0), (2684, 0.00553341109715838), (2685, 0.003877774993094179), (2686, 0.0), (2687, 0.003759237928950904), (2688, 0.030457743818231204), (2689, 0.010564897705380948), (2690, 0.0036283816146865924), (2691, 0.025477099773726242), (2692, 0.006324868664687002), (2693, 0.0036937007503638226), (2694, 0.0), (2695, 0.0), (2696, 0.00444173763388778), (2697, 0.004494066692521282), (2698, 0.011458273404550863), (2699, 0.0035647264367599666), (2700, 0.0), (2701, 0.0061840690067215395), (2702, 0.004367106252036756), (2703, 0.00591495722053636), (2704, 0.0), (2705, 0.0), (2706, 0.02003212938535422), (2707, 0.014937977671669232), (2708, 0.05586666607192276), (2709, 0.0038226390949470395), (2710, 0.025413831974436217), (2711, 0.03210041269536791), (2712, 0.024430221621606074), (2713, 0.016854355501518863), (2714, 0.005809778493998338), (2715, 0.014559003730360422), (2716, 0.0), (2717, 0.0), (2718, 0.011107109438935482), (2719, 0.026472295560040115), (2720, 0.016159093605307234), (2721, 0.003320103814634305), (2722, 0.0053639984130487125), (2723, 0.0), (2724, 0.007956195981754519), (2725, 0.012528784720891393), (2726, 0.015411894522148337), (2727, 0.004595746526172199), (2728, 0.0034779564204132354), (2729, 0.03128387089027694), (2730, 0.010195249770394982), (2731, 0.00512893276190395), (2732, 0.03442441705046497), (2733, 0.0), (2734, 0.00659512707229719), (2735, 0.0), (2736, 0.0), (2737, 0.006388589265343087), (2738, 0.009792283867287812), (2739, 0.027374871285607193), (2740, 0.029540956478247796), (2741, 0.00995752803000486), (2742, 0.01185932622054204), (2743, 0.0), (2744, 0.03326266647263923), (2745, 0.0), (2746, 0.00388504651763325), (2747, 0.006621683166671258), (2748, 0.004154992638890192), (2749, 0.015657828993373417), (2750, 0.0), (2751, 0.02147716428690106), (2752, 0.0), (2753, 0.0), (2754, 0.009761145938355767), (2755, 0.016427932178624406), (2756, 0.00459979941498365), (2757, 0.0321267681827368), (2758, 0.0032451235989562734), (2759, 0.007097301244837757), (2760, 0.0), (2761, 0.028159719377830447), (2762, 0.0), (2763, 0.019544476806060158), (2764, 0.005443711319946276), (2765, 0.008510804201966168), (2766, 0.007104536569853934), (2767, 0.004282790751358454), (2768, 0.007803340354125522), (2769, 0.03991379909156326), (2770, 0.0031596980173359645), (2771, 0.0), (2772, 0.006502778418091979), (2773, 0.0), (2774, 0.02262129918866128), (2775, 0.0), (2776, 0.008230561885807935), (2777, 0.015961338384581084), (2778, 0.006637814683142349), (2779, 0.0), (2780, 0.11774911122527047), (2781, 0.0046047821302739), (2782, 0.004253376265499943), (2783, 0.023802830500137553), (2784, 0.004575831023421337), (2785, 0.0051257210174862535), (2786, 0.004091839931961905), (2787, 0.008853214933986154), (2788, 0.010146384801464455), (2789, 0.00977549934934608), (2790, 0.004707018540115249), (2791, 0.013245924291255144), (2792, 0.050489142221928796), (2793, 0.008980103454621885), (2794, 0.0039557612171381915), (2795, 0.0069325776586207375), (2796, 0.004372751035396497), (2797, 0.004676835117546815), (2798, 0.02651619069169265), (2799, 0.004276601807572045), (2800, 0.0), (2801, 0.0038403348889596276), (2802, 0.02220756121981231), (2803, 0.08056283468210415), (2804, 0.011062526628143578), (2805, 0.007256057971384296), (2806, 0.008016107606910369), (2807, 0.008140444784184488), (2808, 0.03340245096628469), (2809, 0.0047122382570513825), (2810, 0.010434702972860734), (2811, 0.010195883303011008), (2812, 0.014684292453712012), (2813, 0.03107516743527526), (2814, 0.01554495538744434), (2815, 0.12343523599357442), (2816, 0.016122117243468438), (2817, 0.008848006319558104), (2818, 0.011619923339744527), (2819, 0.005815296232678416), (2820, 0.014514365250189641), (2821, 0.0), (2822, 0.014281947312386934), (2823, 0.00723525310548153), (2824, 0.0), (2825, 0.00919767864261916), (2826, 0.012795671105255549), (2827, 0.0), (2828, 0.0), (2829, 0.007949959663888617), (2830, 0.008055637430799758), (2831, 0.007292019155169652), (2832, 0.005014461245173945), (2833, 0.0034058684738179873), (2834, 0.010294511706055408), (2835, 0.020754758636110412), (2836, 0.0037912732053732245), (2837, 0.0), (2838, 0.0048831222077040555), (2839, 0.02802220695037486), (2840, 0.052097473361750794), (2841, 0.00750168646572398), (2842, 0.008616787885566685), (2843, 0.111718509696274), (2844, 0.06459088388364848), (2845, 0.0), (2846, 0.004470939326772478), (2847, 0.02231594669930552), (2848, 0.027721941259778424), (2849, 0.0), (2850, 0.24307065370509717), (2851, 0.0), (2852, 0.05188940780217911), (2853, 0.0), (2854, 0.011068612622622077), (2855, 0.007036723264819503), (2856, 0.0039246295496309985), (2857, 0.004716565303379004), (2858, 0.005415868523933352), (2859, 0.03792942480148239), (2860, 0.013809055948062112), (2861, 0.0), (2862, 0.013460297899786745), (2863, 0.05254128527745428), (2864, 0.006239948805504848), (2865, 0.0), (2866, 0.003555565702281826), (2867, 0.0827416813952099), (2868, 0.013477451387609831), (2869, 0.0), (2870, 0.0), (2871, 0.0), (2872, 0.00439830757370392), (2873, 0.017697069498598443), (2874, 0.014461324235115662), (2875, 0.004856363790601031), (2876, 0.0031912199847706976), (2877, 0.011498331660975594), (2878, 0.018876684272880754), (2879, 0.0), (2880, 0.010034711639048954), (2881, 0.006217262091071276), (2882, 0.0041521114233271615), (2883, 0.0), (2884, 0.02864136791769427), (2885, 0.005146290586774039), (2886, 0.0), (2887, 0.007334152906524218), (2888, 0.013787101581489096), (2889, 0.0), (2890, 0.0), (2891, 0.005412366015638327), (2892, 0.004249592812304408), (2893, 0.008666137650520265), (2894, 0.0), (2895, 0.015234693340198172), (2896, 0.0038801832268613007), (2897, 0.007925805247114434), (2898, 0.038619561716189375), (2899, 0.009368790285374996), (2900, 0.004462590888912347), (2901, 0.0), (2902, 0.0), (2903, 0.006156148634673771), (2904, 0.0), (2905, 0.0), (2906, 0.01263515569263332), (2907, 0.0), (2908, 0.010264603580087364), (2909, 0.0), (2910, 0.009751275881957434), (2911, 0.03259295830693076), (2912, 0.003699823810497683), (2913, 0.007636713762675181), (2914, 0.004321271526475329), (2915, 0.007920762594364235), (2916, 0.0), (2917, 0.053431709626469565), (2918, 0.005288747210266521), (2919, 0.0), (2920, 0.010718779425650079), (2921, 0.0), (2922, 0.012668353949075215), (2923, 0.0), (2924, 0.004431345142274394), (2925, 0.0030678478704340177), (2926, 0.003996035296865569), (2927, 0.008771331116750455), (2928, 0.004934023594344238), (2929, 0.010488900287220295), (2930, 0.0042010871452703375), (2931, 0.01468796740226171), (2932, 0.0), (2933, 0.01323229630169756), (2934, 0.0), (2935, 0.011344243136167595), (2936, 0.0082451506159491), (2937, 0.018276463178746677), (2938, 0.004191002838155056), (2939, 0.004758927729668122), (2940, 0.022472913000570256), (2941, 0.031214106214100815), (2942, 0.010176603829076947), (2943, 0.00546981294836187), (2944, 0.0375197762746471), (2945, 0.003740251925277096), (2946, 0.0), (2947, 0.03871076235031043), (2948, 0.012124687896659034), (2949, 0.0), (2950, 0.012095198596847174), (2951, 0.01828308071589236), (2952, 0.0), (2953, 0.0), (2954, 0.007576600183565511), (2955, 0.036189410832658725), (2956, 0.00810156676640835), (2957, 0.0), (2958, 0.005114192005672705), (2959, 0.005778972969459384), (2960, 0.05977826715980005), (2961, 0.0), (2962, 0.01738025245829821), (2963, 0.010641341324805844), (2964, 0.012567212773917818), (2965, 0.0), (2966, 0.0), (2967, 0.0), (2968, 0.004170680479780485), (2969, 0.020347946993954282), (2970, 0.004072748861217651), (2971, 0.00810117381588633), (2972, 0.003601645694460362), (2973, 0.007495210905469268), (2974, 0.0), (2975, 0.014265103490225316), (2976, 0.045996197040749615), (2977, 0.012041624128031881), (2978, 0.004154729013376698), (2979, 0.04455689187628992), (2980, 0.007143406106690547), (2981, 0.013870642652041805), (2982, 0.004348413008926302), (2983, 0.00482236272692997), (2984, 0.0), (2985, 0.013543724910716072), (2986, 0.00451962159560538), (2987, 0.0), (2988, 0.030936288925658535), (2989, 0.007649200370125009), (2990, 0.05520910345842904), (2991, 0.028622601895207395), (2992, 0.019646760218227012), (2993, 0.0), (2994, 0.013784724985817103), (2995, 0.0), (2996, 0.040938548950949845), (2997, 0.0), (2998, 0.01910760827495971), (2999, 0.0037993108760104705), (3000, 0.0), (3001, 0.0), (3002, 0.005547601064724398), (3003, 0.004244618856733576), (3004, 0.0), (3005, 0.0), (3006, 0.0), (3007, 0.0), (3008, 0.00814272211188603), (3009, 0.005350320343183803), (3010, 0.00863401059207199), (3011, 0.0043230226488134476), (3012, 0.0), (3013, 0.0), (3014, 0.03468787711797433), (3015, 0.0), (3016, 0.031160334330849047), (3017, 0.004539781791953219), (3018, 0.03816414045001621), (3019, 0.0), (3020, 0.0046386293334014), (3021, 0.009319759491386812), (3022, 0.058013740295268984), (3023, 0.006891203008423136), (3024, 0.004541116905368139), (3025, 0.0), (3026, 0.004221555178908579), (3027, 0.03993361615920607), (3028, 0.004326170475868993), (3029, 0.0), (3030, 0.0), (3031, 0.0), (3032, 0.0), (3033, 0.015572625388401784), (3034, 0.0038458411736087463), (3035, 0.0), (3036, 0.0), (3037, 0.0040332552090539785), (3038, 0.003997025813147061), (3039, 0.017631868716827964), (3040, 0.005336065739330996), (3041, 0.05419743244321103), (3042, 0.06957087458892479), (3043, 0.0), (3044, 0.01014888599700045), (3045, 0.00453330694278017), (3046, 0.011534641337508315), (3047, 0.0), (3048, 0.0), (3049, 0.0), (3050, 0.003500732575093481), (3051, 0.0), (3052, 0.027957313314842327), (3053, 0.004296151381739501), (3054, 0.0045912741667463435), (3055, 0.0), (3056, 0.0), (3057, 0.004199722973067434), (3058, 0.0071733209773602955), (3059, 0.0058809325007928735), (3060, 0.0038840008815620056), (3061, 0.003994987400090299), (3062, 0.01834688597797076), (3063, 0.003379027409304213), (3064, 0.005973281839339347), (3065, 0.016997550191685605), (3066, 0.037412630665312974), (3067, 0.007195457399072565), (3068, 0.0), (3069, 0.0), (3070, 0.00831686422885313), (3071, 0.007772173712359616), (3072, 0.04217261150669447), (3073, 0.012603889261506681), (3074, 0.0046879258985062415), (3075, 0.0), (3076, 0.0), (3077, 0.007216789839496305), (3078, 0.004909961715113693), (3079, 0.0), (3080, 0.004258982896622348), (3081, 0.0), (3082, 0.012181210463925436), (3083, 0.007713643151189569), (3084, 0.0040525684148120435), (3085, 0.012202398890196331), (3086, 0.0), (3087, 0.004820562337853731), (3088, 0.0056818737807245315), (3089, 0.08725385588963916), (3090, 0.0037573704838073296), (3091, 0.04486525730244288), (3092, 0.0), (3093, 0.0), (3094, 0.035096485858442716), (3095, 0.03663505938432139), (3096, 0.017395274099813795), (3097, 0.07130340740091996), (3098, 0.006942285562305515), (3099, 0.01132098215400476), (3100, 0.011889035068029824), (3101, 0.0), (3102, 0.0038942999186910255), (3103, 0.0047300043704147626), (3104, 0.0038120290434761495), (3105, 0.006911690809150113), (3106, 0.0038088783243150405), (3107, 0.0), (3108, 0.032823717667904505), (3109, 0.004069417997687701), (3110, 0.0), (3111, 0.004006844308254226), (3112, 0.005902964563326628), (3113, 0.0038972010167050613), (3114, 0.06243455663788961), (3115, 0.014494171387823857), (3116, 0.0), (3117, 0.0), (3118, 0.0210758063576302), (3119, 0.03679616386919568), (3120, 0.0), (3121, 0.010940618577329678), (3122, 0.008541515598599864), (3123, 0.0), (3124, 0.049992103693854734), (3125, 0.004498939999878312), (3126, 0.035616473215883994), (3127, 0.017602909848606206), (3128, 0.0), (3129, 0.027111802380997866), (3130, 0.04816282882716204), (3131, 0.10931354771553187), (3132, 0.2592935840961065), (3133, 0.23408449994523817), (3134, 0.2221698041529312), (3135, 0.023943605239520042), (3136, 0.011870803600944304), (3137, 0.00709277193669165), (3138, 0.0), (3139, 0.005409784825323209), (3140, 0.0), (3141, 0.01928096304094355), (3142, 0.01147249770791375), (3143, 0.005098384463629363), (3144, 0.012089938116926211), (3145, 0.005816204953130759), (3146, 0.004273951169368657), (3147, 0.007114252912984704), (3148, 0.0), (3149, 0.008003778718007119), (3150, 0.047095521217292206), (3151, 0.011202689357481546), (3152, 0.018319097838396498), (3153, 0.02763820848963396), (3154, 0.0), (3155, 0.0038471154271014813), (3156, 0.01225870202646551), (3157, 0.008107089765857006), (3158, 0.02352571470909544), (3159, 0.0), (3160, 0.0), (3161, 0.005415526041811578), (3162, 0.003984358630759283), (3163, 0.02460152851616693), (3164, 0.013195008793092431), (3165, 0.006305159486488704), (3166, 0.018997880380721602), (3167, 0.0), (3168, 0.010483957140928542), (3169, 0.009544776808104876), (3170, 0.0), (3171, 0.0), (3172, 0.048922979322185436), (3173, 0.02236635523487413), (3174, 0.03352875241945588), (3175, 0.004094440638317652), (3176, 0.0), (3177, 0.0036296565938070888), (3178, 0.006041169384289475), (3179, 0.0), (3180, 0.0), (3181, 0.019902420993211184), (3182, 0.007784709483535855), (3183, 0.004184150304700673), (3184, 0.024393469564675502), (3185, 0.008329608470513708), (3186, 0.02379982501997632), (3187, 0.014412628549259614), (3188, 0.0038166225671393476), (3189, 0.004014449375453586), (3190, 0.01587028549432961), (3191, 0.005651482512423273), (3192, 0.014506778330640435), (3193, 0.01616151286383814), (3194, 0.0036065070544598695), (3195, 0.0), (3196, 0.0), (3197, 0.0034725251411658617), (3198, 0.003947219402894077), (3199, 0.0034668229191776043), (3200, 0.0038038181351816138), (3201, 0.007980801741297259), (3202, 0.039554288762170965), (3203, 0.00460174276507413), (3204, 0.005114885802273807), (3205, 0.03486550023511158), (3206, 0.015399233126721201), (3207, 0.004198936017780352), (3208, 0.007608826230509877), (3209, 0.003907796270705784), (3210, 0.005537239945643991), (3211, 0.007752245295817339), (3212, 0.00316757331629793), (3213, 0.060220032255923095), (3214, 0.0036478515583314754), (3215, 0.016735791428652703), (3216, 0.0), (3217, 0.0049239166796347005), (3218, 0.01661141875175271), (3219, 0.0), (3220, 0.003734375649625189), (3221, 0.01542057442872177), (3222, 0.013538121169454574), (3223, 0.008338312543883761), (3224, 0.003978108784126149), (3225, 0.005625394794501037), (3226, 0.017515480467001562), (3227, 0.00553503501911441), (3228, 0.014272206179332322), (3229, 0.003968363088471876), (3230, 0.005168445110915822), (3231, 0.013912324730904783), (3232, 0.01446883996833301), (3233, 0.0046055771361778125), (3234, 0.013963388916546152), (3235, 0.010527074388377017), (3236, 0.00406389553772399), (3237, 0.011615913688929275), (3238, 0.01099362750646288), (3239, 0.009634734129747306), (3240, 0.03331137055861234), (3241, 0.005727011910767179), (3242, 0.03857791371118943), (3243, 0.0), (3244, 0.010172461387838925), (3245, 0.0038605963008971236), (3246, 0.014937383145077745), (3247, 0.013895976985204778), (3248, 0.0), (3249, 0.004778944980706433), (3250, 0.0035835852383367998), (3251, 0.0), (3252, 0.030617586085598485), (3253, 0.027153417642035927), (3254, 0.0), (3255, 0.0), (3256, 0.012944657213254301), (3257, 0.004604088061778859), (3258, 0.004154905879572603), (3259, 0.014540387596285703), (3260, 0.008141268148269681), (3261, 0.0), (3262, 0.0), (3263, 0.005980379919033053), (3264, 0.012417952514551751), (3265, 0.024608641456665324), (3266, 0.005285651581719433), (3267, 0.008448129713439412), (3268, 0.0), (3269, 0.0), (3270, 0.013697699006185633), (3271, 0.013094333461548594), (3272, 0.017417300528215864), (3273, 0.0), (3274, 0.0), (3275, 0.006416160100801675), (3276, 0.01921298713636517), (3277, 0.046036681020921656), (3278, 0.0), (3279, 0.0), (3280, 0.004167993000814844), (3281, 0.03137821603951445), (3282, 0.004955256942682463), (3283, 0.008451928130216519), (3284, 0.0174418674178562), (3285, 0.0), (3286, 0.1356889586254103), (3287, 0.011432792249482533), (3288, 0.01086505016393425), (3289, 0.003915840143177654), (3290, 0.003932196435002279), (3291, 0.0), (3292, 0.0), (3293, 0.04921970035061126), (3294, 0.027363551201382928), (3295, 0.007551306250068073), (3296, 0.0), (3297, 0.018710124091940526), (3298, 0.021938495853416867), (3299, 0.018923781896295806), (3300, 0.0), (3301, 0.0), (3302, 0.0), (3303, 0.008444159544282608), (3304, 0.003459846106347754), (3305, 0.0), (3306, 0.00913698342076059), (3307, 0.02638134354978773), (3308, 0.004523595384586285), (3309, 0.014252501044773444), (3310, 0.009712844578618828), (3311, 0.012471805729011553), (3312, 0.01157573040391322), (3313, 0.0), (3314, 0.0), (3315, 0.013083475838651982), (3316, 0.009046518084702464), (3317, 0.007333523935432125), (3318, 0.0), (3319, 0.007145040983343082), (3320, 0.007793467825356414), (3321, 0.0076775842807936), (3322, 0.0), (3323, 0.054180775847033846), (3324, 0.004490534844400491), (3325, 0.0), (3326, 0.0), (3327, 0.014523501900813833), (3328, 0.02723220374397396), (3329, 0.0293411079913847), (3330, 0.004461581070111514), (3331, 0.0), (3332, 0.009422015271405619), (3333, 0.0), (3334, 0.0), (3335, 0.022946903755513497), (3336, 0.029412408184883367), (3337, 0.0044088170382853755), (3338, 0.0), (3339, 0.004724201968815545), (3340, 0.005441652814813232), (3341, 0.0), (3342, 0.01759958264689829), (3343, 0.013773401984405152), (3344, 0.013789734438123591), (3345, 0.010453069409809264), (3346, 0.014483214323729687), (3347, 0.0), (3348, 0.0036977875787612873), (3349, 0.003964191654230094), (3350, 0.0037695731305856773), (3351, 0.003987885597929407), (3352, 0.029189346583379332), (3353, 0.0), (3354, 0.0), (3355, 0.0), (3356, 0.003376567554723812), (3357, 0.004749512707515895), (3358, 0.04713314507372906), (3359, 0.0), (3360, 0.038546978432768345), (3361, 0.016286185080207512), (3362, 0.020847771495990135), (3363, 0.0), (3364, 0.009579069935309902), (3365, 0.007028321366593353), (3366, 0.010680714060818504), (3367, 0.11835193463896351), (3368, 0.0328223777066702), (3369, 0.0), (3370, 0.0), (3371, 0.004232704895418316), (3372, 0.0), (3373, 0.10673401817737506), (3374, 0.009890837399273949), (3375, 0.003704143178303678), (3376, 0.003822887987905212), (3377, 0.039877327263757555), (3378, 0.03666613650847878), (3379, 0.0), (3380, 0.018169488390626112), (3381, 0.0), (3382, 0.0039870554738806714), (3383, 0.010542401776414837), (3384, 0.020223388921126042), (3385, 0.0), (3386, 0.015787820290776758), (3387, 0.016036219939585226), (3388, 0.004025820718197613), (3389, 0.014330386329781241), (3390, 0.0350097815148258), (3391, 0.025316556728378452), (3392, 0.0), (3393, 0.007136561863974704), (3394, 0.0063124009290242535), (3395, 0.030232697494187864), (3396, 0.0), (3397, 0.017960277877692037), (3398, 0.0), (3399, 0.010987388812187898), (3400, 0.0037367209519005495), (3401, 0.0), (3402, 0.003723463114839342), (3403, 0.026234001979879667), (3404, 0.03701372725914962), (3405, 0.0309205538208103), (3406, 0.022151891947352932), (3407, 0.02031123932859792), (3408, 0.004418672082141078), (3409, 0.01385303658722551), (3410, 0.012538528790503373), (3411, 0.0072800753313778405), (3412, 0.004366183300100586), (3413, 0.004589450911179544), (3414, 0.010022665786205857), (3415, 0.0039989119426554484), (3416, 0.012761239633952077), (3417, 0.0), (3418, 0.025983877535552306), (3419, 0.014688180389526448), (3420, 0.025922327914196595), (3421, 0.0026434812643438958), (3422, 0.004030267300025437), (3423, 0.008334130495597183), (3424, 0.02491561736780997), (3425, 0.0), (3426, 0.03463568823309368), (3427, 0.012775784666142157), (3428, 0.0039475481100070394), (3429, 0.003732353343720817), (3430, 0.0069068281077715385), (3431, 0.0), (3432, 0.005449329789593622), (3433, 0.0), (3434, 0.0), (3435, 0.02692380365359969), (3436, 0.0), (3437, 0.0), (3438, 0.01836689108047447), (3439, 0.014344246295429738), (3440, 0.006378171971012513), (3441, 0.02574445399227728), (3442, 0.004052982927280109), (3443, 0.009183384957617106), (3444, 0.02133714017838513), (3445, 0.04190065359351846), (3446, 0.004597668608679543), (3447, 0.018959271128432126), (3448, 0.020870713573156383), (3449, 0.02867059008042061), (3450, 0.011574922206258722), (3451, 0.005883887243376838), (3452, 0.02502777437534734), (3453, 0.006037988355019512), (3454, 0.021208565726614587), (3455, 0.0), (3456, 0.017204649150843337), (3457, 0.012537830714648104), (3458, 0.02772211092868241), (3459, 0.009056036115707499), (3460, 0.0), (3461, 0.07334154363144559), (3462, 0.057798801951879385), (3463, 0.16209675947914196), (3464, 0.07106778622742112), (3465, 0.009466455835240773), (3466, 0.030435308787812358), (3467, 0.03589194916824832), (3468, 0.0059163352193699215), (3469, 0.20116864255735586), (3470, 0.0), (3471, 0.0), (3472, 0.006954695309486821), (3473, 0.0), (3474, 0.0), (3475, 0.006211106346443001), (3476, 0.020185967257214107), (3477, 0.00822807458507271), (3478, 0.02271128566730861), (3479, 0.005102820868988715), (3480, 0.0), (3481, 0.006983554103244819), (3482, 0.007282481720574327), (3483, 0.029935797634192077), (3484, 0.021178926029634695), (3485, 0.021583623303494594), (3486, 0.012995350752158333), (3487, 0.021836102951298283), (3488, 0.0), (3489, 0.11403519623259116), (3490, 0.0036693074143596934), (3491, 0.004494402681588502), (3492, 0.011700578574718772), (3493, 0.025968611996333595), (3494, 0.0038455024548122597), (3495, 0.0), (3496, 0.004101454094293052), (3497, 0.0), (3498, 0.0), (3499, 0.0), (3500, 0.0035449489370353218), (3501, 0.0), (3502, 0.0054186931423531514), (3503, 0.003663941315771769), (3504, 0.011264449676192029), (3505, 0.0), (3506, 0.0), (3507, 0.010331593328343285), (3508, 0.018096298575344387), (3509, 0.009634381607886596), (3510, 0.004119246443356406), (3511, 0.023906675967166745), (3512, 0.005859136442931747), (3513, 0.009754874829477102), (3514, 0.037739942103648554), (3515, 0.017653540960949614), (3516, 0.010839122450148852), (3517, 0.003956269543949692), (3518, 0.053930545383809314), (3519, 0.004206756570011895), (3520, 0.048745131078543356), (3521, 0.0), (3522, 0.005618315785061848), (3523, 0.0), (3524, 0.008569616853256346), (3525, 0.024517074218655524), (3526, 0.008491893403549548), (3527, 0.0), (3528, 0.005056833597859904), (3529, 0.004198671580219551), (3530, 0.0), (3531, 0.031058789200014286), (3532, 0.014654086028418717), (3533, 0.0), (3534, 0.03750655183262708), (3535, 0.0), (3536, 0.012202577565919567), (3537, 0.00473934041181142), (3538, 0.014490354784594348), (3539, 0.004070804811454536), (3540, 0.0), (3541, 0.018497038914006208), (3542, 0.0), (3543, 0.0035519493014350336), (3544, 0.004651108799772922), (3545, 0.0037925745643497934), (3546, 0.008740283463709655), (3547, 0.0), (3548, 0.0), (3549, 0.00858157429805275), (3550, 0.0), (3551, 0.014485014065708623), (3552, 0.0062144283589960336), (3553, 0.05432060079917859), (3554, 0.0399020761188458), (3555, 0.012335647749051864), (3556, 0.004908370015543255), (3557, 0.026661333501386324), (3558, 0.013448722740869543), (3559, 0.009307697254257306), (3560, 0.01430075931810202), (3561, 0.0), (3562, 0.03520003084099541), (3563, 0.007562697802152103), (3564, 0.00449419623161482), (3565, 0.007563032248317678), (3566, 0.017846062531158967), (3567, 0.011224036469750627), (3568, 0.016499761117616404), (3569, 0.0), (3570, 0.04237762873757165), (3571, 0.011721520218653046), (3572, 0.004230351419183597), (3573, 0.0), (3574, 0.01405279506218272), (3575, 0.003086884279934665), (3576, 0.0), (3577, 0.010254713728343369), (3578, 0.02392247917357316), (3579, 0.013300015796108039), (3580, 0.0037435722973230908), (3581, 0.004200363139272968), (3582, 0.01594217683055952), (3583, 0.03523213856371329), (3584, 0.028494604104487457), (3585, 0.007448243852536948), (3586, 0.018515469844033895), (3587, 0.013196590683615766), (3588, 0.01887749037962767), (3589, 0.003523562596824737), (3590, 0.0), (3591, 0.009717288463851809), (3592, 0.03298710048390878), (3593, 0.006127981016597203), (3594, 0.011714016714823597), (3595, 0.008908000592090268), (3596, 0.027981519711427497), (3597, 0.13952927958161968), (3598, 0.020200481870333898), (3599, 0.016268958007288642), (3600, 0.03567907859119555), (3601, 0.004075011714802127), (3602, 0.057774899108781405), (3603, 0.0094882118456212), (3604, 0.03200790127443699), (3605, 0.005247866943135901), (3606, 0.003895876911637699), (3607, 0.0), (3608, 0.0), (3609, 0.005161763335837898), (3610, 0.03662402790287632), (3611, 0.07980438437351275), (3612, 0.004478538926782886), (3613, 0.0), (3614, 0.0), (3615, 0.0), (3616, 0.06941818027044358), (3617, 0.0), (3618, 0.02644130698862977), (3619, 0.01992584675299542), (3620, 0.04474356228343119), (3621, 0.0044961753871077936), (3622, 0.0071630081629315565), (3623, 0.005662925452132861), (3624, 0.0), (3625, 0.0), (3626, 0.006366139782611417), (3627, 0.0), (3628, 0.018096553329496376), (3629, 0.012432472270867698), (3630, 0.023828362285477085), (3631, 0.0), (3632, 0.08084906436528255), (3633, 0.02977241684527543), (3634, 0.006158288822490216), (3635, 0.017207966387628466), (3636, 0.0), (3637, 0.008715769258963972), (3638, 0.01460593743330874), (3639, 0.0), (3640, 0.0), (3641, 0.01500431541007435), (3642, 0.048052549508484886), (3643, 0.011947433130894934), (3644, 0.00815258355506306), (3645, 0.011580889822688036), (3646, 0.01718353647235261), (3647, 0.0), (3648, 0.03962068016764976), (3649, 0.004334689608750812), (3650, 0.008407846354558587), (3651, 0.005121312518320068), (3652, 0.004221966486450324), (3653, 0.0), (3654, 0.004708271658769786), (3655, 0.02999979905754293), (3656, 0.027643168952719014), (3657, 0.02990639151295179), (3658, 0.03067002349085304), (3659, 0.035515206789987215), (3660, 0.02553514552874856), (3661, 0.01341277303152941), (3662, 0.003819064407665134), (3663, 0.0), (3664, 0.0), (3665, 0.0556901821829137), (3666, 0.0), (3667, 0.008991371041332552), (3668, 0.008435743450711068), (3669, 0.0), (3670, 0.022905393667207626), (3671, 0.06391453316519746), (3672, 0.0), (3673, 0.003805502844225529), (3674, 0.007004390444950757), (3675, 0.0), (3676, 0.0094087804039635), (3677, 0.009828268339466081), (3678, 0.06894765035142822), (3679, 0.0), (3680, 0.006207600287621902), (3681, 0.031933453496545104), (3682, 0.0), (3683, 0.0039112225759114225), (3684, 0.011965473215377252), (3685, 0.010849447765490124), (3686, 0.004542437069011278), (3687, 0.0), (3688, 0.004233813230931071), (3689, 0.03662892063572263), (3690, 0.12617199626925965), (3691, 0.0), (3692, 0.0059106217621522125), (3693, 0.01085950379107491), (3694, 0.025597048043031714), (3695, 0.007917086456067802), (3696, 0.008634695638176386), (3697, 0.014021707304936348), (3698, 0.015568711115215093), (3699, 0.0), (3700, 0.012089474294094453), (3701, 0.02787282407753052), (3702, 0.0275732159356783), (3703, 0.008193713608698226), (3704, 0.0), (3705, 0.008935687500908528), (3706, 0.028440213738014596), (3707, 0.0055871067634780955), (3708, 0.006338247897898294), (3709, 0.011418319782248332), (3710, 0.1590113555993996), (3711, 0.008249463724065653), (3712, 0.007860069134028955), (3713, 0.018038483589473513), (3714, 0.0), (3715, 0.012014163432964011), (3716, 0.003434177847688855), (3717, 0.0), (3718, 0.04371088959340321), (3719, 0.0), (3720, 0.009617794960129895), (3721, 0.0), (3722, 0.008531514369969252), (3723, 0.09191547161983751), (3724, 0.010567620575919342), (3725, 0.0), (3726, 0.006528758214117731), (3727, 0.0471208354466003), (3728, 0.011874598921951186), (3729, 0.0), (3730, 0.03144566315632218), (3731, 0.01002938291171584), (3732, 0.003559855777758541), (3733, 0.01785435543250031), (3734, 0.005177594105488239), (3735, 0.012237756413702774), (3736, 0.019789445698647275), (3737, 0.0), (3738, 0.005021114666191265), (3739, 0.00838902996205983), (3740, 0.0048357032596478946), (3741, 0.01677714314595462), (3742, 0.016640043174233086), (3743, 0.022433765191548206), (3744, 0.01548982157882619), (3745, 0.02671617672686112), (3746, 0.004407012360906062), (3747, 0.04512299074967665), (3748, 0.01348140721541257), (3749, 0.0), (3750, 0.0), (3751, 0.013345837312286855), (3752, 0.0137943859119539), (3753, 0.003519954674838414), (3754, 0.004431229732102959), (3755, 0.0033769559800205413), (3756, 0.03005632875779722), (3757, 0.0), (3758, 0.0045699454985758175), (3759, 0.030376816151284264), (3760, 0.0), (3761, 0.0), (3762, 0.0), (3763, 0.004503131117798329), (3764, 0.027776794986588634), (3765, 0.034470378214520474), (3766, 0.0), (3767, 0.053857515603756206), (3768, 0.0), (3769, 0.0), (3770, 0.0), (3771, 0.01664166994908363), (3772, 0.03019357387126868), (3773, 0.012448358070360217), (3774, 0.0), (3775, 0.0), (3776, 0.00853559375297475), (3777, 0.028726011369520337), (3778, 0.02824078213956643), (3779, 0.027424572190239787), (3780, 0.004780011219257977), (3781, 0.0), (3782, 0.013633267376546323), (3783, 0.09868636374562706), (3784, 0.011194016819561042), (3785, 0.006397349091129669), (3786, 0.23895468113062177), (3787, 0.06596418501173777), (3788, 0.0), (3789, 0.004512517387430033), (3790, 0.00397140816024461), (3791, 0.004359941805339041), (3792, 0.026981952325594007), (3793, 0.0), (3794, 0.01455260842938347), (3795, 0.011385292152565717), (3796, 0.005284699959983569), (3797, 0.008060051983918085), (3798, 0.013202100047756007), (3799, 0.0), (3800, 0.005041105977230942), (3801, 0.013051290600542083), (3802, 0.05805014520468614), (3803, 0.013592845063184419), (3804, 0.0), (3805, 0.011026981558312419), (3806, 0.0), (3807, 0.005460759393853374), (3808, 0.004242417424902993), (3809, 0.023269231043507737), (3810, 0.004561814814485572), (3811, 0.0036020851247802574), (3812, 0.027005100477452037), (3813, 0.0), (3814, 0.0053994994800327534), (3815, 0.0), (3816, 0.05833564358464073), (3817, 0.021083651196906153), (3818, 0.008228901570041334), (3819, 0.02404548476994546), (3820, 0.02804934636266134), (3821, 0.0098628659101985), (3822, 0.04047732345653919), (3823, 0.008418464472442265), (3824, 0.0036468932546757198), (3825, 0.014660282505955993), (3826, 0.018264818319760595), (3827, 0.0), (3828, 0.0), (3829, 0.006770587341269345), (3830, 0.0), (3831, 0.057025104540171186), (3832, 0.009329228890929438), (3833, 0.0), (3834, 0.013618180512732126), (3835, 0.004386735884746202), (3836, 0.04365032952263922), (3837, 0.004194175772546144), (3838, 0.0), (3839, 0.031190672781717922), (3840, 0.03632954780969548), (3841, 0.00401474732806215), (3842, 0.0034777797760184065), (3843, 0.0), (3844, 0.004788141483244695), (3845, 0.003985465841203384), (3846, 0.03776554876510466), (3847, 0.0), (3848, 0.0), (3849, 0.04109680368334845), (3850, 0.06992019652618157), (3851, 0.004374801356953525), (3852, 0.0039007696683296157), (3853, 0.009324229273133838), (3854, 0.0041399345183989215), (3855, 0.029814886793398904), (3856, 0.02147240845786798), (3857, 0.03019764854948958), (3858, 0.009515313427649037), (3859, 0.003614106411271401), (3860, 0.0049772142606555984), (3861, 0.0033833804559919526), (3862, 0.027655111948005785), (3863, 0.0), (3864, 0.010479349131971964), (3865, 0.020350768778269735), (3866, 0.03574386381736313), (3867, 0.0), (3868, 0.007939590515452373), (3869, 0.01395223028018783), (3870, 0.02198094076308533), (3871, 0.017861449686573615), (3872, 0.0), (3873, 0.0), (3874, 0.0), (3875, 0.02814383785940571), (3876, 0.025928389814564638), (3877, 0.03832991829507957), (3878, 0.0), (3879, 0.0037044377390336794), (3880, 0.03841204198124838), (3881, 0.0), (3882, 0.0040214202301111605), (3883, 0.0), (3884, 0.0), (3885, 0.04670977111791137), (3886, 0.017452548447171243), (3887, 0.0), (3888, 0.0037806601004043757), (3889, 0.0041439104856947915), (3890, 0.01605557998681649), (3891, 0.004239520552564958), (3892, 0.004967137006511633), (3893, 0.05134146666372456), (3894, 0.00392627427154928), (3895, 0.01837450255783132), (3896, 0.0036844412328593664), (3897, 0.03835775696246933), (3898, 0.0), (3899, 0.0), (3900, 0.0), (3901, 0.0), (3902, 0.0), (3903, 0.07259224808105183), (3904, 0.0), (3905, 0.00404175961719816), (3906, 0.020138082559512667), (3907, 0.022494301434414842), (3908, 0.00556177364834652), (3909, 0.014537385439233006), (3910, 0.01733915483901885), (3911, 0.0), (3912, 0.003903684349151824), (3913, 0.0), (3914, 0.014526894917431655), (3915, 0.0), (3916, 0.003255855737097057), (3917, 0.01654989972432121), (3918, 0.0), (3919, 0.016288254079475123), (3920, 0.004637112508098356), (3921, 0.014720236019131402), (3922, 0.004716896789941747), (3923, 0.015205635128321321), (3924, 0.009842389546356483), (3925, 0.0), (3926, 0.01560649287813062), (3927, 0.009788819395110728), (3928, 0.0037395525702685834), (3929, 0.00965014591018384), (3930, 0.008590541998679091), (3931, 0.004469782952018252), (3932, 0.020947279629300868), (3933, 0.003405896623257357), (3934, 0.00811508266528804), (3935, 0.0), (3936, 0.004833726546612711), (3937, 0.012561327465462506), (3938, 0.0), (3939, 0.0), (3940, 0.0060051592465469655), (3941, 0.0035806526947687275), (3942, 0.024967685739514606), (3943, 0.004107099012911026), (3944, 0.0036087282436228878), (3945, 0.0), (3946, 0.009905479384565215), (3947, 0.00634374425743427), (3948, 0.0), (3949, 0.005252413059892618), (3950, 0.008494900650916017), (3951, 0.0137224480863587), (3952, 0.004381836905985266), (3953, 0.004994709478960089), (3954, 0.02830855747516397), (3955, 0.009945772947912882), (3956, 0.01870834242465373), (3957, 0.009693560510817567), (3958, 0.004707598621196809), (3959, 0.014864659390574828), (3960, 0.005075330934961214), (3961, 0.0), (3962, 0.03601500140699533), (3963, 0.03961697909270265), (3964, 0.004267391935970443), (3965, 0.03839349528562222), (3966, 0.004175256562554533), (3967, 0.008447868660295154), (3968, 0.25682580239024144), (3969, 0.012731205020130691), (3970, 0.06588861761058691), (3971, 0.003081399699762342), (3972, 0.15615361274808628), (3973, 0.03823915327373604), (3974, 0.0), (3975, 0.0), (3976, 0.0), (3977, 0.038275221523428306), (3978, 0.005236039703805676), (3979, 0.22599940568649038), (3980, 0.0320215285303149), (3981, 0.0), (3982, 0.2445048173997692), (3983, 0.008810552297136776), (3984, 0.004018419577216427), (3985, 0.0), (3986, 0.004028061751687836), (3987, 0.0), (3988, 0.004809477619323581), (3989, 0.0), (3990, 0.0), (3991, 0.006825997583171063), (3992, 0.0043191455635909455), (3993, 0.0050719494475596726), (3994, 0.004350537114950167), (3995, 0.0), (3996, 0.004555822392108592), (3997, 0.005844127119662233), (3998, 0.02029992208712119), (3999, 0.0), (4000, 0.0), (4001, 0.02559083369840679), (4002, 0.005199109676521276), (4003, 0.004220819621623906), (4004, 0.0), (4005, 0.0058657427923122655), (4006, 0.0044741901224906915), (4007, 0.022155592062778326), (4008, 0.011524505297055685), (4009, 0.017554455891707774), (4010, 0.0044088722213459115), (4011, 0.0), (4012, 0.053259586442937566), (4013, 0.004874064492857452), (4014, 0.0), (4015, 0.0458935321692488), (4016, 0.017066005464000392), (4017, 0.0), (4018, 0.006513424479260177), (4019, 0.0), (4020, 0.005385490394685862), (4021, 0.0), (4022, 0.021527136068102262), (4023, 0.03620899755072131), (4024, 0.0), (4025, 0.02080936740368082), (4026, 0.008419661858379765), (4027, 0.004034737443794605), (4028, 0.0), (4029, 0.003744530833908004), (4030, 0.0), (4031, 0.04471034445401727), (4032, 0.04805387487586378), (4033, 0.02975098107098422), (4034, 0.008030162811390008), (4035, 0.009662266534307814), (4036, 0.010805779369907335), (4037, 0.00882003204269258), (4038, 0.010654887179779226), (4039, 0.005351263496052185), (4040, 0.032015854047267665), (4041, 0.10583089190434894), (4042, 0.0), (4043, 0.02339578158942482), (4044, 0.013940837129302198), (4045, 0.00579948696717014), (4046, 0.006018022761572581), (4047, 0.0), (4048, 0.0), (4049, 0.003877879405381569), (4050, 0.0), (4051, 0.004262867873283239), (4052, 0.011736262088262468), (4053, 0.0), (4054, 0.004051574615420106), (4055, 0.06114246560623097), (4056, 0.012658933350285544), (4057, 0.010453336613531365), (4058, 0.004752671687122739), (4059, 0.004186579280960273), (4060, 0.0), (4061, 0.07382111222117134), (4062, 0.014244368604306903), (4063, 0.0), (4064, 0.009205076452013402), (4065, 0.0), (4066, 0.0033555489172378554), (4067, 0.0), (4068, 0.010125103932235507), (4069, 0.0), (4070, 0.22185930547536892), (4071, 0.1060213988587913), (4072, 0.0), (4073, 0.0037242094434841552), (4074, 0.010542671726776795), (4075, 0.0), (4076, 0.012620658588880528), (4077, 0.026982576128967983), (4078, 0.0), (4079, 0.0), (4080, 0.0), (4081, 0.0), (4082, 0.0), (4083, 0.0), (4084, 0.004913243871362792), (4085, 0.02161597292836294), (4086, 0.011967215320594119), (4087, 0.0), (4088, 0.03313127590298627), (4089, 0.02364744453336451), (4090, 0.04944134984493491), (4091, 0.018903993473251578), (4092, 0.026766212412121758), (4093, 0.12023657473957218), (4094, 0.019956213482876562), (4095, 0.023932789067977217), (4096, 0.0411731937882068), (4097, 0.004184365335252738), (4098, 0.005627024655037623), (4099, 0.028301687548503457), (4100, 0.005734354641238622), (4101, 0.024788142772736853), (4102, 0.004851475720262581), (4103, 0.012796582996023959), (4104, 0.0980604535420235), (4105, 0.03441629554070252), (4106, 0.055203212546809585), (4107, 0.0), (4108, 0.00928487106895811), (4109, 0.007508079841487171), (4110, 0.023174992908379148), (4111, 0.004090430314020291), (4112, 0.020522871025685993), (4113, 0.03561757531909614), (4114, 0.024475097786219494), (4115, 0.00515563276613381), (4116, 0.005984848373987437), (4117, 0.004361728443700971), (4118, 0.021581343035595495), (4119, 0.02702830738657188), (4120, 0.03490786342844922), (4121, 0.01568127847677702), (4122, 0.006817616612371276), (4123, 0.0), (4124, 0.004236074679043549), (4125, 0.00396855176408634), (4126, 0.0), (4127, 0.00463805399391924), (4128, 0.01268123120830333), (4129, 0.0), (4130, 0.01391130565130749), (4131, 0.009963443485837279), (4132, 0.004112854500366367), (4133, 0.0), (4134, 0.009995703272268439), (4135, 0.008415500584071369), (4136, 0.041565977215002374), (4137, 0.02743761618137961), (4138, 0.0), (4139, 0.0), (4140, 0.02898953772360386), (4141, 0.012988304626123975), (4142, 0.016272422181477827), (4143, 0.008958698397207195), (4144, 0.00608597748069378), (4145, 0.0), (4146, 0.02325422508030868), (4147, 0.03021058497209249), (4148, 0.00546806193674143), (4149, 0.03068703736985754), (4150, 0.0), (4151, 0.0), (4152, 0.020598559035495637), (4153, 0.032294831200518605), (4154, 0.0), (4155, 0.04602656682194608), (4156, 0.04633590883669632), (4157, 0.004387059505881399), (4158, 0.04973199400544528), (4159, 0.0), (4160, 0.008115351375603588), (4161, 0.0), (4162, 0.0), (4163, 0.0), (4164, 0.0), (4165, 0.0), (4166, 0.05237059213975132), (4167, 0.0), (4168, 0.007402741672860429), (4169, 0.0), (4170, 0.0), (4171, 0.0031639517456528454), (4172, 0.0), (4173, 0.004088150408275271), (4174, 0.007637457010596496), (4175, 0.0), (4176, 0.004116502762190737), (4177, 0.0), (4178, 0.0), (4179, 0.0), (4180, 0.004037836324654089), (4181, 0.1153346128052887), (4182, 0.008424896325467566), (4183, 0.022027695822499117), (4184, 0.00383657005839179), (4185, 0.006155934618721046), (4186, 0.02725921562860774), (4187, 0.0), (4188, 0.03521202937750825), (4189, 0.03526070648349901), (4190, 0.004557058194603911), (4191, 0.02403313578521649), (4192, 0.034363021680757146), (4193, 0.011574787207879245), (4194, 0.05773636225544411), (4195, 0.011052423785461923), (4196, 0.023693473676825755), (4197, 0.003895275996476347), (4198, 0.00504532042518301), (4199, 0.04987181829327524), (4200, 0.003159141960452506), (4201, 0.016036156750008745), (4202, 0.0076759481023996315), (4203, 0.01806118642240994), (4204, 0.0045478009896376395), (4205, 0.05907320580709835), (4206, 0.00362948737056645), (4207, 0.014863723708607078), (4208, 0.0), (4209, 0.0), (4210, 0.12219995890305482), (4211, 0.012493847194374366), (4212, 0.0), (4213, 0.0252292536501296), (4214, 0.003870322244456527), (4215, 0.0), (4216, 0.021948186447647376), (4217, 0.05623757615878929), (4218, 0.015196682868460454), (4219, 0.0), (4220, 0.0), (4221, 0.007339514027811685), (4222, 0.06886262106831355), (4223, 0.037230523968705784), (4224, 0.05731976411706228), (4225, 0.0), (4226, 0.01703425888798331), (4227, 0.0), (4228, 0.0), (4229, 0.0), (4230, 0.0), (4231, 0.0), (4232, 0.0), (4233, 0.013908327106554791), (4234, 0.003727485391590785), (4235, 0.0), (4236, 0.01850691539679205), (4237, 0.00340173718709524), (4238, 0.01485218621695681), (4239, 0.005278905601019703), (4240, 0.004887161203555805), (4241, 0.056858775726932154), (4242, 0.005561682198291054), (4243, 0.0), (4244, 0.006288928165921432), (4245, 0.0), (4246, 0.0036178174551807466), (4247, 0.0), (4248, 0.0054570340374727015), (4249, 0.005664062718685938), (4250, 0.0), (4251, 0.0), (4252, 0.01748460011208778), (4253, 0.0), (4254, 0.00358771964685198), (4255, 0.03597134675064387), (4256, 0.004054773405603951), (4257, 0.04454172090575104), (4258, 0.0041632237201234), (4259, 0.004244224694267569), (4260, 0.0040385438809395924), (4261, 0.004072804816908055), (4262, 0.004647814152293094), (4263, 0.004208461622546369), (4264, 0.02779034242117477), (4265, 0.009475763724863633), (4266, 0.0), (4267, 0.02162033488918154), (4268, 0.05969484340442907), (4269, 0.012565902533005786), (4270, 0.013505044835502807), (4271, 0.005539532248656887), (4272, 0.048402443574729385), (4273, 0.028904996939229193), (4274, 0.025858563785916288), (4275, 0.0), (4276, 0.006358471124877464), (4277, 0.009045016316835373), (4278, 0.0), (4279, 0.004281098394679029), (4280, 0.0), (4281, 0.03142310507011353), (4282, 0.012362862209378206), (4283, 0.040687902948179144), (4284, 0.004392600767263707), (4285, 0.010926076644509768), (4286, 0.0), (4287, 0.003947546206093033), (4288, 0.007364077199525053), (4289, 0.03771927328852485), (4290, 0.008081141773360565), (4291, 0.003815621013014848), (4292, 0.011037625658003775), (4293, 0.04033959776288325), (4294, 0.15635418614271218), (4295, 0.004362544888358542), (4296, 0.0), (4297, 0.011706325867405436), (4298, 0.027862466926040504), (4299, 0.022170959852145584), (4300, 0.03403434493666368), (4301, 0.0), (4302, 0.0), (4303, 0.017613955876582536), (4304, 0.003429358095667597), (4305, 0.003549658259234723), (4306, 0.025305169947103044), (4307, 0.0), (4308, 0.0041902432998920085), (4309, 0.022166836218893406), (4310, 0.005495103930886258), (4311, 0.0031043380499381906), (4312, 0.04092907380215993), (4313, 0.0), (4314, 0.05146349738741386), (4315, 0.0040690531853392956), (4316, 0.0), (4317, 0.004332826226929061), (4318, 0.0), (4319, 0.00392734247630772), (4320, 0.022653555843746204), (4321, 0.003637738257487024), (4322, 0.0), (4323, 0.011648829093542142), (4324, 0.004235867905603408), (4325, 0.008635820808374361), (4326, 0.0), (4327, 0.0037237646425831903), (4328, 0.04658533718346694), (4329, 0.003923334068235586), (4330, 0.004479323769501126), (4331, 0.0), (4332, 0.013859242366565203), (4333, 0.0), (4334, 0.023473255434813215), (4335, 0.004352207746562357), (4336, 0.007035380286870546), (4337, 0.008087381666895222), (4338, 0.05341364389647972), (4339, 0.004089426875117484), (4340, 0.0), (4341, 0.013118527936957775), (4342, 0.12833704411761152), (4343, 0.020920702680112365), (4344, 0.01387989203515726), (4345, 0.005207074917570523), (4346, 0.028179364178157182), (4347, 0.01592317807877039), (4348, 0.02500275881177142), (4349, 0.0), (4350, 0.020470617910258254), (4351, 0.024471691218969877), (4352, 0.0), (4353, 0.011973318056701406), (4354, 0.031330265867316555), (4355, 0.0), (4356, 0.003553542907234198), (4357, 0.004073009469290975), (4358, 0.003371175312639383), (4359, 0.0), (4360, 0.036478350122387614), (4361, 0.0), (4362, 0.0), (4363, 0.05226224128748884), (4364, 0.007245040995957589), (4365, 0.04691953347006307), (4366, 0.0), (4367, 0.010761094757383537), (4368, 0.0050384431448636125), (4369, 0.0), (4370, 0.05483827900621355), (4371, 0.03626255073533995), (4372, 0.0), (4373, 0.012985615195525588), (4374, 0.008499153830477215), (4375, 0.02131242530059054), (4376, 0.05894320866172076), (4377, 0.0), (4378, 0.023860541193068206), (4379, 0.04836631722738243), (4380, 0.0), (4381, 0.03562240014031086), (4382, 0.025655711627100678), (4383, 0.0), (4384, 0.005814353854879818), (4385, 0.006339529136088271), (4386, 0.0), (4387, 0.004365238794326184), (4388, 0.01602336866584541), (4389, 0.0), (4390, 0.0057044776481753115), (4391, 0.0), (4392, 0.0057804776814978824), (4393, 0.006192680402808713), (4394, 0.008234018216227901), (4395, 0.017679268353353827), (4396, 0.0), (4397, 0.0), (4398, 0.0), (4399, 0.008461849174253454), (4400, 0.0), (4401, 0.00808697737656143), (4402, 0.00413958264419615), (4403, 0.0), (4404, 0.0039037511276157717), (4405, 0.00657827201577314), (4406, 0.2499604144424535), (4407, 0.0), (4408, 0.004587544094275507), (4409, 0.0), (4410, 0.005777081433558167), (4411, 0.01945675016214804), (4412, 0.0), (4413, 0.004143044379034106), (4414, 0.00339288650427172), (4415, 0.22310519890351904), (4416, 0.0), (4417, 0.0), (4418, 0.009506300042536673), (4419, 0.0369451387686877), (4420, 0.004029036481555644), (4421, 0.003988651353274215), (4422, 0.003948588758274668), (4423, 0.0), (4424, 0.0), (4425, 0.0), (4426, 0.00329690351326634), (4427, 0.0), (4428, 0.011123992150296658), (4429, 0.0047663453765715525), (4430, 0.005747507353534284), (4431, 0.009575391909348889), (4432, 0.004804849991884759), (4433, 0.0039864659139999216), (4434, 0.0036602856343608287), (4435, 0.00551573137751493), (4436, 0.018600965134161457), (4437, 0.04294970953997872), (4438, 0.004292025417638999), (4439, 0.011697887227673748), (4440, 0.021221626816342425), (4441, 0.004252683854640666), (4442, 0.00804852983069998), (4443, 0.006724810735462323), (4444, 0.013055395740757498), (4445, 0.004121052168448104), (4446, 0.0041915508237164965), (4447, 0.008446970109924477), (4448, 0.008665691763819426), (4449, 0.005252862101855314), (4450, 0.008834730318941332), (4451, 0.004508224996307377), (4452, 0.004321823903730299), (4453, 0.021421355920953414), (4454, 0.06834090758181188), (4455, 0.008710416962755044), (4456, 0.013107544887700752), (4457, 0.011018380944766263), (4458, 0.0), (4459, 0.04144202966660137), (4460, 0.03514964554012831), (4461, 0.0), (4462, 0.02242217131428527), (4463, 0.004241256315491933), (4464, 0.0), (4465, 0.02602877234284192), (4466, 0.031186022587885328), (4467, 0.043084258899489386), (4468, 0.04880036860915183), (4469, 0.0), (4470, 0.023415043905081402), (4471, 0.0240837510516438), (4472, 0.004327535387600081), (4473, 0.007226846116405042), (4474, 0.0), (4475, 0.0), (4476, 0.0), (4477, 0.01164356990477539), (4478, 0.09642183111884982), (4479, 0.020917344773103586), (4480, 0.07229585421128314), (4481, 0.00952233169258497), (4482, 0.03414464263751617), (4483, 0.004558054947516833), (4484, 0.005094444830585929), (4485, 0.04810682760377921), (4486, 0.03207595366710188), (4487, 0.0), (4488, 0.0), (4489, 0.004052503602286126), (4490, 0.031402721979029366), (4491, 0.013848801521226283), (4492, 0.06774228271218659), (4493, 0.14764888091243525), (4494, 0.0), (4495, 0.021923638601857053), (4496, 0.004373510546793458), (4497, 0.0), (4498, 0.006262765975486331), (4499, 0.0), (4500, 0.0), (4501, 0.05415421225158525), (4502, 0.0), (4503, 0.01005137250392592), (4504, 0.0043208107516181605), (4505, 0.0), (4506, 0.004561896211235267), (4507, 0.030475220357013957), (4508, 0.0), (4509, 0.012598663358411068), (4510, 0.024105706817151178), (4511, 0.011697102638888984), (4512, 0.0), (4513, 0.0), (4514, 0.00462174052740321), (4515, 0.004981665314752109), (4516, 0.03434297819055494), (4517, 0.0), (4518, 0.0), (4519, 0.008872331890077235), (4520, 0.0), (4521, 0.0), (4522, 0.004164005425601635), (4523, 0.03293238745826825), (4524, 0.01403416044700054), (4525, 0.0), (4526, 0.008255723756650651), (4527, 0.0), (4528, 0.0), (4529, 0.0), (4530, 0.003736889536754236), (4531, 0.004961382461327428), (4532, 0.0), (4533, 0.03065156995748833), (4534, 0.005339086209289116), (4535, 0.033521457059291965), (4536, 0.021698151951650146), (4537, 0.004973807404122498), (4538, 0.0), (4539, 0.0), (4540, 0.0), (4541, 0.00731225103018503), (4542, 0.013540869059317031), (4543, 0.09462211174946736), (4544, 0.0), (4545, 0.0), (4546, 0.0), (4547, 0.0), (4548, 0.004196597172147267), (4549, 0.011056035731894063), (4550, 0.01667876061458309), (4551, 0.009908948000997805), (4552, 0.003960555426434486), (4553, 0.0048000522271083165), (4554, 0.008658067482583385), (4555, 0.005758767428886284), (4556, 0.06152704248298378), (4557, 0.017554120934518178), (4558, 0.0033479074828019185), (4559, 0.0), (4560, 0.004063455168565036), (4561, 0.0), (4562, 0.004746764905615548), (4563, 0.02328872231238622), (4564, 0.9999999999999999), (4565, 0.0), (4566, 0.0), (4567, 0.0), (4568, 0.06783828674718842), (4569, 0.006794611408087356), (4570, 0.013220008968789294), (4571, 0.00607162062519459), (4572, 0.0), (4573, 0.005321650380621932), (4574, 0.050886274319359506), (4575, 0.024030059869072716), (4576, 0.036158171999576716), (4577, 0.02815231571782375), (4578, 0.0), (4579, 0.0), (4580, 0.05729713394215996), (4581, 0.07334144349826399), (4582, 0.02394098365374404), (4583, 0.0), (4584, 0.0), (4585, 0.01964069132535104), (4586, 0.005716202365700484), (4587, 0.0), (4588, 0.02900500254411464), (4589, 0.025377137064895167), (4590, 0.07034604455361104), (4591, 0.026228251955033248), (4592, 0.008272109617069376), (4593, 0.0), (4594, 0.005273108676601526), (4595, 0.0), (4596, 0.024098395118666315), (4597, 0.06807993773007978), (4598, 0.0), (4599, 0.008765867361741337), (4600, 0.03182617785773494), (4601, 0.0), (4602, 0.08336267052519938), (4603, 0.01035839015123053), (4604, 0.004501008752860104), (4605, 0.008090551142632007), (4606, 0.0069497468301844625), (4607, 0.0), (4608, 0.004871443481758029), (4609, 0.12563793935449094), (4610, 0.00931975315405232), (4611, 0.0), (4612, 0.0055732269859067604), (4613, 0.020064027947932165), (4614, 0.0), (4615, 0.0), (4616, 0.0), (4617, 0.0), (4618, 0.0), (4619, 0.006056802050214583), (4620, 0.019178260630676958), (4621, 0.004678143241277719), (4622, 0.025782432920987912), (4623, 0.0), (4624, 0.009388939661907928), (4625, 0.0), (4626, 0.010290248164797487), (4627, 0.0032786480357322447), (4628, 0.007887681035172067), (4629, 0.034088969671304), (4630, 0.00615613861193041), (4631, 0.011306327798886968), (4632, 0.0), (4633, 0.02915836311893371), (4634, 0.004177374101535515), (4635, 0.006367721499574578), (4636, 0.0032222275384385505), (4637, 0.0), (4638, 0.0), (4639, 0.0), (4640, 0.0), (4641, 0.02310529312542164), (4642, 0.030633326336129314), (4643, 0.007445407402684536), (4644, 0.0), (4645, 0.0), (4646, 0.02529768974734849), (4647, 0.03097584678487287), (4648, 0.003951639010500616), (4649, 0.01584173584973756), (4650, 0.004403440752400203), (4651, 0.0), (4652, 0.015331607802511131), (4653, 0.006711697178625928), (4654, 0.0), (4655, 0.004044425322261337), (4656, 0.005919517610104073), (4657, 0.0), (4658, 0.015610260315569259), (4659, 0.010754887206227384), (4660, 0.005520473500411734), (4661, 0.004866012155710008), (4662, 0.0), (4663, 0.03064595080333639), (4664, 0.018891581388505163), (4665, 0.0), (4666, 0.007431912218101336), (4667, 0.0035732523341742354), (4668, 0.0), (4669, 0.024735573473933584), (4670, 0.0), (4671, 0.0), (4672, 0.0), (4673, 0.0053168783710915235), (4674, 0.007191296591693029), (4675, 0.0038066116956328895), (4676, 0.013815167880467782), (4677, 0.0), (4678, 0.0), (4679, 0.00787168124834138), (4680, 0.0), (4681, 0.0), (4682, 0.09007518430089548), (4683, 0.0), (4684, 0.10581284919996464), (4685, 0.05820531105818263), (4686, 0.004504120562922718), (4687, 0.04879138063795459), (4688, 0.0037939858655052466), (4689, 0.013095745126867803), (4690, 0.008731424120348), (4691, 0.0), (4692, 0.0), (4693, 0.0), (4694, 0.0), (4695, 0.03632923419877258), (4696, 0.0), (4697, 0.0), (4698, 0.006623132623996294), (4699, 0.0), (4700, 0.005173678885911249), (4701, 0.0), (4702, 0.00388000269248821), (4703, 0.03613827009622172), (4704, 0.0), (4705, 0.007848622623978532), (4706, 0.00424506629844293), (4707, 0.0), (4708, 0.0054476128531949315), (4709, 0.00746167336984047), (4710, 0.0), (4711, 0.004509722057284376), (4712, 0.0), (4713, 0.0), (4714, 0.054410129413882395), (4715, 0.0), (4716, 0.033506881038442696), (4717, 0.0045117465310561935), (4718, 0.0), (4719, 0.007400385856561017), (4720, 0.03011416251507728), (4721, 0.06390517086905408), (4722, 0.0), (4723, 0.006711884597701447), (4724, 0.0), (4725, 0.050064495160121916), (4726, 0.011843831922068171), (4727, 0.030295056075534465), (4728, 0.0), (4729, 0.0), (4730, 0.0), (4731, 0.0), (4732, 0.015653585171092815), (4733, 0.023530370969060882), (4734, 0.004129298257690487), (4735, 0.0), (4736, 0.0), (4737, 0.004332440905963204), (4738, 0.011099589030749505), (4739, 0.026047213926586876), (4740, 0.0), (4741, 0.006255480315926356), (4742, 0.014130024945928906), (4743, 0.005356257052446058), (4744, 0.003097491635361924), (4745, 0.00566304018837458), (4746, 0.004333818136347226), (4747, 0.006317750719874323), (4748, 0.018737738895434973), (4749, 0.0), (4750, 0.0), (4751, 0.0), (4752, 0.007138977462921138), (4753, 0.0), (4754, 0.06645645892213647), (4755, 0.0045039873390279594), (4756, 0.003966031431476583), (4757, 0.0), (4758, 0.0), (4759, 0.0)]\n"
          ]
        }
      ]
    },
    {
      "cell_type": "code",
      "source": [
        "len(Recommendation_score)"
      ],
      "metadata": {
        "colab": {
          "base_uri": "https://localhost:8080/"
        },
        "id": "c2YYJqU6d50P",
        "outputId": "e137ebc9-5c7f-44c0-fde0-ebff4d97c274"
      },
      "execution_count": 66,
      "outputs": [
        {
          "output_type": "execute_result",
          "data": {
            "text/plain": [
              "4760"
            ]
          },
          "metadata": {},
          "execution_count": 66
        }
      ]
    },
    {
      "cell_type": "markdown",
      "source": [
        "Get all movies short based on recommendation score wrt favourite movie\n"
      ],
      "metadata": {
        "id": "CqsAaWPPeElE"
      }
    },
    {
      "cell_type": "code",
      "source": [
        "#shorting the movie on the  based on similarity score\n",
        "sorted_similar_movies = sorted(Recommendation_score,key = lambda x:x[1],reverse=True)\n",
        "print(sorted_similar_movies)"
      ],
      "metadata": {
        "colab": {
          "base_uri": "https://localhost:8080/"
        },
        "id": "NPr7PXLTeTRA",
        "outputId": "a5e7f5c6-37a1-4c0f-e043-8f7e40ef799f"
      },
      "execution_count": 67,
      "outputs": [
        {
          "output_type": "stream",
          "name": "stdout",
          "text": [
            "[(4564, 0.9999999999999999), (565, 0.26666119487193196), (1579, 0.26474106739044334), (3132, 0.2592935840961065), (3968, 0.25682580239024144), (4406, 0.2499604144424535), (3982, 0.2445048173997692), (2850, 0.24307065370509717), (3786, 0.23895468113062177), (3133, 0.23408449994523817), (666, 0.2264095527944251), (3979, 0.22599940568649038), (4415, 0.22310519890351904), (3134, 0.2221698041529312), (4070, 0.22185930547536892), (3469, 0.20116864255735586), (2501, 0.1866574184128901), (1111, 0.17259416938145586), (1649, 0.16858842366147267), (3463, 0.16209675947914196), (3710, 0.1590113555993996), (4294, 0.15635418614271218), (3972, 0.15615361274808628), (231, 0.1497990663331261), (4493, 0.14764888091243525), (1074, 0.14454707656900978), (3597, 0.13952927958161968), (3286, 0.1356889586254103), (1603, 0.13462575191774234), (2058, 0.13435858538635562), (567, 0.1329481292872259), (4342, 0.12833704411761152), (3690, 0.12617199626925965), (4609, 0.12563793935449094), (2815, 0.12343523599357442), (4210, 0.12219995890305482), (615, 0.12057042042497268), (4093, 0.12023657473957218), (3367, 0.11835193463896351), (2780, 0.11774911122527047), (88, 0.11622071076982729), (4181, 0.1153346128052887), (1512, 0.11446179230073746), (3489, 0.11403519623259116), (2205, 0.11326564706821753), (2843, 0.111718509696274), (3131, 0.10931354771553187), (572, 0.10726499690819455), (3373, 0.10673401817737506), (1386, 0.10637638758521632), (4071, 0.1060213988587913), (4041, 0.10583089190434894), (4684, 0.10581284919996464), (1150, 0.10400938901118291), (1396, 0.10139697425218068), (3783, 0.09868636374562706), (4104, 0.0980604535420235), (4478, 0.09642183111884982), (1414, 0.09528606974633388), (4543, 0.09462211174946736), (3723, 0.09191547161983751), (4682, 0.09007518430089548), (700, 0.0899123768706941), (1459, 0.08798290050675735), (3089, 0.08725385588963916), (1115, 0.0855014963081797), (715, 0.08380185315909092), (2452, 0.08357079734231976), (4602, 0.08336267052519938), (212, 0.08311803287898088), (2867, 0.0827416813952099), (2582, 0.08262321334627024), (1852, 0.08085968791270363), (3632, 0.08084906436528255), (274, 0.08064562770402783), (2803, 0.08056283468210415), (1090, 0.07998152352930424), (3611, 0.07980438437351275), (1433, 0.07956296738285398), (1956, 0.0784488196312601), (1066, 0.07799022251428599), (2309, 0.07770143732598224), (725, 0.07690814794974626), (523, 0.07535029350111283), (2101, 0.07482748981568499), (4061, 0.07382111222117134), (3461, 0.07334154363144559), (4581, 0.07334144349826399), (3903, 0.07259224808105183), (1923, 0.0725836398598652), (506, 0.07240027896942872), (4480, 0.07229585421128314), (998, 0.07227799216339066), (363, 0.0719755885340293), (1029, 0.07184205068516594), (1326, 0.0716136536806632), (3097, 0.07130340740091996), (3464, 0.07106778622742112), (172, 0.07045916783681092), (4590, 0.07034604455361104), (3850, 0.06992019652618157), (3042, 0.06957087458892479), (821, 0.06945193969412247), (3616, 0.06941818027044358), (1583, 0.06913771767980685), (2610, 0.06910300567096368), (67, 0.06905171961062055), (3678, 0.06894765035142822), (4222, 0.06886262106831355), (4454, 0.06834090758181188), (2552, 0.06824293355589849), (4597, 0.06807993773007978), (4568, 0.06783828674718842), (4492, 0.06774228271218659), (1788, 0.06660338447924839), (4754, 0.06645645892213647), (3787, 0.06596418501173777), (3970, 0.06588861761058691), (1764, 0.06529553142234631), (1024, 0.06517851385751482), (1774, 0.06484810741958678), (2844, 0.06459088388364848), (1308, 0.06453862542362984), (2436, 0.06452887335883284), (1983, 0.06408731484152402), (3671, 0.06391453316519746), (4721, 0.06390517086905408), (710, 0.06352371598580257), (2413, 0.06320194754468662), (1094, 0.06299827622447628), (2439, 0.06283306608416282), (3114, 0.06243455663788961), (1280, 0.06241084955626068), (1192, 0.06225238048370282), (1934, 0.0619703091763245), (4556, 0.06152704248298378), (2144, 0.06149350376084618), (4055, 0.06114246560623097), (2657, 0.060919890061507234), (3213, 0.060220032255923095), (1269, 0.06015576770912149), (2960, 0.05977826715980005), (4268, 0.05969484340442907), (2086, 0.05945463700564938), (4205, 0.05907320580709835), (2340, 0.059053380731847155), (4376, 0.05894320866172076), (2322, 0.05890117662656498), (433, 0.058868961289282914), (692, 0.058589228287934184), (3816, 0.05833564358464073), (2566, 0.0583235364592457), (4685, 0.05820531105818263), (3802, 0.05805014520468614), (3022, 0.058013740295268984), (3462, 0.057798801951879385), (3602, 0.057774899108781405), (4194, 0.05773636225544411), (2162, 0.057645852956332705), (2420, 0.057514132032458684), (4224, 0.05731976411706228), (4580, 0.05729713394215996), (2585, 0.057180647812945136), (1911, 0.057175898734856255), (491, 0.05717405260512569), (3831, 0.057025104540171186), (1836, 0.05701007724549627), (4241, 0.056858775726932154), (1833, 0.056401987837864855), (1553, 0.05627422234929619), (4217, 0.05623757615878929), (2376, 0.05621918302998123), (895, 0.0561573451028856), (1797, 0.055982978780461136), (2708, 0.05586666607192276), (1224, 0.05571360911685257), (3665, 0.0556901821829137), (1723, 0.05565487689273604), (1248, 0.05547065617463963), (2310, 0.05543058522887688), (146, 0.05538557912090212), (2990, 0.05520910345842904), (4106, 0.055203212546809585), (1057, 0.05512253595490013), (1418, 0.05509205544125535), (4370, 0.05483827900621355), (215, 0.054628723808591205), (1495, 0.05447043873569879), (4714, 0.054410129413882395), (3553, 0.05432060079917859), (1134, 0.05431156042871847), (3041, 0.05419743244321103), (3323, 0.054180775847033846), (4501, 0.05415421225158525), (1329, 0.05402236877934106), (635, 0.05396999268854377), (3518, 0.053930545383809314), (65, 0.053923527789337615), (186, 0.05386696907317571), (3767, 0.053857515603756206), (1555, 0.053757080479790005), (929, 0.05365518385137137), (2917, 0.053431709626469565), (4338, 0.05341364389647972), (4012, 0.053259586442937566), (385, 0.053071250182479955), (35, 0.05268213218886251), (56, 0.05261372112865705), (480, 0.05259451484776333), (2863, 0.05254128527745428), (153, 0.052510384490109474), (2159, 0.05240597977020481), (4166, 0.05237059213975132), (4363, 0.05226224128748884), (2136, 0.05218612300753948), (2840, 0.052097473361750794), (1533, 0.0520846823608138), (1473, 0.052007750921552666), (2852, 0.05188940780217911), (2330, 0.051708040064270905), (4314, 0.05146349738741386), (53, 0.0513958616943563), (3893, 0.05134146666372456), (1908, 0.050969401940308544), (1194, 0.050887518543298135), (4574, 0.050886274319359506), (261, 0.050776399937493555), (2792, 0.050489142221928796), (1506, 0.050151268599949055), (4725, 0.050064495160121916), (1880, 0.05006146584819364), (2524, 0.05003386945390176), (3124, 0.049992103693854734), (4199, 0.04987181829327524), (4158, 0.04973199400544528), (108, 0.04962730201647188), (1650, 0.049539891025419565), (4090, 0.04944134984493491), (3293, 0.04921970035061126), (2123, 0.04919165487769282), (1841, 0.04909099181488911), (397, 0.04906618544202885), (3172, 0.048922979322185436), (4468, 0.04880036860915183), (4687, 0.04879138063795459), (3520, 0.048745131078543356), (965, 0.04872084363667802), (2133, 0.04858407508529433), (422, 0.04851375092788354), (2100, 0.04848066147335893), (1256, 0.048480255153878674), (2521, 0.04841909084300858), (4272, 0.048402443574729385), (1895, 0.04839017719183442), (4379, 0.04836631722738243), (2368, 0.0483488363408212), (3130, 0.04816282882716204), (110, 0.04815902857933394), (1680, 0.04814782371158318), (4485, 0.04810682760377921), (4032, 0.04805387487586378), (3642, 0.048052549508484886), (1510, 0.047695451223132554), (1714, 0.04754858995428595), (2548, 0.047444170945679896), (2595, 0.047399656448145575), (3358, 0.04713314507372906), (3727, 0.0471208354466003), (3150, 0.047095521217292206), (4365, 0.04691953347006307), (731, 0.046732807991312325), (3885, 0.04670977111791137), (4328, 0.04658533718346694), (1541, 0.04637339542041847), (4156, 0.04633590883669632), (3277, 0.046036681020921656), (4155, 0.04602656682194608), (2612, 0.04602577911027624), (977, 0.046012057931917025), (2976, 0.045996197040749615), (1527, 0.045946360202269304), (595, 0.04594303591033081), (4015, 0.0458935321692488), (1522, 0.04577820903384839), (2619, 0.045743443278917294), (2014, 0.04572207292400233), (2316, 0.045712323512828563), (1750, 0.045693669545166016), (1351, 0.04563256302753039), (2650, 0.045404388003454525), (1675, 0.045377058191084306), (1870, 0.04533056084168468), (3747, 0.04512299074967665), (2530, 0.045042605408651015), (2172, 0.04504154854848425), (756, 0.045032091415719566), (3091, 0.04486525730244288), (3620, 0.04474356228343119), (4031, 0.04471034445401727), (2979, 0.04455689187628992), (4257, 0.04454172090575104), (2075, 0.04418031845778112), (414, 0.04402795321731867), (3718, 0.04371088959340321), (1054, 0.0436733679998534), (3836, 0.04365032952263922), (1803, 0.04359729795284849), (130, 0.04354324538405941), (2102, 0.04338398390086526), (162, 0.04326146159512091), (1195, 0.0432353597355654), (418, 0.04322703578466066), (4467, 0.043084258899489386), (4437, 0.04294970953997872), (2399, 0.04251242082228497), (3570, 0.04237762873757165), (124, 0.04221520816096312), (2474, 0.04218608442181125), (3072, 0.04217261150669447), (2055, 0.041915920567215485), (3445, 0.04190065359351846), (1055, 0.041895524512992756), (1458, 0.04184698339906802), (1307, 0.04184472458047253), (2028, 0.04171536550819023), (187, 0.04168664202593659), (1069, 0.04165784046940442), (4136, 0.041565977215002374), (2329, 0.04156473283158806), (353, 0.04154130106010159), (3, 0.04153465657621692), (852, 0.041496135831007565), (4459, 0.04144202966660137), (1936, 0.04137175837823502), (2095, 0.04128676698228025), (269, 0.041234120309652275), (1292, 0.04120012114605231), (4096, 0.0411731937882068), (107, 0.04115288281399813), (3849, 0.04109680368334845), (601, 0.04107727917935182), (2996, 0.040938548950949845), (4312, 0.04092907380215993), (1431, 0.040857750838832585), (2294, 0.04081488100376591), (900, 0.04073581530351499), (4283, 0.040687902948179144), (713, 0.04067444440735239), (277, 0.04059893423090112), (2286, 0.04051296144485737), (41, 0.04048060351575459), (3822, 0.04047732345653919), (2153, 0.04042055217436562), (1686, 0.04040028446885008), (312, 0.040383259195326676), (1961, 0.040370932790349603), (4293, 0.04033959776288325), (1460, 0.0402744179165423), (1167, 0.04025586863269644), (1443, 0.04011908944265831), (1108, 0.040058395287323634), (3027, 0.03993361615920607), (2043, 0.03992713084410975), (2769, 0.03991379909156326), (3554, 0.0399020761188458), (3377, 0.039877327263757555), (1239, 0.03967045858738879), (1032, 0.03965039614132496), (3648, 0.03962068016764976), (3963, 0.03961697909270265), (1970, 0.039555923091766976), (3202, 0.039554288762170965), (1477, 0.03944885062434489), (1243, 0.03937503539736968), (1106, 0.03924354123715974), (1661, 0.03907371000391661), (2403, 0.038974668152042584), (591, 0.038918819216800335), (492, 0.038902590559833375), (1273, 0.03888403397731825), (1877, 0.03872002413894634), (2947, 0.03871076235031043), (2353, 0.038649236551703034), (2898, 0.038619561716189375), (3242, 0.03857791371118943), (614, 0.038572328557972636), (3360, 0.038546978432768345), (3880, 0.03841204198124838), (3965, 0.03839349528562222), (165, 0.03837568619275481), (874, 0.0383617104774508), (3897, 0.03835775696246933), (3877, 0.03832991829507957), (548, 0.03831311288159477), (3977, 0.038275221523428306), (914, 0.038247204101459854), (3973, 0.03823915327373604), (3018, 0.03816414045001621), (59, 0.03813812343473354), (2646, 0.03811733559178916), (1985, 0.038113094619033824), (906, 0.038059761257680125), (1725, 0.03805914317666796), (2128, 0.03799786424394324), (2859, 0.03792942480148239), (2511, 0.0378791343421685), (2584, 0.03783977901240738), (2513, 0.03781328691516255), (413, 0.03779432075137426), (3846, 0.03776554876510466), (3514, 0.037739942103648554), (4289, 0.03771927328852485), (2365, 0.03766684286230209), (333, 0.037566400815713774), (342, 0.03755211815365239), (2944, 0.0375197762746471), (3534, 0.03750655183262708), (3066, 0.037412630665312974), (1901, 0.037284293605251484), (550, 0.037242849198193755), (4223, 0.037230523968705784), (57, 0.03720427742184532), (542, 0.037176404092906), (1254, 0.03715070062504395), (1416, 0.037100204854534295), (1439, 0.03709026952142609), (1373, 0.03705383249489418), (55, 0.03702992962933189), (3404, 0.03701372725914962), (2351, 0.03701297534124081), (4419, 0.0369451387686877), (298, 0.036944838170878236), (714, 0.036810175613331296), (3119, 0.03679616386919568), (1240, 0.03679008400947665), (2125, 0.03676714194017099), (3378, 0.03666613650847878), (3095, 0.03663505938432139), (3689, 0.03662892063572263), (3610, 0.03662402790287632), (2418, 0.03653978563694226), (727, 0.03650351986360219), (4360, 0.036478350122387614), (1172, 0.036469596404943704), (2145, 0.03644664363826232), (1645, 0.03639401424156981), (398, 0.03635094103129082), (3840, 0.03632954780969548), (4695, 0.03632923419877258), (2499, 0.03627896503322835), (4371, 0.03626255073533995), (0, 0.03622061598629978), (4023, 0.03620899755072131), (2955, 0.036189410832658725), (4576, 0.036158171999576716), (4703, 0.03613827009622172), (193, 0.03607864589265948), (3962, 0.03601500140699533), (4255, 0.03597134675064387), (1165, 0.03595572612113703), (3467, 0.03589194916824832), (1263, 0.03587542783229128), (3866, 0.03574386381736313), (1081, 0.03571855979466953), (1013, 0.03568294427640458), (3600, 0.03567907859119555), (949, 0.0356777333849254), (1707, 0.03567508808621127), (4381, 0.03562240014031086), (4113, 0.03561757531909614), (3126, 0.035616473215883994), (138, 0.03558693437598195), (3659, 0.035515206789987215), (1570, 0.03545998840643752), (299, 0.03536142201699212), (961, 0.03534736759070109), (881, 0.03529852608649), (1349, 0.03528608739374431), (2551, 0.03526904598613978), (263, 0.035262765803784395), (4189, 0.03526070648349901), (3583, 0.03523213856371329), (1077, 0.03521675361569232), (4188, 0.03521202937750825), (3562, 0.03520003084099541), (4460, 0.03514964554012831), (931, 0.035113570138687676), (3094, 0.035096485858442716), (2389, 0.035019772592272166), (1341, 0.0350137453533569), (3390, 0.0350097815148258), (4120, 0.03490786342844922), (3205, 0.03486550023511158), (496, 0.03476937858620992), (104, 0.03468933316529346), (3014, 0.03468787711797433), (913, 0.03466216419490188), (90, 0.03465469985162977), (3426, 0.03463568823309368), (2616, 0.034590244804849256), (247, 0.03455132135895103), (1412, 0.034502080759769585), (273, 0.034478727378771216), (3765, 0.034470378214520474), (2732, 0.03442441705046497), (4105, 0.03441629554070252), (4192, 0.034363021680757146), (1198, 0.03435953637584356), (4516, 0.03434297819055494), (944, 0.034234158536103704), (1903, 0.034210758914235286), (4482, 0.03414464263751617), (4629, 0.034088969671304), (2051, 0.03407901286740724), (1798, 0.034059385590942154), (4300, 0.03403434493666368), (2117, 0.033993505825086714), (706, 0.03380798686695666), (2517, 0.033775686715105994), (526, 0.033750885734399855), (1737, 0.03367879740304135), (3174, 0.03352875241945588), (4535, 0.033521457059291965), (4716, 0.033506881038442696), (1445, 0.03350510603306759), (936, 0.03350113825707929), (2486, 0.033438928222543955), (2808, 0.03340245096628469), (3240, 0.03331137055861234), (359, 0.033298747514611815), (973, 0.03326541342376872), (2744, 0.03326266647263923), (2546, 0.03326039913121553), (4088, 0.03313127590298627), (1517, 0.033096593126387346), (179, 0.03309054570108294), (3592, 0.03298710048390878), (2442, 0.03295898646820528), (4523, 0.03293238745826825), (1135, 0.032886261386062765), (808, 0.03286409046479174), (1869, 0.03285223072603448), (3108, 0.032823717667904505), (3368, 0.0328223777066702), (1683, 0.0328100570890571), (1525, 0.03275830144680239), (2202, 0.03266722974114962), (1578, 0.032659477033353514), (1453, 0.03260755177427238), (2911, 0.03259295830693076), (2433, 0.03241593120089754), (1266, 0.0323677949277616), (609, 0.03235025660318307), (687, 0.03234291618168161), (1047, 0.03230785034368704), (4153, 0.032294831200518605), (242, 0.03223651797805152), (553, 0.03223401638113954), (122, 0.03215961078864596), (2757, 0.0321267681827368), (2711, 0.03210041269536791), (4486, 0.03207595366710188), (1296, 0.032067823310641536), (101, 0.03206523711321423), (3980, 0.0320215285303149), (4040, 0.032015854047267665), (3604, 0.03200790127443699), (1021, 0.03196892719035308), (3681, 0.031933453496545104), (690, 0.03187149919193512), (4600, 0.03182617785773494), (2074, 0.031770022368457364), (1374, 0.03174928698296043), (1005, 0.031702649781305894), (2182, 0.031680744261632726), (1246, 0.0316396703301066), (2199, 0.03161757717720464), (1855, 0.03158682146443384), (1925, 0.031550332107356485), (1733, 0.031540658737692316), (729, 0.0314470432555044), (3730, 0.03144566315632218), (4281, 0.03142310507011353), (4490, 0.031402721979029366), (3281, 0.03137821603951445), (4354, 0.031330265867316555), (2729, 0.03128387089027694), (1481, 0.031241582720084482), (356, 0.031239245607488773), (555, 0.03122593446089164), (2941, 0.031214106214100815), (3839, 0.031190672781717922), (4466, 0.031186022587885328), (3016, 0.031160334330849047), (391, 0.031107984297648904), (2813, 0.03107516743527526), (3531, 0.031058789200014286), (1710, 0.031023185285764896), (4647, 0.03097584678487287), (1390, 0.03094820452714141), (2013, 0.030945583629186195), (1812, 0.030941615204372316), (2988, 0.030936288925658535), (2158, 0.030935302306499074), (2542, 0.030922486315539264), (3405, 0.0309205538208103), (1801, 0.030858462882604243), (828, 0.03078245807848521), (4149, 0.03068703736985754), (452, 0.030673155866144716), (3658, 0.03067002349085304), (4533, 0.03065156995748833), (4663, 0.03064595080333639), (4642, 0.030633326336129314), (3252, 0.030617586085598485), (514, 0.030582535510067087), (1651, 0.0305719706531904), (392, 0.030556265537445882), (2114, 0.030555338120759352), (883, 0.030520204545023428), (4507, 0.030475220357013957), (2688, 0.030457743818231204), (3466, 0.030435308787812358), (250, 0.03042321506906793), (1858, 0.030422135439126346), (728, 0.030416386599455655), (3759, 0.030376816151284264), (701, 0.03034939631113686), (2081, 0.030332574412801384), (4727, 0.030295056075534465), (235, 0.030294503950799075), (3395, 0.030232697494187864), (4147, 0.03021058497209249), (1336, 0.03020418826756511), (3857, 0.03019764854948958), (3772, 0.03019357387126868), (1139, 0.030162039963860302), (4720, 0.03011416251507728), (2639, 0.03008287710522153), (3756, 0.03005632875779722), (3655, 0.02999979905754293), (898, 0.02994639023883702), (3483, 0.029935797634192077), (1613, 0.029921043695272567), (1293, 0.0299078441718717), (3657, 0.02990639151295179), (2508, 0.029881109080673887), (3855, 0.029814886793398904), (2131, 0.02978851529567031), (533, 0.02978283214712823), (682, 0.02978079666233123), (3633, 0.02977241684527543), (2642, 0.029771269704377098), (4033, 0.02975098107098422), (724, 0.02974287771008686), (776, 0.029742350082699306), (2448, 0.029660224104826355), (656, 0.029627333926580072), (1305, 0.02959105552939914), (2088, 0.029546137404395656), (2740, 0.029540956478247796), (963, 0.02953998107343036), (1033, 0.029527007224356163), (3336, 0.029412408184883367), (2535, 0.02940692070419755), (3329, 0.0293411079913847), (1366, 0.029296236287177837), (1839, 0.029280333207862864), (2293, 0.029256193038944448), (1379, 0.029215951325372476), (28, 0.02920627355938733), (3352, 0.029189346583379332), (1695, 0.02917851352678243), (4633, 0.02915836311893371), (1278, 0.029148731983614663), (1860, 0.029077035978160772), (1145, 0.029025167106550762), (1129, 0.029021451372765322), (4588, 0.02900500254411464), (1079, 0.028992261863603114), (4140, 0.02898953772360386), (569, 0.02891405007759497), (4273, 0.028904996939229193), (477, 0.02887834353314766), (515, 0.02886400362800455), (1471, 0.028835929957135478), (27, 0.02878056508263785), (2371, 0.02874149609767684), (3777, 0.028726011369520337), (483, 0.02870607399593009), (417, 0.028702530500095646), (21, 0.028702336673083986), (3449, 0.02867059008042061), (2884, 0.02864136791769427), (2991, 0.028622601895207395), (1257, 0.028587198459075404), (1848, 0.028561673291957176), (2332, 0.028551610407070212), (1643, 0.028543570248021167), (2666, 0.028505696618335723), (3584, 0.028494604104487457), (384, 0.028481654094829757), (1711, 0.028480399820166903), (2187, 0.028475327691472953), (1019, 0.028463192092513974), (3706, 0.028440213738014596), (2588, 0.028419216210173705), (119, 0.028417304624007676), (3954, 0.02830855747516397), (4099, 0.028301687548503457), (730, 0.02828831372191759), (3778, 0.02824078213956643), (4346, 0.028179364178157182), (2301, 0.02817839232425785), (328, 0.028175409339960315), (2761, 0.028159719377830447), (2261, 0.02815419757778334), (4577, 0.02815231571782375), (3875, 0.02814383785940571), (307, 0.028135046363566417), (2510, 0.028125062514569983), (1808, 0.028085951192457145), (1310, 0.028083758220829726), (3820, 0.02804934636266134), (2839, 0.02802220695037486), (3596, 0.027981519711427497), (3052, 0.027957313314842327), (2397, 0.02794100456840165), (1948, 0.0279058777219285), (2478, 0.02788315753758433), (3701, 0.02787282407753052), (4298, 0.027862466926040504), (904, 0.027854097562065406), (233, 0.027833179514045722), (463, 0.027798389625074683), (4264, 0.02779034242117477), (3764, 0.027776794986588634), (3458, 0.02772211092868241), (2848, 0.027721941259778424), (681, 0.02767282558753543), (3862, 0.027655111948005785), (3656, 0.027643168952719014), (3153, 0.02763820848963396), (2285, 0.027636782514760958), (2223, 0.027616883118692107), (1011, 0.027604275893072516), (516, 0.027601299123990435), (3702, 0.0275732159356783), (1334, 0.027552723813877432), (182, 0.027514111512038208), (1982, 0.027459310308927096), (4137, 0.02743761618137961), (2647, 0.027426875994569923), (3779, 0.027424572190239787), (279, 0.02741803756327655), (2739, 0.027374871285607193), (2169, 0.027363804901674227), (3294, 0.027363551201382928), (4186, 0.02725921562860774), (3328, 0.02723220374397396), (3253, 0.027153417642035927), (3129, 0.027111802380997866), (969, 0.027080962754662492), (2255, 0.02708063265364328), (1401, 0.027060266772993315), (38, 0.02704145476975925), (4119, 0.02702830738657188), (3812, 0.027005100477452037), (4077, 0.026982576128967983), (3792, 0.026981952325594007), (18, 0.026972522201943936), (842, 0.026947243935457207), (3435, 0.02692380365359969), (568, 0.026864192969571696), (1118, 0.02685735757997842), (1357, 0.026855430685758568), (2558, 0.026843558406580263), (4092, 0.026766212412121758), (2059, 0.02674056186885095), (2421, 0.02673219384292501), (3745, 0.02671617672686112), (78, 0.02666870058142903), (3557, 0.026661333501386324), (237, 0.02653286073716324), (2798, 0.02651619069169265), (479, 0.026500881096920753), (2719, 0.026472295560040115), (1709, 0.02646508802426526), (1910, 0.026456476453141024), (3618, 0.02644130698862977), (640, 0.026417511736089097), (3307, 0.02638134354978773), (232, 0.026365824948338466), (1259, 0.026318657792913397), (330, 0.026317444895733996), (2053, 0.026292464298154742), (2198, 0.026286798702863948), (2126, 0.026263614636837004), (1104, 0.026255714652302146), (3403, 0.026234001979879667), (4591, 0.026228251955033248), (1275, 0.026205424612484478), (1028, 0.026185881764314647), (990, 0.02613030125036048), (1039, 0.02609491464986565), (983, 0.026058759253165552), (4739, 0.026047213926586876), (4465, 0.02602877234284192), (3418, 0.025983877535552306), (1700, 0.025971028668679633), (3493, 0.025968611996333595), (1924, 0.02594627764360796), (3876, 0.025928389814564638), (590, 0.02592544146677049), (561, 0.025925151603568036), (3420, 0.025922327914196595), (739, 0.025915570944866538), (1787, 0.02589646869911166), (4274, 0.025858563785916288), (1284, 0.025827817486742684), (4622, 0.025782432920987912), (600, 0.025767465786638924), (3441, 0.02574445399227728), (599, 0.02571473077246983), (4382, 0.025655711627100678), (2640, 0.025622250698003342), (1173, 0.025618775016500006), (3694, 0.025597048043031714), (4001, 0.02559083369840679), (2385, 0.025582515247691555), (2239, 0.025560385381926252), (3660, 0.02553514552874856), (2645, 0.025534840137453104), (2691, 0.025477099773726242), (2579, 0.025457007682897947), (733, 0.025456510803494224), (757, 0.02541635253400841), (2710, 0.025413831974436217), (4589, 0.025377137064895167), (1572, 0.02535866607845006), (1478, 0.025356718159650293), (3391, 0.025316556728378452), (4306, 0.025305169947103044), (4646, 0.02529768974734849), (346, 0.025295144773069354), (2107, 0.025272748144721517), (1099, 0.025271209229148432), (442, 0.025235449335643177), (4213, 0.0252292536501296), (1190, 0.025225123558482155), (2266, 0.02520278401448885), (1602, 0.02520075433432903), (2427, 0.02518441849189175), (631, 0.02517848087553586), (762, 0.02514569018164827), (805, 0.025141506539047197), (2231, 0.02509740197891235), (2176, 0.02507136088937141), (324, 0.025058786361346154), (653, 0.025053169571665944), (1007, 0.025041639537225095), (254, 0.025032436826372198), (3452, 0.02502777437534734), (4348, 0.02500275881177142), (829, 0.024975733428017163), (3942, 0.024967685739514606), (1557, 0.024958501171210755), (3424, 0.02491561736780997), (2045, 0.02488682969851467), (802, 0.024850320165916824), (2277, 0.024823370436451712), (4101, 0.024788142772736853), (184, 0.02476990222945555), (4669, 0.024735573473933584), (843, 0.024666866588839), (1515, 0.024647749393361014), (222, 0.024642537425150997), (1113, 0.024618989606865517), (3265, 0.024608641456665324), (3163, 0.02460152851616693), (288, 0.02459822423236787), (2005, 0.024585557963985018), (1206, 0.02452654081035656), (3525, 0.024517074218655524), (4114, 0.024475097786219494), (4351, 0.024471691218969877), (1420, 0.024435239362494258), (2712, 0.024430221621606074), (1262, 0.024422914535977506), (3184, 0.024393469564675502), (822, 0.024391860426731443), (1818, 0.024209733203345397), (1114, 0.0242076484967036), (1321, 0.02419815649296354), (823, 0.02419415650347219), (1196, 0.02413054288798095), (4510, 0.024105706817151178), (4596, 0.024098395118666315), (206, 0.024091685260774355), (4471, 0.0240837510516438), (1742, 0.02407966410908007), (3819, 0.02404548476994546), (2060, 0.024042453626247975), (4191, 0.02403313578521649), (4575, 0.024030059869072716), (147, 0.024009770735667676), (3135, 0.023943605239520042), (4582, 0.02394098365374404), (4095, 0.023932789067977217), (3578, 0.02392247917357316), (3511, 0.023906675967166745), (37, 0.02387939860079419), (1087, 0.023866387410841107), (4378, 0.023860541193068206), (262, 0.023858844186353086), (2103, 0.023844806421663263), (1188, 0.023837753259431972), (3630, 0.023828362285477085), (2783, 0.023802830500137553), (3186, 0.02379982501997632), (1799, 0.02379618727612839), (810, 0.023793406444114665), (292, 0.023758817418307016), (1465, 0.023704904039071488), (4196, 0.023693473676825755), (1796, 0.023683949814650017), (2352, 0.023678537724906617), (4089, 0.02364744453336451), (952, 0.023620624925339215), (2672, 0.02356624816782477), (775, 0.02353179768483304), (4733, 0.023530370969060882), (3158, 0.02352571470909544), (566, 0.02348904749946481), (620, 0.02347592809881634), (4334, 0.023473255434813215), (4470, 0.023415043905081402), (1987, 0.023409407382889658), (4043, 0.02339578158942482), (1663, 0.023373749846066598), (1497, 0.02335962761904945), (2321, 0.023333642462433114), (865, 0.02331986122906038), (4563, 0.02328872231238622), (3809, 0.023269231043507737), (4146, 0.02325422508030868), (1960, 0.023239952183808806), (1486, 0.023205218712946528), (4110, 0.023174992908379148), (2460, 0.023122469288961032), (966, 0.023121178150425466), (207, 0.023119059196578102), (1664, 0.023106017271239947), (4641, 0.02310529312542164), (544, 0.023047153402246844), (2283, 0.023007868749787122), (1998, 0.022985269780439598), (1957, 0.022970358105274598), (3335, 0.022946903755513497), (661, 0.022929462337360096), (3670, 0.022905393667207626), (436, 0.022900304846877054), (308, 0.022888101064087726), (1829, 0.02284769741876372), (1131, 0.02278702639475963), (1552, 0.022786100631998745), (537, 0.022778674420181718), (663, 0.022748721383717255), (1713, 0.02272345888922539), (3478, 0.02271128566730861), (1238, 0.02266406369299183), (9, 0.02266147687021014), (1304, 0.022657112055743764), (4320, 0.022653555843746204), (1581, 0.02264801212095548), (2774, 0.02262129918866128), (538, 0.02255420074768033), (81, 0.02250221495977118), (3907, 0.022494301434414842), (1456, 0.022486975967957006), (1123, 0.022478765364098197), (2940, 0.022472913000570256), (407, 0.022464483881994565), (3743, 0.022433765191548206), (4462, 0.02242217131428527), (117, 0.022367040684028186), (3173, 0.02236635523487413), (1186, 0.022361424901846914), (2668, 0.022355316510057455), (1866, 0.022349602053482166), (1721, 0.02234360990300056), (2847, 0.02231594669930552), (2000, 0.022311105860644883), (1210, 0.022276526401766004), (2052, 0.02226839368668065), (106, 0.022261474141801782), (1973, 0.02225947518839963), (1222, 0.0222420740023908), (1696, 0.02220874380085694), (2226, 0.02220758537875441), (2802, 0.02220756121981231), (4299, 0.022170959852145584), (4309, 0.022166836218893406), (4007, 0.022155592062778326), (3406, 0.022151891947352932), (1809, 0.022131157369532986), (959, 0.02205951005732143), (1413, 0.02205013043172594), (522, 0.022045793916490856), (2054, 0.022040120914346376), (4183, 0.022027695822499117), (850, 0.022025648026856325), (1268, 0.021994097759630578), (3870, 0.02198094076308533), (327, 0.021967308182693324), (1939, 0.021962000544281365), (4216, 0.021948186447647376), (3298, 0.021938495853416867), (4495, 0.021923638601857053), (86, 0.021892709902831407), (737, 0.021883880378919855), (1162, 0.021881765215839753), (1377, 0.021880886918071295), (34, 0.02184154573153739), (3487, 0.021836102951298283), (39, 0.02177035622071744), (2625, 0.02173738293377244), (4536, 0.021698151951650146), (191, 0.021697239811990544), (806, 0.021661182139490396), (4267, 0.02162033488918154), (4085, 0.02161597292836294), (953, 0.02161040059911882), (1567, 0.021588525555471708), (3485, 0.021583623303494594), (4118, 0.021581343035595495), (4022, 0.021527136068102262), (1886, 0.02152336535399188), (2426, 0.02148105281926806), (2751, 0.02147716428690106), (1487, 0.02147441658016733), (3856, 0.02147240845786798), (2444, 0.02144681023339544), (934, 0.02143651059185179), (4453, 0.021421355920953414), (1587, 0.021402176287386), (2185, 0.021350231107712992), (3444, 0.02133714017838513), (1147, 0.02133565986710917), (4375, 0.02131242530059054), (219, 0.02129950834657464), (1991, 0.021293241459264808), (945, 0.021289638921461174), (208, 0.021245319854364075), (4440, 0.021221626816342425), (1577, 0.02120905914431349), (3454, 0.021208565726614587), (428, 0.021194467463717725), (3484, 0.021178926029634695), (1943, 0.02114135514784718), (1606, 0.021127461835794597), (75, 0.02112001156944221), (3817, 0.021083651196906153), (3118, 0.0210758063576302), (264, 0.021054452196281163), (719, 0.02105147338528193), (1571, 0.02104642220101457), (19, 0.020994574125352335), (788, 0.020993911683410475), (2270, 0.020986207458551766), (1291, 0.020980283454009423), (1157, 0.02097946987239812), (71, 0.020968897548038178), (643, 0.020965313574171498), (1502, 0.02095271210259563), (3932, 0.020947279629300868), (4343, 0.020920702680112365), (4479, 0.020917344773103586), (957, 0.02087855510614052), (3448, 0.020870713573156383), (3362, 0.020847771495990135), (310, 0.02083105589741996), (2680, 0.020826431324696075), (4025, 0.02080936740368082), (2835, 0.020754758636110412), (2037, 0.020754227186010676), (82, 0.020748517696985998), (156, 0.02067969149053846), (1001, 0.020664005632690823), (1494, 0.020663858833673436), (4152, 0.020598559035495637), (1951, 0.02058552322569352), (1928, 0.020544996054133815), (911, 0.02054056890940688), (4112, 0.020522871025685993), (763, 0.02051157638691816), (563, 0.02047919597514327), (4350, 0.020470617910258254), (1500, 0.02046662434743281), (1688, 0.020453647864953524), (3865, 0.020350768778269735), (2969, 0.020347946993954282), (1994, 0.020344435038026902), (3407, 0.02031123932859792), (3998, 0.02029992208712119), (1368, 0.02028624728342256), (2653, 0.02024501502821151), (3384, 0.020223388921126042), (2549, 0.020221921202944523), (3598, 0.020200481870333898), (3476, 0.020185967257214107), (1945, 0.02016326656992885), (266, 0.020161954013730138), (3906, 0.020138082559512667), (301, 0.020096971604977663), (1369, 0.020080081017711852), (4613, 0.020064027947932165), (498, 0.020044596067544447), (1385, 0.02003652745339528), (2706, 0.02003212938535422), (540, 0.020010467448513793), (1776, 0.020001366462061326), (1354, 0.02000085190422852), (306, 0.019976267321313933), (778, 0.019967454132748606), (4094, 0.019956213482876562), (3619, 0.01992584675299542), (3181, 0.019902420993211184), (560, 0.01990132925795742), (1701, 0.01989193084875321), (1012, 0.01982393433567642), (3736, 0.019789445698647275), (551, 0.0197781533797969), (1592, 0.01975554801427316), (1381, 0.019743208726105247), (1403, 0.01972411073528415), (322, 0.019705442862457262), (2259, 0.0197031922800619), (2992, 0.019646760218227012), (4585, 0.01964069132535104), (2219, 0.019580609137961523), (336, 0.01957666140769372), (472, 0.01955916146906089), (2221, 0.0195539009902269), (2287, 0.019547397894271772), (2763, 0.019544476806060158), (424, 0.019534609741928152), (425, 0.019517661295320506), (2065, 0.019478981590745244), (1641, 0.01946446248147028), (4411, 0.01945675016214804), (287, 0.019436454830129353), (321, 0.019423177617683543), (1760, 0.01940661304115634), (819, 0.019400087182720915), (190, 0.01938089111011264), (2660, 0.019372414982743055), (355, 0.01935478010564765), (685, 0.019341830430349736), (432, 0.01932083909311344), (252, 0.019314931032462124), (126, 0.019311804281054862), (3141, 0.01928096304094355), (684, 0.01922789343011886), (935, 0.019224454281586045), (3276, 0.01921298713636517), (343, 0.019188549413431424), (4620, 0.019178260630676958), (1467, 0.019130904303851635), (2175, 0.019127852686739742), (1071, 0.01910985605257375), (2998, 0.01910760827495971), (1840, 0.019097840482084776), (196, 0.01907608791178981), (2237, 0.01902505337368899), (3166, 0.018997880380721602), (2129, 0.01896588029710848), (1919, 0.01895972210647992), (3447, 0.018959271128432126), (79, 0.018939403795266086), (3299, 0.018923781896295806), (4091, 0.018903993473251578), (4664, 0.018891581388505163), (814, 0.0188891951216651), (2233, 0.018880334475670776), (3588, 0.01887749037962767), (2878, 0.018876684272880754), (2160, 0.01887459409582907), (2550, 0.018837285011858388), (1697, 0.018834024148086253), (1698, 0.01876822935197765), (815, 0.018752351696654426), (1437, 0.01875190874870393), (4748, 0.018737738895434973), (468, 0.018725902744983258), (1746, 0.018720129253607526), (497, 0.01871038091085376), (3297, 0.018710124091940526), (3956, 0.01870834242465373), (217, 0.01869979982656924), (2598, 0.018685568910885974), (368, 0.018648438489156538), (1468, 0.018636760857743455), (597, 0.01862038753032253), (40, 0.01861455446733466), (972, 0.01860456678175952), (4436, 0.018600965134161457), (150, 0.01855321211223829), (2164, 0.01852286164533278), (3586, 0.018515469844033895), (4236, 0.01850691539679205), (3541, 0.018497038914006208), (1624, 0.01848121148137541), (2479, 0.01847945325457501), (2381, 0.018450672698646097), (1109, 0.018402100703858608), (657, 0.018394576027944077), (3895, 0.01837450255783132), (2027, 0.0183701266057931), (3438, 0.01836689108047447), (1493, 0.018360262549892793), (2472, 0.018355371523218172), (3062, 0.01834688597797076), (3152, 0.018319097838396498), (787, 0.018309290097798466), (603, 0.01829912450525845), (2951, 0.01828308071589236), (2937, 0.018276463178746677), (3826, 0.018264818319760595), (36, 0.018245572741878116), (938, 0.018215839736560872), (1436, 0.018203592022309433), (2236, 0.018201476437438753), (1116, 0.01817772203203001), (3380, 0.018169488390626112), (1380, 0.018144471515443274), (956, 0.018131110645114277), (1185, 0.018125798744555964), (867, 0.018122480284333845), (3628, 0.018096553329496376), (3508, 0.018096298575344387), (4203, 0.01806118642240994), (1988, 0.01804691512239233), (2544, 0.018038763096368305), (3713, 0.018038483589473513), (148, 0.018005291086403252), (798, 0.01796815118110308), (1758, 0.017965111505990054), (2015, 0.017964874641719725), (3397, 0.017960277877692037), (201, 0.017950030204322925), (1221, 0.017949368293618376), (469, 0.0179177720676912), (1865, 0.017916974459577354), (594, 0.017887781779231206), (1682, 0.017871305953198753), (847, 0.01786776199644339), (3871, 0.017861449686573615), (2016, 0.017860468175405653), (3733, 0.01785435543250031), (3566, 0.017846062531158967), (1408, 0.01782028939380978), (189, 0.0178160064925433), (918, 0.01780449603847178), (872, 0.017716320966903207), (2873, 0.017697069498598443), (2339, 0.017697011741505595), (4395, 0.017679268353353827), (1950, 0.017672178980784048), (519, 0.017668971396115927), (2296, 0.017662120221795894), (3515, 0.017653540960949614), (3039, 0.017631868716827964), (4303, 0.017613955876582536), (1935, 0.017611641180352515), (3127, 0.017602909848606206), (3342, 0.01759958264689829), (583, 0.017589369419526255), (899, 0.017555161625812107), (4009, 0.017554455891707774), (4557, 0.017554120934518178), (1654, 0.017552268302632526), (32, 0.0175487639204366), (2208, 0.017539595245925306), (3226, 0.017515480467001562), (4252, 0.01748460011208778), (919, 0.01748380036132426), (341, 0.017483261331679364), (1376, 0.01746068697443278), (3886, 0.017452548447171243), (1327, 0.01744264104013871), (3284, 0.0174418674178562), (1309, 0.017433422979637188), (796, 0.017426351753421235), (3272, 0.017417300528215864), (3096, 0.017395274099813795), (570, 0.017384252440412792), (2962, 0.01738025245829821), (948, 0.017359952120372158), (1586, 0.01735907478487287), (511, 0.017344211193853064), (185, 0.017341277390447846), (3910, 0.01733915483901885), (1346, 0.017302824341661544), (1539, 0.01730091799258385), (2443, 0.01729060291630502), (2218, 0.017271804180963548), (1883, 0.017258999868988018), (1168, 0.01723403596015544), (2581, 0.01722894942212708), (2587, 0.01721825737772766), (3635, 0.017207966387628466), (3456, 0.017204649150843337), (1179, 0.0172021502881978), (305, 0.017187839125355216), (793, 0.017186403093941212), (648, 0.017184892866472415), (3646, 0.01718353647235261), (1678, 0.01715146573091146), (297, 0.017130143280492907), (610, 0.017105679097639416), (1244, 0.017069663120708133), (1692, 0.017067608870918377), (4016, 0.017066005464000392), (2363, 0.01703831676478538), (4226, 0.01703425888798331), (1964, 0.017020252300826648), (159, 0.01700452025746932), (3065, 0.016997550191685605), (613, 0.01695808345909148), (768, 0.016929983219924775), (803, 0.01691018747853557), (995, 0.016900161161127785), (2713, 0.016854355501518863), (528, 0.016850252149746003), (1302, 0.016830466868823033), (1971, 0.016817469345509255), (2494, 0.01679898761618621), (1640, 0.01677986686348258), (3741, 0.01677714314595462), (3215, 0.016735791428652703), (726, 0.016733799628662067), (2559, 0.016731433420814266), (1611, 0.016723992070213894), (152, 0.016707694507645036), (840, 0.016702243805765845), (2554, 0.016694444652486748), (1535, 0.01668419814849927), (2637, 0.01668011263733069), (4550, 0.01667876061458309), (3771, 0.01664166994908363), (3742, 0.016640043174233086), (3218, 0.01661141875175271), (915, 0.016555159692663086), (3917, 0.01654989972432121), (849, 0.016537770894423685), (161, 0.016528356484460445), (1843, 0.016522390103507905), (2665, 0.016516366931404493), (3568, 0.016499761117616404), (361, 0.01649168932668295), (946, 0.016468045369117234), (2412, 0.016428330990714855), (2755, 0.016427932178624406), (284, 0.01640761492043658), (2633, 0.016357983453280746), (1718, 0.01633226137359897), (171, 0.01633114698183248), (2298, 0.016330187304834324), (2094, 0.016323662643373395), (260, 0.01631834869196618), (3919, 0.016288254079475123), (3361, 0.016286185080207512), (1006, 0.01627864306024874), (4142, 0.016272422181477827), (3599, 0.016268958007288642), (856, 0.016261001526252265), (691, 0.01621152627869267), (3193, 0.01616151286383814), (2720, 0.016159093605307234), (2139, 0.016147065587692494), (2656, 0.016129173343042293), (2816, 0.016122117243468438), (455, 0.016115936392355028), (426, 0.01609207239425914), (62, 0.016083104250038928), (3890, 0.01605557998681649), (1359, 0.016038327359714957), (3387, 0.016036219939585226), (4201, 0.016036156750008745), (2150, 0.016025458725969822), (4388, 0.01602336866584541), (2021, 0.01602010521560435), (723, 0.01601668951710177), (2777, 0.015961338384581084), (3582, 0.01594217683055952), (1249, 0.01594194738972566), (63, 0.015926374520342214), (4347, 0.01592317807877039), (669, 0.015871960979232887), (3190, 0.01587028549432961), (2124, 0.015861082945756257), (2481, 0.015859300919943062), (2012, 0.015855746706029086), (2632, 0.0158556387497409), (1425, 0.01585087377627034), (4649, 0.01584173584973756), (1002, 0.015812224681859777), (1277, 0.01580417446823158), (94, 0.01579933444980575), (2487, 0.015791085851828514), (3386, 0.015787820290776758), (80, 0.0157639954139697), (1791, 0.015756076648270605), (1461, 0.015755799184010398), (43, 0.015749465786458437), (794, 0.01574285871630056), (2193, 0.015723194615981), (2062, 0.015722379324919173), (4121, 0.01568127847677702), (2749, 0.015657828993373417), (4732, 0.015653585171092815), (1216, 0.015643606680104876), (218, 0.015623488051104303), (1600, 0.01562075139634167), (752, 0.015619021332323913), (4658, 0.015610260315569259), (3926, 0.01560649287813062), (340, 0.015602770750757586), (3033, 0.015572625388401784), (3698, 0.015568711115215093), (1501, 0.015561731197540039), (214, 0.015556233391059363), (2814, 0.01554495538744434), (1781, 0.015540332713810468), (608, 0.015512563731951996), (3744, 0.01548982157882619), (1898, 0.015473970775410018), (1022, 0.015464914431936183), (3221, 0.01542057442872177), (2726, 0.015411894522148337), (1986, 0.01540965627075427), (1755, 0.015407916836769996), (3206, 0.015399233126721201), (1258, 0.015397141981255111), (962, 0.015396475017094112), (1419, 0.01538280450798998), (2161, 0.015361012075627931), (4652, 0.015331607802511131), (1214, 0.015314851174775613), (2093, 0.015305114924281337), (220, 0.015269683007040666), (1483, 0.01524532447304906), (2895, 0.015234693340198172), (3923, 0.015205635128321321), (4218, 0.015196682868460454), (2504, 0.015168607217146439), (1475, 0.015138732498528956), (2523, 0.01513792683446226), (2567, 0.015103575231858686), (1267, 0.015062585880853874), (2335, 0.015057483934449618), (345, 0.015057308241753286), (296, 0.015032176659876544), (1301, 0.015030728478033887), (2485, 0.015030696140379987), (332, 0.015017897140115737), (2056, 0.015014884510968949), (3641, 0.01500431541007435), (521, 0.015001834199716447), (319, 0.014965080671449676), (2707, 0.014937977671669232), (3246, 0.014937383145077745), (1446, 0.01493169052344943), (1772, 0.01492947483039116), (2143, 0.014897330784350547), (1526, 0.014889752145785801), (3959, 0.014864659390574828), (4207, 0.014863723708607078), (4238, 0.01485218621695681), (2320, 0.014850799663928046), (1466, 0.01483752784372521), (1547, 0.014823852434226644), (234, 0.014807066381168165), (1014, 0.014798570129264173), (1537, 0.014761160060323068), (1738, 0.014748707759882861), (45, 0.01474477196298283), (1398, 0.014733812916144697), (364, 0.01472250683945773), (3921, 0.014720236019131402), (2020, 0.014714156852037042), (2303, 0.014695405517836503), (3419, 0.014688180389526448), (2931, 0.01468796740226171), (2812, 0.014684292453712012), (1503, 0.01468059958056718), (3825, 0.014660282505955993), (3532, 0.014654086028418717), (1802, 0.014653675510291772), (2061, 0.014628793671117475), (125, 0.014622897086536833), (1352, 0.014614185738259197), (3638, 0.01460593743330874), (699, 0.014561065834553962), (2715, 0.014559003730360422), (3794, 0.01455260842938347), (3259, 0.014540387596285703), (3909, 0.014537385439233006), (639, 0.01452782055265433), (3914, 0.014526894917431655), (3327, 0.014523501900813833), (2820, 0.014514365250189641), (1095, 0.014510828433434935), (3192, 0.014506778330640435), (3115, 0.014494171387823857), (3538, 0.014490354784594348), (3551, 0.014485014065708623), (3346, 0.014483214323729687), (2555, 0.014473482385308916), (3232, 0.01446883996833301), (2874, 0.014461324235115662), (993, 0.014457333044726739), (749, 0.014451879274777837), (2127, 0.014443102270561187), (916, 0.01443773223001116), (2615, 0.014431848547908539), (135, 0.014430774993114754), (2377, 0.014425865063574612), (1881, 0.01442071835473097), (3187, 0.014412628549259614), (2568, 0.014383458332849059), (374, 0.01437248241608993), (259, 0.014360497292708224), (1023, 0.014357946611336714), (3439, 0.014344246295429738), (2241, 0.014337097366111988), (3389, 0.014330386329781241), (2246, 0.014324813734924873), (2066, 0.014318049093926338), (409, 0.014303381494039206), (1594, 0.014302777741886218), (3560, 0.01430075931810202), (2822, 0.014281947312386934), (3228, 0.014272206179332322), (2975, 0.014265103490225316), (3309, 0.014252501044773444), (4062, 0.014244368604306903), (1136, 0.014234998341054295), (2356, 0.014228159651098846), (2032, 0.014201204505604751), (358, 0.014167728254529749), (2416, 0.0141447682081885), (1288, 0.014135596138190328), (329, 0.01413141418491433), (4742, 0.014130024945928906), (1564, 0.01412055292174473), (2574, 0.014111400555911766), (2040, 0.01411136750748452), (1530, 0.014089542534007241), (908, 0.014085016336440565), (500, 0.014082972833474055), (3574, 0.01405279506218272), (982, 0.014052623039643018), (2428, 0.014046116597445271), (4524, 0.01403416044700054), (3697, 0.014021707304936348), (1554, 0.014013240247568243), (69, 0.01397505908443051), (875, 0.01396925844151192), (664, 0.013967072879052838), (3234, 0.013963388916546152), (3869, 0.01395223028018783), (1751, 0.013949383987999312), (4044, 0.013940837129302198), (225, 0.013937461923900083), (1091, 0.013933987996260049), (2177, 0.013920163615323836), (251, 0.013917025543869251), (3231, 0.013912324730904783), (4130, 0.01391130565130749), (4233, 0.013908327106554791), (3247, 0.013895976985204778), (579, 0.013883568515778596), (4344, 0.01387989203515726), (2156, 0.013874491136920568), (2981, 0.013870642652041805), (4332, 0.013859242366565203), (3409, 0.01385303658722551), (4491, 0.013848801521226283), (177, 0.013842012418674977), (1679, 0.01384140033129306), (300, 0.013834972274282792), (2473, 0.013830124506700679), (437, 0.013822368062651856), (112, 0.013816951611880636), (4676, 0.013815167880467782), (2860, 0.013809055948062112), (1015, 0.013807466343579067), (3752, 0.0137943859119539), (1894, 0.013792220299800834), (3344, 0.013789734438123591), (2888, 0.013787101581489096), (2994, 0.013784724985817103), (3343, 0.013773401984405152), (403, 0.013762587409605294), (91, 0.013753943986797596), (1770, 0.013734585902924177), (3951, 0.0137224480863587), (1708, 0.013719044258310026), (2224, 0.01370525582642941), (294, 0.013698630603182441), (3270, 0.013697699006185633), (6, 0.013694070798498806), (1141, 0.013650355699452724), (545, 0.013647792971059088), (3782, 0.013633267376546323), (1705, 0.013629273531287988), (3834, 0.013618180512732126), (3803, 0.013592845063184419), (1472, 0.013586626763053477), (1324, 0.013576715774529909), (826, 0.013573990318735858), (2522, 0.013564842545900301), (2985, 0.013543724910716072), (4542, 0.013540869059317031), (3222, 0.013538121169454574), (17, 0.013520177554841879), (921, 0.013515219128042044), (4270, 0.013505044835502807), (3748, 0.01348140721541257), (2868, 0.013477451387609831), (470, 0.013471683133375257), (2862, 0.013460297899786745), (1904, 0.01346012180238806), (3558, 0.013448722740869543), (1690, 0.01344745287971864), (1514, 0.01343947403537685), (1225, 0.013427004694447651), (2297, 0.013424642511824191), (1328, 0.013421848630540559), (441, 0.01341793663066471), (1521, 0.013417886577851167), (3661, 0.01341277303152941), (2659, 0.01341129664376622), (2318, 0.01340668008529924), (1689, 0.01340278751771385), (1850, 0.01340021664109221), (1715, 0.013367631308816616), (1823, 0.013363198967630302), (2638, 0.013362290938635274), (716, 0.01334674483886946), (3751, 0.013345837312286855), (751, 0.013345201411595113), (320, 0.013343150637738346), (60, 0.013328801080069681), (549, 0.013315639994449732), (386, 0.013300485918987389), (3579, 0.013300015796108039), (465, 0.013299265121529078), (484, 0.013286108609462496), (412, 0.013265456212570506), (339, 0.01325372381853925), (2791, 0.013245924291255144), (1790, 0.013237747296795608), (2933, 0.01323229630169756), (2532, 0.013225469600082376), (4570, 0.013220008968789294), (1529, 0.01321695041406022), (3798, 0.013202100047756007), (672, 0.01319723134834545), (3587, 0.013196590683615766), (968, 0.013195814886345312), (3164, 0.013195008793092431), (1319, 0.01317663823606703), (1470, 0.013174160351865952), (970, 0.01316459089873733), (175, 0.01315704929365371), (1312, 0.013149154542005869), (151, 0.013147709081660377), (996, 0.013138022441089518), (1782, 0.013126299599435353), (2547, 0.013124148028753531), (2276, 0.013120455617110127), (4341, 0.013118527936957775), (809, 0.013113367887450902), (4456, 0.013107544887700752), (461, 0.013096411012798116), (1615, 0.013096408263966254), (4689, 0.013095745126867803), (3271, 0.013094333461548594), (95, 0.013092483127421742), (2603, 0.013086528208547164), (170, 0.013086383879919589), (3315, 0.013083475838651982), (582, 0.013082155475043634), (2654, 0.013079564139595126), (1474, 0.013064698207351557), (118, 0.013059453009099622), (902, 0.013056122560946008), (2211, 0.01305592762706631), (4444, 0.013055395740757498), (3801, 0.013051290600542083), (1045, 0.013051019592948139), (1931, 0.01300412047757548), (981, 0.013002877741337893), (3486, 0.012995350752158333), (4141, 0.012988304626123975), (4373, 0.012985615195525588), (2113, 0.012985497154800789), (2112, 0.012980285600808834), (1105, 0.012964312208006852), (2271, 0.012961497171258928), (3256, 0.012944657213254301), (592, 0.012927136165734971), (54, 0.012925579379594505), (1440, 0.012924195294913478), (309, 0.012914703823258124), (25, 0.01288896444842453), (2022, 0.012877314190530035), (2492, 0.012854584365892275), (1043, 0.01285177320757025), (1876, 0.012846571344358005), (677, 0.01283868922953248), (258, 0.012814551745810962), (2067, 0.012804231575680001), (4103, 0.012796582996023959), (2826, 0.012795671105255549), (785, 0.012782201701239893), (1893, 0.012782013733879969), (3427, 0.012775784666142157), (2506, 0.012769036344906014), (315, 0.012766854129310681), (1151, 0.012762300873599737), (3416, 0.012761239633952077), (317, 0.012755466984500752), (344, 0.012745874050557656), (1566, 0.012737928529708998), (1353, 0.01273446774146092), (3969, 0.012731205020130691), (2667, 0.012686896091211368), (4128, 0.01268123120830333), (2922, 0.012668353949075215), (211, 0.012667157941256774), (4056, 0.012658933350285544), (1226, 0.012644592289381975), (2906, 0.01263515569263332), (4076, 0.012620658588880528), (1604, 0.012619203625671491), (674, 0.012616684842221055), (1548, 0.01261550492655399), (3073, 0.012603889261506681), (4509, 0.012598663358411068), (2964, 0.012567212773917818), (4269, 0.012565902533005786), (3937, 0.012561327465462506), (467, 0.012546419777583686), (1358, 0.012543885112027947), (3410, 0.012538528790503373), (3457, 0.012537830714648104), (76, 0.01253659874326942), (1619, 0.012532980423359256), (2725, 0.012528784720891393), (2609, 0.01249546664074279), (4211, 0.012493847194374366), (1999, 0.01249241438828505), (748, 0.012479318469482924), (3311, 0.012471805729011553), (539, 0.012454705361577511), (2553, 0.012454100757173436), (3773, 0.012448358070360217), (230, 0.01243916282171885), (3629, 0.012432472270867698), (1096, 0.01242656466115942), (239, 0.012426063193984534), (3264, 0.012417952514551751), (1017, 0.01241529116256979), (2422, 0.012400358046422868), (1846, 0.012398745562857406), (1350, 0.01239789946971732), (1315, 0.012380077448059502), (4282, 0.012362862209378206), (2209, 0.012362710233502439), (3555, 0.012335647749051864), (651, 0.01233189629261501), (1061, 0.012330006334644756), (1668, 0.01229972344884113), (1063, 0.012297520045470196), (1658, 0.012294321386673319), (365, 0.012281063576008406), (2167, 0.012275474789238402), (113, 0.012273754369995888), (1584, 0.012265312541592346), (3156, 0.01225870202646551), (390, 0.012250075472565347), (2049, 0.012242243626688918), (3735, 0.012237756413702774), (2367, 0.012228225333337237), (1048, 0.012221069902189154), (362, 0.012210239216157034), (3536, 0.012202577565919567), (3085, 0.012202398890196331), (2641, 0.01219639805051574), (2562, 0.012191256815976496), (93, 0.01219046619532042), (3082, 0.012181210463925436), (1207, 0.012159355372449904), (780, 0.012154100011299497), (1915, 0.012148796798942135), (1844, 0.012141706336135117), (144, 0.012138558192058172), (1297, 0.01212893133041128), (2948, 0.012124687896659034), (2031, 0.012119420892908819), (137, 0.012108049808826592), (2950, 0.012095198596847174), (3144, 0.012089938116926211), (3700, 0.012089474294094453), (2575, 0.01208746945126947), (2977, 0.012041624128031881), (421, 0.012015334398011212), (3715, 0.012014163432964011), (1496, 0.012004235745576856), (2215, 0.011990650448743301), (1250, 0.011986612571960575), (2116, 0.01198503362949499), (4353, 0.011973318056701406), (4086, 0.011967215320594119), (3684, 0.011965473215377252), (3643, 0.011947433130894934), (83, 0.01191752450224889), (131, 0.011915009411292324), (1888, 0.011904656921633932), (738, 0.01189828833665011), (3100, 0.011889035068029824), (2071, 0.011884338978390339), (864, 0.011883576944258527), (3728, 0.011874598921951186), (1241, 0.01187342723099292), (3136, 0.011870803600944304), (209, 0.011867012660089483), (2742, 0.01185932622054204), (1731, 0.0118566832995813), (2109, 0.011854888534330837), (897, 0.011849918575294193), (512, 0.01184558383253654), (4726, 0.011843831922068171), (1306, 0.011836755628148083), (46, 0.011829725935493444), (2414, 0.011808881062507954), (1422, 0.011799502248486679), (316, 0.011795981141954084), (1333, 0.01179337360514653), (249, 0.011778464390620868), (1789, 0.011752939049099787), (1926, 0.011751392426529627), (2600, 0.011746432691561916), (4052, 0.011736262088262468), (280, 0.011729728960635986), (3571, 0.011721520218653046), (379, 0.01172128804025702), (2168, 0.011719999275265921), (3594, 0.011714016714823597), (382, 0.011706521362924589), (4297, 0.011706325867405436), (1968, 0.011704183077367572), (3492, 0.011700578574718772), (4439, 0.011697887227673748), (4511, 0.011697102638888984), (689, 0.01169597471160957), (2503, 0.011661965343996626), (1010, 0.011661207890312312), (2480, 0.011659398771179864), (338, 0.011654934901829363), (4323, 0.011648829093542142), (1389, 0.011645615875313695), (4477, 0.01164356990477539), (2036, 0.011628842140663053), (2818, 0.011619923339744527), (1955, 0.011616526371619378), (3237, 0.011615913688929275), (2601, 0.011580991006228548), (3645, 0.011580889822688036), (3312, 0.01157573040391322), (3450, 0.011574922206258722), (4193, 0.011574787207879245), (2249, 0.011565443383401418), (2463, 0.011560051015359826), (1551, 0.011558663549037267), (1965, 0.011551485151107616), (2605, 0.011544557162667567), (1807, 0.011535590734467494), (3046, 0.011534641337508315), (527, 0.011532420796044255), (4008, 0.011524505297055685), (586, 0.011520019049186352), (1124, 0.011512693180176153), (870, 0.011499613058494389), (2877, 0.011498331660975594), (334, 0.011493618714951376), (1387, 0.011489843136962125), (618, 0.011481157814005341), (800, 0.011480963669399446), (3142, 0.01147249770791375), (671, 0.011466466818939054), (1382, 0.011462024311098705), (2698, 0.011458273404550863), (3287, 0.011432792249482533), (243, 0.011431557978926369), (501, 0.011429155635045152), (3709, 0.011418319782248332), (2180, 0.011392510411871141), (3795, 0.011385292152565717), (323, 0.011385003424798815), (954, 0.011375283551881785), (1146, 0.011371221947348593), (1, 0.011368359509130618), (2077, 0.01135473670877141), (2935, 0.011344243136167595), (1365, 0.011341270605765402), (3099, 0.01132098215400476), (4631, 0.011306327798886968), (782, 0.01128514006400183), (1085, 0.011274299981856844), (3504, 0.011264449676192029), (2470, 0.011256245524921028), (683, 0.011251299290747904), (1889, 0.011227756925248484), (3567, 0.011224036469750627), (978, 0.01120928092901971), (401, 0.01120860298477046), (3151, 0.011202689357481546), (29, 0.011199348919114659), (3784, 0.011194016819561042), (1283, 0.011192928130834204), (758, 0.011190768608404053), (697, 0.011151049298139776), (1941, 0.011143566110379657), (1505, 0.011136772318429028), (862, 0.011129001137862853), (4428, 0.011123992150296658), (1388, 0.011107298744699966), (2718, 0.011107109438935482), (416, 0.011105326277974935), (4738, 0.011099589030749505), (1644, 0.011092075237431614), (2441, 0.011090625529148739), (1345, 0.011080011659557937), (2854, 0.011068612622622077), (2804, 0.011062526628143578), (4549, 0.011056035731894063), (742, 0.011054820571496808), (4195, 0.011052423785461923), (4292, 0.011037625658003775), (3805, 0.011026981558312419), (22, 0.011026009862984748), (357, 0.011023709820784391), (1793, 0.011022689068744922), (4457, 0.011018380944766263), (795, 0.011004461585240589), (3238, 0.01099362750646288), (3399, 0.010987388812187898), (2019, 0.01098329018936567), (48, 0.010981446445000275), (2512, 0.010979787365316306), (174, 0.010968593006355215), (1867, 0.010966843498863902), (1662, 0.010960967257029438), (1913, 0.01095852885581558), (1681, 0.01094181417637136), (3121, 0.010940618577329678), (1849, 0.010931975778189329), (2569, 0.010927755919082266), (4285, 0.010926076644509768), (1816, 0.010924238797049554), (1126, 0.010920440428169951), (1598, 0.010916975960215812), (123, 0.010903973701167146), (1745, 0.010893928039130791), (102, 0.01088838946446079), (741, 0.010884470579416486), (2468, 0.010878478506850876), (1068, 0.010876085666664051), (3288, 0.01086505016393425), (2087, 0.010861108248108004), (3693, 0.01085950379107491), (3685, 0.010849447765490124), (1056, 0.010843532722168345), (3516, 0.010839122450148852), (1511, 0.010822313419028725), (4036, 0.010805779369907335), (2197, 0.010803338395950435), (1875, 0.010799632580860977), (1677, 0.010775119274478141), (1392, 0.010774801700848526), (2636, 0.010774791239157385), (905, 0.010770268967783329), (354, 0.010762362706600396), (4367, 0.010761094757383537), (4659, 0.010754887206227384), (2920, 0.010718779425650079), (3366, 0.010680714060818504), (2676, 0.010676270380358278), (546, 0.010670328899938), (314, 0.010669289629423628), (4038, 0.010654887179779226), (2963, 0.010641341324805844), (720, 0.010636372455487429), (44, 0.01063276614101371), (283, 0.01062709854731314), (10, 0.010620929304677994), (1220, 0.010614606074864225), (2608, 0.010614403902639298), (1231, 0.010597447894982022), (1031, 0.010596468137419861), (1912, 0.010588138005318708), (1208, 0.010578953182403927), (3724, 0.010567620575919342), (1687, 0.010567017475185722), (1490, 0.010566543817693511), (2689, 0.010564897705380948), (2050, 0.010545183728930214), (4074, 0.010542671726776795), (3383, 0.010542401776414837), (3235, 0.010527074388377017), (654, 0.010504232659378148), (891, 0.010498269144745866), (2509, 0.010497895900120693), (1560, 0.010491821002508011), (1762, 0.010491550177544592), (2929, 0.010488900287220295), (2034, 0.010486016897682367), (197, 0.010485102914098888), (3168, 0.010483957140928542), (3864, 0.010479349131971964), (4057, 0.010453336613531365), (3345, 0.010453069409809264), (139, 0.010446191888040648), (2810, 0.010434702972860734), (928, 0.01040042633840758), (641, 0.010399046441221464), (2534, 0.010396319938864631), (602, 0.010391741110566528), (290, 0.010386020345682995), (882, 0.010384579020462968), (295, 0.010379616041430673), (903, 0.010366488182384346), (4603, 0.01035839015123053), (255, 0.010340715357288177), (3507, 0.010331593328343285), (2590, 0.010294971947603159), (2834, 0.010294511706055408), (4626, 0.010290248164797487), (2450, 0.010280739287189719), (2493, 0.010275639654483231), (2908, 0.010264603580087364), (1018, 0.010255450440465188), (2183, 0.010255329605103313), (3577, 0.010254713728343369), (924, 0.010243926857406998), (745, 0.010225050122040417), (2626, 0.01021832764110121), (289, 0.010215256922170433), (2811, 0.010195883303011008), (2730, 0.010195249770394982), (2942, 0.010176603829076947), (3244, 0.010172461387838925), (2203, 0.010161193897503005), (920, 0.010152474319448485), (958, 0.0101498328962774), (3044, 0.01014888599700045), (2788, 0.010146384801464455), (350, 0.010135994589769756), (2210, 0.01013309568363472), (4068, 0.010125103932235507), (1242, 0.010117006293259852), (2082, 0.01010056995881706), (2265, 0.010081007969171458), (2291, 0.010075621234866439), (1215, 0.010066538670155173), (2671, 0.010059428707462743), (2070, 0.010059279057524188), (813, 0.010056227474347248), (4503, 0.01005137250392592), (2010, 0.01005125573557108), (2880, 0.010034711639048954), (3731, 0.01002938291171584), (3414, 0.010022665786205857), (1743, 0.010010397989722166), (4134, 0.009995703272268439), (1417, 0.009970689065596798), (4131, 0.009963443485837279), (2741, 0.00995752803000486), (1732, 0.009950999192129266), (3955, 0.009945772947912882), (1845, 0.009945202098288178), (547, 0.009915369132681645), (4551, 0.009908948000997805), (3946, 0.009905479384565215), (1279, 0.009901591786784666), (3374, 0.009890837399273949), (1442, 0.0098668416356042), (3821, 0.0098628659101985), (3924, 0.009842389546356483), (1822, 0.009828382962147376), (3677, 0.009828268339466081), (58, 0.009822877242535315), (1601, 0.009816408064600022), (1314, 0.009804090632993), (1338, 0.009802381143457918), (627, 0.00980107832600463), (2738, 0.009792283867287812), (271, 0.009789112274053706), (3927, 0.009788819395110728), (2789, 0.00977549934934608), (2754, 0.009761145938355767), (84, 0.009758282280915027), (1734, 0.009755685987785931), (3513, 0.009754874829477102), (2910, 0.009751275881957434), (2217, 0.009746986763215917), (1997, 0.0097278388709468), (1684, 0.009727162226882942), (2563, 0.009726467282842158), (1653, 0.009718897058905013), (3591, 0.009717288463851809), (3310, 0.009712844578618828), (1513, 0.009698794432506742), (1432, 0.009698312646020548), (2178, 0.009694074007287135), (3957, 0.009693560510817567), (1035, 0.009682081234573878), (1727, 0.00968039389131901), (4035, 0.009662266534307814), (1949, 0.009652406962668158), (3929, 0.00965014591018384), (7, 0.009647950914200091), (2252, 0.009647069847783482), (1469, 0.009638644784116565), (3239, 0.009634734129747306), (3509, 0.009634381607886596), (807, 0.009621972516926286), (3720, 0.009617794960129895), (1847, 0.009612802315145354), (1492, 0.009609839414739993), (2432, 0.009606551412308387), (1735, 0.009601625449168876), (2539, 0.009600381291138764), (223, 0.00959711320896368), (629, 0.009589005181610894), (1516, 0.00958855150553335), (3364, 0.009579069935309902), (4431, 0.009575391909348889), (73, 0.009574491858884303), (381, 0.009568278396180371), (1397, 0.009563558385552728), (869, 0.009546024511954045), (3169, 0.009544776808104876), (508, 0.009541058519444414), (167, 0.009539786337627063), (74, 0.009522537726355662), (4481, 0.00952233169258497), (3858, 0.009515313427649037), (854, 0.009511438048404305), (4418, 0.009506300042536673), (930, 0.009503517796962535), (1337, 0.009501442211799313), (2098, 0.009498752267358463), (3603, 0.0094882118456212), (4265, 0.009475763724863633), (2079, 0.009472442680967207), (644, 0.009467624665531003), (3465, 0.009466455835240773), (1274, 0.009464901233557976), (2006, 0.009431451644571156), (1599, 0.009426702875387823), (3332, 0.009422015271405619), (878, 0.009413364542553159), (3676, 0.0094087804039635), (4624, 0.009388939661907928), (1144, 0.009376239225729641), (2899, 0.009368790285374996), (2518, 0.009367414886817556), (494, 0.0093532592996694), (2324, 0.00933891004082116), (951, 0.009335996824177387), (974, 0.0093297920105339), (2154, 0.009329596596283908), (3832, 0.009329228890929438), (3853, 0.009324229273133838), (3021, 0.009319759491386812), (4610, 0.00931975315405232), (3559, 0.009307697254257306), (2682, 0.009298516691040263), (4108, 0.00928487106895811), (2004, 0.00928118802536765), (866, 0.009265161018513265), (168, 0.009242894132200766), (655, 0.009221511629438786), (2306, 0.009215226583576795), (4064, 0.009205076452013402), (2825, 0.00919767864261916), (3443, 0.009183384957617106), (531, 0.00917524006206842), (573, 0.009156634965410693), (411, 0.009147810782621356), (2017, 0.009137653266573209), (3306, 0.00913698342076059), (853, 0.009092931381397567), (2430, 0.009084175048074883), (604, 0.009081906495905514), (121, 0.009075916764036211), (3459, 0.009056036115707499), (3316, 0.009046518084702464), (4277, 0.009045016316835373), (2458, 0.009042711393865253), (1317, 0.008997259363279992), (3667, 0.008991371041332552), (1191, 0.008988966295912875), (2793, 0.008980103454621885), (1000, 0.00896414776363106), (4143, 0.008958698397207195), (1544, 0.00893757399975004), (3705, 0.008935687500908528), (1907, 0.008931756621954206), (1545, 0.008928186215060963), (460, 0.008912036244497752), (3595, 0.008908000592090268), (1520, 0.008907534953722923), (2364, 0.008891769354783087), (402, 0.00887921052543667), (4519, 0.008872331890077235), (1282, 0.008871010874203198), (1384, 0.008870179707982772), (1655, 0.008859973228914386), (2787, 0.008853214933986154), (1051, 0.008852221924504454), (2817, 0.008848006319558104), (4450, 0.008834730318941332), (1666, 0.00882956477759214), (4037, 0.00882003204269258), (2498, 0.008819488425208459), (495, 0.008814876709919438), (530, 0.008813779984653656), (3983, 0.008810552297136776), (2147, 0.00880757134985433), (2927, 0.008771331116750455), (2166, 0.008768486429986132), (4599, 0.008765867361741337), (3546, 0.008740283463709655), (781, 0.00873867878105528), (4690, 0.008731424120348), (3637, 0.008715769258963972), (4455, 0.008710416962755044), (2675, 0.008698530255247566), (1660, 0.008669808163630858), (2893, 0.008666137650520265), (4448, 0.008665691763819426), (4554, 0.008658067482583385), (1201, 0.008654714550351711), (890, 0.008654066970565467), (2531, 0.008647804478077815), (532, 0.008645589395947728), (1060, 0.00863875892396525), (1851, 0.008638717045230546), (4325, 0.008635820808374361), (3696, 0.008634695638176386), (3010, 0.00863401059207199), (926, 0.00862562246587826), (1702, 0.008624408880483131), (2842, 0.008616787885566685), (1364, 0.008616086501345852), (1155, 0.008606141176722558), (1828, 0.008599605374408282), (3930, 0.008590541998679091), (2315, 0.008581710382471252), (3549, 0.00858157429805275), (1546, 0.008573844927679541), (2222, 0.008570850505255172), (3524, 0.008569616853256346), (2274, 0.008566799955866664), (1825, 0.008564812594588418), (3122, 0.008541515598599864), (971, 0.008540999071859028), (2431, 0.00854011656773531), (2304, 0.008538446829313049), (3776, 0.00853559375297475), (3722, 0.008531514369969252), (2417, 0.008528074971549393), (779, 0.008519337659587626), (1726, 0.008514915437596896), (221, 0.008512994511599455), (2765, 0.008510804201966168), (1838, 0.008510085793421133), (4374, 0.008499153830477215), (1630, 0.008495671704751295), (3950, 0.008494900650916017), (3526, 0.008491893403549548), (2033, 0.008468934874036334), (1046, 0.008465060284040503), (4399, 0.008461849174253454), (2622, 0.008455597938819982), (3283, 0.008451928130216519), (3267, 0.008448129713439412), (3967, 0.008447868660295154), (4447, 0.008446970109924477), (1322, 0.008446926598357572), (3303, 0.008444159544282608), (2424, 0.008439081283118655), (3668, 0.008435743450711068), (4182, 0.008424896325467566), (2662, 0.008422593450309108), (4026, 0.008419661858379765), (3823, 0.008418464472442265), (4135, 0.008415500584071369), (632, 0.008414746429759827), (1451, 0.008410287194597566), (3650, 0.008407846354558587), (1041, 0.008404569685497763), (3739, 0.00838902996205983), (202, 0.008382361973702027), (736, 0.00835344264292166), (529, 0.00834909107052931), (504, 0.008347951645378793), (372, 0.008342516999051528), (3223, 0.008338312543883761), (3423, 0.008334130495597183), (3185, 0.008329608470513708), (1804, 0.00832299004835779), (3070, 0.00831686422885313), (1170, 0.008307127736038825), (1563, 0.00830245393964736), (2046, 0.008287460761172923), (4592, 0.008272109617069376), (4526, 0.008255723756650651), (525, 0.008253379449820311), (3711, 0.008249463724065653), (2936, 0.0082451506159491), (4394, 0.008234018216227901), (2776, 0.008230561885807935), (3818, 0.008228901570041334), (3477, 0.00822807458507271), (524, 0.008213855816747797), (1270, 0.008208375518551716), (1411, 0.008199624051459872), (3703, 0.008193713608698226), (1447, 0.008184475985535664), (2064, 0.008179233436349489), (851, 0.008156353143508398), (149, 0.008154601299872081), (3644, 0.00815258355506306), (169, 0.008152546209665794), (419, 0.00815208068196948), (2151, 0.008147755740643718), (3008, 0.00814272211188603), (3260, 0.008141268148269681), (2807, 0.008140444784184488), (1130, 0.00813095959872488), (246, 0.008127022786286272), (4160, 0.008115351375603588), (3934, 0.00811508266528804), (1348, 0.008109915191591783), (3157, 0.008107089765857006), (2956, 0.00810156676640835), (2971, 0.00810117381588633), (456, 0.008096545896545513), (4605, 0.008090551142632007), (2338, 0.00808946726115826), (2505, 0.00808899730216129), (4337, 0.008087381666895222), (4401, 0.00808697737656143), (4290, 0.008081141773360565), (3797, 0.008060051983918085), (2830, 0.008055637430799758), (4442, 0.00804852983069998), (1817, 0.008035217071287105), (1509, 0.00803415817830976), (1212, 0.008032085091929987), (4034, 0.008030162811390008), (773, 0.008027114523871975), (2003, 0.008016475298786279), (2806, 0.008016107606910369), (2244, 0.0080106490755554), (3149, 0.008003778718007119), (686, 0.007999692213543559), (1597, 0.007993190038962109), (585, 0.007982392367288097), (3201, 0.007980801741297259), (427, 0.007959110025764743), (2724, 0.007956195981754519), (2829, 0.007949959663888617), (3868, 0.007939590515452373), (2078, 0.007926322699778835), (2897, 0.007925805247114434), (2148, 0.007920840810487856), (2915, 0.007920762594364235), (3695, 0.007917086456067802), (2047, 0.007912029197607017), (1608, 0.00790324013579423), (2409, 0.007903013465894006), (2106, 0.007899981943307004), (1897, 0.007897254644116959), (4628, 0.007887681035172067), (668, 0.007884778020623802), (2631, 0.007880019425825875), (4679, 0.00787168124834138), (3712, 0.007860069134028955), (844, 0.00785071025137361), (2234, 0.00784878237797259), (4705, 0.007848622623978532), (1585, 0.007820043559112427), (2171, 0.00781948478488042), (2311, 0.007805605420535621), (2768, 0.007803340354125522), (1824, 0.007799800519692081), (1914, 0.007798470314996674), (3320, 0.007793467825356414), (507, 0.007791406508148255), (1712, 0.007785486734781958), (3182, 0.007784709483535855), (2451, 0.007773905260157595), (3071, 0.007772173712359616), (940, 0.007771648016585021), (1228, 0.007767309701279796), (2096, 0.007763425776964459), (1779, 0.007754650940973177), (3211, 0.007752245295817339), (1407, 0.007740364886456648), (2227, 0.0077365627567407115), (2327, 0.007736411409496035), (1778, 0.007728874056505937), (2565, 0.007726548249119142), (3083, 0.007713643151189569), (2446, 0.00770696426690127), (1685, 0.007706214953686156), (454, 0.007701120959685949), (2025, 0.007680380210833929), (1642, 0.007679733706074311), (3321, 0.0076775842807936), (4202, 0.0076759481023996315), (1075, 0.007672814117225245), (2497, 0.007663626699346327), (2337, 0.007663238509126149), (1488, 0.00766116900657044), (665, 0.00765901357088098), (2491, 0.007650446449359799), (2989, 0.007649200370125009), (1691, 0.007639780895223402), (4174, 0.007637457010596496), (2913, 0.007636713762675181), (173, 0.007633641812165399), (907, 0.007630753843420681), (1984, 0.007626585537945392), (3208, 0.007608826230509877), (482, 0.007602462177357575), (1524, 0.0075995780568691735), (14, 0.007592963458285671), (1794, 0.007592755004366874), (331, 0.007589942325059303), (2545, 0.0075884351995668935), (2954, 0.007576600183565511), (1634, 0.00757410199135198), (3565, 0.007563032248317678), (3563, 0.007562697802152103), (3295, 0.007551306250068073), (313, 0.007548412788151075), (1784, 0.00753479633703766), (1508, 0.007525891047179093), (1626, 0.007518666913456944), (1629, 0.007518527413516366), (1932, 0.007515961960974933), (4109, 0.007508079841487171), (2841, 0.00750168646572398), (2973, 0.007495210905469268), (1719, 0.007488725724428592), (2111, 0.007485610394974528), (2262, 0.0074755743144532556), (2663, 0.007471094430067575), (4709, 0.00746167336984047), (2514, 0.007454899186835625), (2048, 0.007449919941312474), (3585, 0.007448243852536948), (4643, 0.007445407402684536), (1761, 0.007443290630040052), (885, 0.007442742940896743), (871, 0.007437081527741547), (2275, 0.007434017167787306), (4666, 0.007431912218101336), (577, 0.007431670937137836), (1182, 0.007431298210448738), (406, 0.007431263623276184), (2155, 0.007410975116474484), (1942, 0.007410347449280826), (947, 0.007405011290702739), (4168, 0.007402741672860429), (4719, 0.007400385856561017), (1025, 0.007394436347546225), (4288, 0.007364077199525053), (1394, 0.007351676846098205), (4221, 0.007339514027811685), (1464, 0.0073343179951525315), (2887, 0.007334152906524218), (3317, 0.007333523935432125), (820, 0.007329771491603857), (2130, 0.007316674229513317), (909, 0.007315661009834726), (4541, 0.00731225103018503), (1320, 0.007308773691618389), (1175, 0.00730475640861384), (1706, 0.007304090172036175), (2831, 0.007292019155169652), (1873, 0.007290859852764157), (3482, 0.007282481720574327), (3411, 0.0072800753313778405), (109, 0.007261582866662132), (2805, 0.007256057971384296), (1612, 0.007252995616298605), (1482, 0.007252977123310654), (4364, 0.007245040995957589), (2823, 0.00723525310548153), (4473, 0.007226846116405042), (789, 0.00722569239982305), (834, 0.007224349470419226), (1759, 0.0072205734199904436), (241, 0.007220385060681727), (2174, 0.007219669385256898), (3077, 0.007216789839496305), (464, 0.007199532314818958), (3067, 0.007195457399072565), (4674, 0.007191296591693029), (282, 0.007175536331209768), (3058, 0.0071733209773602955), (3622, 0.0071630081629315565), (1868, 0.007157028792546327), (3319, 0.007145040983343082), (2980, 0.007143406106690547), (4752, 0.007138977462921138), (1128, 0.007136998266199536), (3393, 0.007136561863974704), (1773, 0.007136234522619481), (1272, 0.007131754732649436), (1180, 0.0071181210799048785), (3147, 0.007114252912984704), (446, 0.007105257225487441), (2766, 0.007104536569853934), (2759, 0.007097301244837757), (3137, 0.00709277193669165), (2008, 0.007083309329961272), (1178, 0.007048953714027012), (1607, 0.007048766799026193), (817, 0.007048515583693755), (2855, 0.007036723264819503), (4336, 0.007035380286870546), (2204, 0.007034102248908031), (3365, 0.007028321366593353), (85, 0.007006958318948319), (1864, 0.007005555248976078), (3674, 0.007004390444950757), (2076, 0.006998361408950686), (1020, 0.006987854112170331), (3481, 0.006983554103244819), (195, 0.006974572914333652), (1287, 0.006973658523830614), (3472, 0.006954695309486821), (4606, 0.0069497468301844625), (3098, 0.006942285562305515), (2121, 0.006934148057260676), (2795, 0.0069325776586207375), (164, 0.006930686851999794), (1981, 0.006929584792572862), (1255, 0.0069205817987122815), (1810, 0.006920073889451764), (3105, 0.006911690809150113), (3430, 0.0069068281077715385), (1067, 0.006903491850859313), (2572, 0.006899603387696321), (3023, 0.006891203008423136), (812, 0.006886954570829855), (835, 0.006886683621065886), (1647, 0.006885086069365688), (3991, 0.006825997583171063), (734, 0.006821351937307161), (4122, 0.006817616612371276), (833, 0.006816590983841646), (4569, 0.006794611408087356), (228, 0.006781083401301822), (650, 0.006776966230764389), (838, 0.006772774201172628), (3829, 0.006770587341269345), (670, 0.006765238082944463), (2119, 0.00675678435538392), (766, 0.006739378562423277), (248, 0.006738188957110655), (1519, 0.006735411637670872), (1920, 0.006734561573251879), (4443, 0.006724810735462323), (15, 0.006718193580401703), (4723, 0.006711884597701447), (4653, 0.006711697178625928), (2188, 0.006699543522152288), (1648, 0.006686484257033054), (2110, 0.006682843515993496), (2459, 0.006681669708531051), (183, 0.006679946742458744), (2415, 0.006661175016692515), (457, 0.00664326240088952), (199, 0.006641344504299464), (1730, 0.006640418170547503), (2778, 0.006637814683142349), (510, 0.006632755222540549), (4698, 0.006623132623996294), (2011, 0.00662303933574662), (2747, 0.006621683166671258), (1538, 0.006611297822738357), (2734, 0.00659512707229719), (449, 0.006587416579137679), (4405, 0.00657827201577314), (1316, 0.0065539948493547676), (3726, 0.006528758214117731), (2607, 0.006528666868860776), (1153, 0.006527969841918703), (4018, 0.006513424479260177), (2772, 0.006502778418091979), (732, 0.00650211414819497), (1016, 0.006501622371056566), (1219, 0.006493390273152384), (1009, 0.006461517949957146), (2378, 0.0064603627185218365), (705, 0.006448220938195763), (979, 0.006440630375836721), (3275, 0.006416160100801675), (1540, 0.006412721879577433), (3785, 0.006397349091129669), (2737, 0.006388589265343087), (3440, 0.006378171971012513), (4635, 0.006367721499574578), (3626, 0.006366139782611417), (753, 0.006363491937266553), (4276, 0.006358471124877464), (1591, 0.006357705010199754), (1815, 0.006354630159328168), (369, 0.006350516172871691), (3947, 0.00634374425743427), (4385, 0.006339529136088271), (3708, 0.006338247897898294), (2621, 0.006336887415476998), (2692, 0.006324868664687002), (257, 0.0063195765221950966), (4747, 0.006317750719874323), (3394, 0.0063124009290242535), (2597, 0.006309607984329319), (3165, 0.006305159486488704), (1863, 0.006290472612518737), (4244, 0.006288928165921432), (4498, 0.006262765975486331), (4741, 0.006255480315926356), (2476, 0.006242020130345083), (2864, 0.006239948805504848), (445, 0.006235311995727927), (2181, 0.006231035721742684), (2678, 0.00622287494449067), (2881, 0.006217262091071276), (3552, 0.0062144283589960336), (286, 0.006211207702682361), (3475, 0.006211106346443001), (2576, 0.00621032109527458), (3680, 0.006207600287621902), (4393, 0.006192680402808713), (2701, 0.0061840690067215395), (1050, 0.006166373589442032), (3634, 0.006158288822490216), (2903, 0.006156148634673771), (4630, 0.00615613861193041), (4185, 0.006155934618721046), (1976, 0.006132386156855715), (3593, 0.006127981016597203), (458, 0.006125263098096818), (1332, 0.006116285212406791), (2383, 0.006103787631281552), (128, 0.006089934219103377), (4144, 0.00608597748069378), (688, 0.006081151744900185), (4571, 0.00607162062519459), (616, 0.006069786541924682), (4619, 0.006056802050214583), (3178, 0.006041169384289475), (3453, 0.006037988355019512), (1454, 0.0060295464045218876), (142, 0.006026194684453064), (4046, 0.006018022761572581), (3940, 0.0060051592465469655), (673, 0.005990527245348991), (4116, 0.005984848373987437), (3263, 0.005980379919033053), (3064, 0.005973281839339347), (513, 0.005967457535703236), (1265, 0.005966311060308089), (303, 0.0059569144660088875), (2673, 0.00595539753226895), (1037, 0.005924984445919755), (4656, 0.005919517610104073), (210, 0.005916348086305149), (3468, 0.0059163352193699215), (2703, 0.00591495722053636), (3692, 0.0059106217621522125), (3112, 0.005902964563326628), (2243, 0.005888212868651311), (3451, 0.005883887243376838), (3059, 0.0058809325007928735), (2670, 0.00587587528614319), (992, 0.005872828327569362), (180, 0.005866138988369872), (4005, 0.0058657427923122655), (3512, 0.005859136442931747), (1659, 0.00585121489726598), (3997, 0.005844127119662233), (2044, 0.005831021749186227), (2361, 0.005822759345535836), (68, 0.005821941665709986), (3145, 0.005816204953130759), (2819, 0.005815296232678416), (4384, 0.005814353854879818), (1989, 0.005813599752005672), (1853, 0.00581060657228336), (2714, 0.005809778493998338), (1484, 0.0058068357655185095), (4045, 0.00579948696717014), (1861, 0.0057925335971361555), (4392, 0.0057804776814978824), (2959, 0.005778972969459384), (4410, 0.005777081433558167), (1393, 0.005764073787435978), (4555, 0.005758767428886284), (143, 0.005758636880334923), (4430, 0.005747507353534284), (845, 0.005747043395047265), (1736, 0.005746778936928682), (2083, 0.0057448876849937065), (4100, 0.005734354641238622), (1229, 0.00573105409498574), (3241, 0.005727011910767179), (2085, 0.005719419631334623), (4586, 0.005716202365700484), (1536, 0.005708457946701717), (517, 0.005704755582797871), (4390, 0.0057044776481753115), (2469, 0.00570265497669054), (2238, 0.005685034873573065), (3088, 0.0056818737807245315), (1747, 0.005668328475881847), (4249, 0.005664062718685938), (4745, 0.00566304018837458), (3623, 0.005662925452132861), (3191, 0.005651482512423273), (2669, 0.005650717305794043), (4098, 0.005627024655037623), (3225, 0.005625394794501037), (3522, 0.005618315785061848), (1174, 0.005611961544047533), (1740, 0.005599890219001044), (1122, 0.005588848182152357), (3707, 0.0055871067634780955), (994, 0.005578700254203491), (764, 0.005576497511089374), (4612, 0.0055732269859067604), (2118, 0.005568580143447066), (2091, 0.005565949034593546), (3908, 0.00556177364834652), (4242, 0.005561682198291054), (1138, 0.005553055779979558), (3002, 0.005547601064724398), (2529, 0.005546570428004961), (1335, 0.0055442026652384796), (4271, 0.005539532248656887), (3210, 0.005537239945643991), (848, 0.005536215731009096), (3227, 0.00553503501911441), (2684, 0.00553341109715838), (4660, 0.005520473500411734), (4435, 0.00551573137751493), (2379, 0.0055143893117985555), (451, 0.005513254692088585), (1669, 0.005508376553129878), (2490, 0.005507228875645611), (2312, 0.0055010634303873296), (4310, 0.005495103930886258), (986, 0.0054853520989362236), (1455, 0.005482871890253636), (2212, 0.0054776419950457395), (2943, 0.00546981294836187), (4148, 0.00546806193674143), (619, 0.005464100330703562), (3807, 0.005460759393853374), (4248, 0.0054570340374727015), (181, 0.005453001028813988), (3432, 0.005449329789593622), (1102, 0.005448261329852372), (4708, 0.0054476128531949315), (2764, 0.005443711319946276), (3340, 0.005441652814813232), (1252, 0.005438835995572256), (1504, 0.005436966364702958), (155, 0.005435167194706146), (375, 0.005425200523461575), (534, 0.005421819762502289), (3502, 0.0054186931423531514), (2858, 0.005415868523933352), (2137, 0.005415566199040053), (3161, 0.005415526041811578), (1253, 0.005412933188095788), (2891, 0.005412366015638327), (3139, 0.005409784825323209), (1127, 0.005403061927646464), (3814, 0.0053994994800327534), (1937, 0.005392146947177332), (1082, 0.005391413560568106), (4020, 0.005385490394685862), (244, 0.0053702457817244855), (1406, 0.00536514006667493), (2722, 0.0053639984130487125), (2232, 0.005363106835706605), (4743, 0.005356257052446058), (4039, 0.005351263496052185), (3009, 0.005350320343183803), (4534, 0.005339086209289116), (3040, 0.005336065739330996), (2500, 0.005331096657672535), (554, 0.005325060986861911), (825, 0.005324123943808693), (1343, 0.0053218926514966135), (4573, 0.005321650380621932), (1044, 0.005317836343640423), (4673, 0.0053168783710915235), (1076, 0.005291599728862141), (2918, 0.005288747210266521), (3266, 0.005285651581719433), (2395, 0.005285407488702304), (3796, 0.005284699959983569), (4239, 0.005278905601019703), (4594, 0.005273108676601526), (1230, 0.005269062132743404), (2024, 0.00525675965659507), (1285, 0.005255627389069351), (4449, 0.005252862101855314), (3949, 0.005252413059892618), (3605, 0.005247866943135901), (2206, 0.0052471312659390125), (2537, 0.005241635621491513), (3978, 0.005236039703805676), (2540, 0.005231958521836189), (735, 0.00521755106706858), (827, 0.005207776292039584), (4345, 0.005207074917570523), (4002, 0.005199109676521276), (2404, 0.005197069628200605), (3734, 0.005177594105488239), (4700, 0.005173678885911249), (3230, 0.005168445110915822), (448, 0.005167363428789428), (3609, 0.005161763335837898), (2184, 0.005156690747008732), (4115, 0.00515563276613381), (1749, 0.005148719644113095), (2885, 0.005146290586774039), (380, 0.005142999363190701), (1665, 0.005139906691941928), (2560, 0.00513812392604179), (2634, 0.00512933610537843), (2731, 0.00512893276190395), (2785, 0.0051257210174862535), (3651, 0.005121312518320068), (3204, 0.005114885802273807), (2958, 0.005114192005672705), (3479, 0.005102820868988715), (3143, 0.005098384463629363), (868, 0.005096826599499146), (1183, 0.0050953893450240715), (4484, 0.005094444830585929), (2429, 0.0050886594883430315), (3960, 0.005075330934961214), (1887, 0.005073309098811575), (3993, 0.0050719494475596726), (2281, 0.005069246581074952), (3528, 0.005056833597859904), (2674, 0.005053261885512845), (4198, 0.00504532042518301), (3800, 0.005041105977230942), (2483, 0.005039084484320394), (4368, 0.0050384431448636125), (160, 0.005031688337247754), (3738, 0.005021114666191265), (1716, 0.005020725779576985), (1065, 0.005017416909797021), (2832, 0.005014461245173945), (1281, 0.005010444109882226), (3953, 0.004994709478960089), (2536, 0.004991341440285353), (747, 0.004991214273435016), (4515, 0.004981665314752109), (3860, 0.0049772142606555984), (4537, 0.004973807404122498), (3892, 0.004967137006511633), (4531, 0.004961382461327428), (1657, 0.004957913037590736), (3282, 0.004955256942682463), (2228, 0.004945339568695666), (804, 0.004937415122045157), (997, 0.004937108733763753), (2928, 0.004934023594344238), (371, 0.004926254887632853), (3217, 0.0049239166796347005), (4084, 0.004913243871362792), (3078, 0.004909961715113693), (2282, 0.004909215773807214), (3556, 0.004908370015543255), (1154, 0.0048929933920224735), (1977, 0.004887623314667711), (4240, 0.004887161203555805), (2838, 0.0048831222077040555), (675, 0.004882141402880344), (4013, 0.004874064492857452), (4608, 0.004871443481758029), (4661, 0.004866012155710008), (1290, 0.004863352020534892), (2875, 0.004856363790601031), (4102, 0.004851475720262581), (2455, 0.004849826161205354), (192, 0.004841999093681195), (704, 0.004840696008120746), (3740, 0.0048357032596478946), (3936, 0.004833726546612711), (92, 0.004831010967801814), (2983, 0.00482236272692997), (1952, 0.004820776427231071), (3087, 0.004820562337853731), (2423, 0.004815377482085561), (420, 0.004813943895567022), (3988, 0.004809477619323581), (4432, 0.004804849991884759), (2263, 0.004804818898901877), (4553, 0.0048000522271083165), (2543, 0.0047944372923851755), (1140, 0.00479344840356581), (3844, 0.004788141483244695), (2308, 0.004781833867032094), (12, 0.004780719661940975), (3780, 0.004780011219257977), (3249, 0.004778944980706433), (4429, 0.0047663453765715525), (792, 0.004762124757595179), (680, 0.004761029136556003), (2939, 0.004758927729668122), (4058, 0.004752671687122739), (3357, 0.004749512707515895), (1896, 0.0047492646735978776), (2564, 0.004746930098529705), (4562, 0.004746764905615548), (2515, 0.004743801890593668), (1426, 0.0047430424355341325), (3537, 0.00473934041181142), (765, 0.004731386415019193), (3103, 0.0047300043704147626), (3339, 0.004724201968815545), (1859, 0.004720612699685847), (3922, 0.004716896789941747), (2857, 0.004716565303379004), (2809, 0.0047122382570513825), (3654, 0.004708271658769786), (3958, 0.004707598621196809), (2790, 0.004707018540115249), (1402, 0.004694448724432902), (1627, 0.004692504171661064), (394, 0.004691374833800392), (3074, 0.0046879258985062415), (4621, 0.004678143241277719), (2797, 0.004676835117546815), (2488, 0.004669654824223381), (717, 0.004668583264909981), (588, 0.004651990910110771), (3544, 0.004651108799772922), (4262, 0.004647814152293094), (621, 0.004644630094534183), (216, 0.004641289094178791), (2072, 0.0046389315455957975), (3020, 0.0046386293334014), (4127, 0.00463805399391924), (3920, 0.004637112508098356), (11, 0.004635933350825679), (4514, 0.00462174052740321), (1636, 0.0046126056533726655), (2334, 0.004607874928979294), (3233, 0.0046055771361778125), (2781, 0.0046047821302739), (3257, 0.004604088061778859), (1768, 0.004602807453085084), (3203, 0.00460174276507413), (2756, 0.00459979941498365), (3446, 0.004597668608679543), (2727, 0.004595746526172199), (3054, 0.0045912741667463435), (3413, 0.004589450911179544), (4408, 0.004587544094275507), (2784, 0.004575831023421337), (1092, 0.004575551630175487), (3758, 0.0045699454985758175), (2434, 0.004567908135429629), (1704, 0.004563510113656418), (4506, 0.004561896211235267), (3810, 0.004561814814485572), (4483, 0.004558054947516833), (4190, 0.004557058194603911), (3996, 0.004555822392108592), (832, 0.004551964143772673), (2333, 0.00454855616830404), (4204, 0.0045478009896376395), (3686, 0.004542437069011278), (2278, 0.004541737842819755), (3024, 0.004541116905368139), (3017, 0.004539781791953219), (3045, 0.00453330694278017), (1049, 0.004530801991973816), (2009, 0.00452551736172296), (3308, 0.004523595384586285), (2986, 0.00451962159560538), (1574, 0.004517712796264195), (3789, 0.004512517387430033), (4717, 0.0045117465310561935), (4711, 0.004509722057284376), (4451, 0.004508224996307377), (1137, 0.004507088807245354), (431, 0.0045061727496249005), (955, 0.004505211584446025), (4686, 0.004504120562922718), (4755, 0.0045039873390279594), (3763, 0.004503131117798329), (4604, 0.004501008752860104), (2573, 0.004499831770974204), (3125, 0.004498939999878312), (2570, 0.004497171841606837), (3621, 0.0044961753871077936), (3491, 0.004494402681588502), (3564, 0.00449419623161482), (1223, 0.004494142877754488), (2697, 0.004494066692521282), (347, 0.004491985916144702), (3324, 0.004490534844400491), (1792, 0.004490313450556308), (1187, 0.004489283600443247), (711, 0.004488192557318346), (4330, 0.004479323769501126), (3612, 0.004478538926782886), (2635, 0.004477132809566172), (272, 0.004475488894101916), (4006, 0.0044741901224906915), (1169, 0.00447192437943903), (2846, 0.004470939326772478), (3931, 0.004469782952018252), (2250, 0.004467163650253133), (2195, 0.004465022921189266), (1164, 0.004463683211733131), (2900, 0.004462590888912347), (3330, 0.004461581070111514), (435, 0.00445131690959449), (439, 0.004450480522986383), (440, 0.00444739596100022), (988, 0.004446642032007978), (2696, 0.00444173763388778), (105, 0.004439964593253697), (1947, 0.004435645571261512), (894, 0.004434772282864127), (348, 0.004431680211438656), (1059, 0.004431498790368861), (2924, 0.004431345142274394), (3754, 0.004431229732102959), (3408, 0.004418672082141078), (769, 0.004418220969546296), (4010, 0.0044088722213459115), (3337, 0.0044088170382853755), (1857, 0.004407262415488567), (3746, 0.004407012360906062), (679, 0.004403588751094266), (4650, 0.004403440752400203), (2872, 0.00439830757370392), (1576, 0.004396980150990427), (925, 0.004393483798399937), (4284, 0.004392600767263707), (4157, 0.004387059505881399), (3835, 0.004386735884746202), (760, 0.004383349920370506), (3952, 0.004381836905985266), (1656, 0.004380714889325495), (1507, 0.004375597700655409), (3851, 0.004374801356953525), (4496, 0.004373510546793458), (2796, 0.004372751035396497), (985, 0.004370915205039805), (2029, 0.004370701918852016), (1617, 0.004370553221977647), (2305, 0.004370111527870425), (2702, 0.004367106252036756), (3412, 0.004366183300100586), (4387, 0.004365238794326184), (4295, 0.004362544888358542), (1424, 0.004362317123948849), (4117, 0.004361728443700971), (3791, 0.004359941805339041), (4335, 0.004352207746562357), (3994, 0.004350537114950167), (2982, 0.004348413008926302), (72, 0.00434176460365412), (2302, 0.00433995883023921), (790, 0.004339084812033079), (2357, 0.004337781806199738), (3649, 0.004334689608750812), (4746, 0.004333818136347226), (4317, 0.004332826226929061), (4737, 0.004332440905963204), (2186, 0.004330970271857795), (2138, 0.004330665359756599), (999, 0.004328037898145467), (4472, 0.004327535387600081), (2411, 0.004326635723326421), (3028, 0.004326170475868993), (2571, 0.004325268495222799), (1347, 0.004324164979412075), (2245, 0.004324021981432336), (2268, 0.004323627272011487), (3011, 0.0043230226488134476), (4452, 0.004321823903730299), (2914, 0.004321271526475329), (4504, 0.0043208107516181605), (1969, 0.004320366889353084), (3992, 0.0043191455635909455), (839, 0.004316996709301118), (1463, 0.0043163709371523), (1421, 0.0043158143062858745), (486, 0.004299193133636807), (3053, 0.004296151381739501), (1489, 0.004293496697792539), (1632, 0.004292323559245914), (4438, 0.004292025417638999), (1311, 0.0042865784512584396), (2767, 0.004282790751358454), (4279, 0.004281098394679029), (2799, 0.004276601807572045), (3146, 0.004273951169368657), (1218, 0.004270803263278311), (3964, 0.004267391935970443), (4051, 0.004262867873283239), (1260, 0.004262272859215376), (3080, 0.004258982896622348), (2384, 0.0042555645358659435), (1375, 0.004254979272397118), (1132, 0.004254619212542353), (2782, 0.004253376265499943), (4441, 0.004252683854640666), (2892, 0.004249592812304408), (767, 0.004246734730092466), (4706, 0.00424506629844293), (3003, 0.004244618856733576), (1371, 0.004244447385623547), (4259, 0.004244224694267569), (3808, 0.004242417424902993), (4463, 0.004241256315491933), (2108, 0.004240994263732643), (1728, 0.004240595721618186), (3891, 0.004239520552564958), (4124, 0.004236074679043549), (4324, 0.004235867905603408), (3688, 0.004233813230931071), (3371, 0.004232704895418316), (408, 0.004232631602752133), (1404, 0.004231793490253046), (3572, 0.004230351419183597), (2592, 0.004230068174729703), (388, 0.0042262118877505715), (387, 0.004222175702292764), (3652, 0.004221966486450324), (1756, 0.004221674076483699), (3026, 0.004221555178908579), (4003, 0.004220819621623906), (1766, 0.0042164705458947295), (2023, 0.004215805478011047), (2525, 0.0042155763150795575), (4263, 0.004208461622546369), (3519, 0.004206756570011895), (1786, 0.004202431575409116), (2930, 0.0042010871452703375), (1089, 0.0042009019616646), (3581, 0.004200363139272968), (3057, 0.004199722973067434), (3207, 0.004198936017780352), (3529, 0.004198671580219551), (2375, 0.0041977167413735994), (141, 0.0041969037444611), (4548, 0.004196597172147267), (841, 0.004195558293433639), (3837, 0.004194175772546144), (2410, 0.004191726915573621), (4446, 0.0041915508237164965), (2938, 0.004191002838155056), (1479, 0.004190800364621808), (2464, 0.0041905925669488775), (4308, 0.0041902432998920085), (4059, 0.004186579280960273), (1620, 0.004186089227835384), (4097, 0.004184365335252738), (3183, 0.004184150304700673), (253, 0.0041775575261554935), (4634, 0.004177374101535515), (318, 0.004175688595385368), (3966, 0.004175256562554533), (1806, 0.004171480578040992), (2968, 0.004170680479780485), (3280, 0.004167993000814844), (1905, 0.004165747139117354), (678, 0.00416550608436693), (410, 0.0041649780847089375), (4522, 0.004164005425601635), (1491, 0.00416394396192786), (4258, 0.0041632237201234), (1430, 0.004162734875170759), (2604, 0.004158254245883003), (2748, 0.004154992638890192), (3258, 0.004154905879572603), (2978, 0.004154729013376698), (2882, 0.0041521114233271615), (2507, 0.004150723633292212), (1052, 0.004144549320771104), (3889, 0.0041439104856947915), (240, 0.004143760123669903), (96, 0.004143414097164045), (2258, 0.004143331984894191), (4413, 0.004143044379034106), (2317, 0.004142270672737959), (744, 0.0041401057299144915), (3854, 0.0041399345183989215), (4402, 0.00413958264419615), (335, 0.004138749560082063), (4734, 0.004129298257690487), (2482, 0.004126525274716304), (4445, 0.004121052168448104), (3510, 0.004119246443356406), (1441, 0.00411908104586674), (1103, 0.004117411346810382), (771, 0.004116532433085348), (4176, 0.004116502762190737), (1518, 0.004115198160098967), (4132, 0.004112854500366367), (3943, 0.004107099012911026), (2661, 0.004101828746724984), (3496, 0.004101454094293052), (1637, 0.0040986150093927755), (405, 0.004096269126117837), (1276, 0.004094539117441313), (3175, 0.004094440638317652), (754, 0.004093599163756648), (2786, 0.004091839931961905), (873, 0.004091660979697022), (4111, 0.004090430314020291), (4339, 0.004089426875117484), (4173, 0.004088150408275271), (1409, 0.004087768341489617), (1614, 0.00408760988947963), (2260, 0.004087464030379432), (1568, 0.004085368797539672), (2391, 0.004081008822369678), (291, 0.004080664025481166), (1990, 0.0040786446508753954), (1609, 0.0040774731516422125), (3601, 0.004075011714802127), (1360, 0.004074448613110953), (4357, 0.004073009469290975), (4261, 0.004072804816908055), (2970, 0.004072748861217651), (3539, 0.004070804811454536), (3109, 0.004069417997687701), (4315, 0.0040690531853392956), (352, 0.004068900850543138), (536, 0.004066396747306456), (1205, 0.004065585632514734), (3236, 0.00406389553772399), (1856, 0.004063490521070358), (4560, 0.004063455168565036), (337, 0.004063253494203942), (1596, 0.004058803300701217), (1171, 0.004055268429363573), (4256, 0.004054773405603951), (3442, 0.004052982927280109), (3084, 0.0040525684148120435), (4489, 0.004052503602286126), (4054, 0.004051574615420106), (1595, 0.00405139496627665), (2516, 0.00404856503914932), (1234, 0.004046156200341772), (205, 0.004046006325289967), (4655, 0.004044425322261337), (3905, 0.00404175961719816), (4260, 0.0040385438809395924), (4180, 0.004037836324654089), (415, 0.004035841101861157), (4027, 0.004034737443794605), (3037, 0.0040332552090539785), (3422, 0.004030267300025437), (4420, 0.004029036481555644), (3986, 0.004028061751687836), (2394, 0.004026176264899531), (3388, 0.004025820718197613), (722, 0.00402261153649699), (3882, 0.0040214202301111605), (3984, 0.004018419577216427), (667, 0.004017204521967121), (1902, 0.004016243837421379), (474, 0.004014890643786666), (3841, 0.00401474732806215), (3189, 0.004014449375453586), (1299, 0.004011051995372575), (1821, 0.004009609063000751), (3111, 0.004006844308254226), (1193, 0.004003896587377397), (1142, 0.004002937201847098), (2002, 0.003999172417472558), (3415, 0.0039989119426554484), (3038, 0.003997025813147061), (2380, 0.003996706553912774), (2926, 0.003996035296865569), (3061, 0.003994987400090299), (204, 0.00399187659382237), (4421, 0.003988651353274215), (3351, 0.003987885597929407), (2090, 0.003987840056856995), (797, 0.003987733895640269), (2042, 0.003987154077772704), (3382, 0.0039870554738806714), (4433, 0.0039864659139999216), (879, 0.003986365172503421), (2561, 0.003986338570103683), (3845, 0.003985465841203384), (3162, 0.003984358630759283), (3224, 0.003978108784126149), (884, 0.003975369924521579), (3790, 0.00397140816024461), (4125, 0.00396855176408634), (3229, 0.003968363088471876), (2325, 0.003966664664307418), (4756, 0.003966031431476583), (3349, 0.003964191654230094), (2194, 0.00396293014042531), (784, 0.003961855721638161), (4552, 0.003960555426434486), (33, 0.00395637344944607), (3517, 0.003956269543949692), (1542, 0.0039560485019467136), (2794, 0.0039557612171381915), (166, 0.003953732755706122), (1765, 0.003951898246685479), (4648, 0.003951639010500616), (4422, 0.003948588758274668), (3428, 0.0039475481100070394), (4287, 0.003947546206093033), (3198, 0.003947219402894077), (2456, 0.0039436880459192405), (708, 0.003942225242208216), (2519, 0.003941320797694538), (2648, 0.003939974907697524), (377, 0.003936913905547626), (3290, 0.003932196435002279), (97, 0.003928721167374903), (4319, 0.00392734247630772), (3894, 0.00392627427154928), (1777, 0.003925500843884896), (2092, 0.003925171555459843), (2856, 0.0039246295496309985), (4329, 0.003923334068235586), (1917, 0.003922247945672835), (245, 0.003919327994068699), (2307, 0.0039192970462398604), (3289, 0.003915840143177654), (846, 0.0039125140371360605), (3683, 0.0039112225759114225), (42, 0.003908342530719645), (3209, 0.003907796270705784), (115, 0.003907032206851712), (2200, 0.0039046503238962223), (4404, 0.0039037511276157717), (3912, 0.003903684349151824), (134, 0.0039032869512356703), (933, 0.003902274735450192), (3852, 0.0039007696683296157), (2290, 0.0038991583987222455), (3113, 0.0038972010167050613), (238, 0.0038971272951319495), (3606, 0.003895876911637699), (4197, 0.003895275996476347), (1166, 0.0038949043143908556), (3102, 0.0038942999186910255), (2292, 0.0038916383633527105), (2746, 0.00388504651763325), (3060, 0.0038840008815620056), (1361, 0.003881330611999398), (2440, 0.0038804558689675525), (2896, 0.0038801832268613007), (4702, 0.00388000269248821), (4049, 0.003877879405381569), (2685, 0.003877774993094179), (1204, 0.0038767594268548484), (2041, 0.0038750786944752487), (1559, 0.003874513845266241), (2586, 0.003871415026529408), (1476, 0.0038711640334246978), (4214, 0.003870322244456527), (1879, 0.003865602383429983), (1410, 0.0038618122447241594), (1769, 0.0038612421416513217), (630, 0.0038607633979394133), (3245, 0.0038605963008971236), (1722, 0.003858512371007697), (2122, 0.0038573731720352453), (2396, 0.003855705098683533), (1741, 0.003851892802937314), (1232, 0.003850452722056176), (2192, 0.0038479307710697942), (3155, 0.0038471154271014813), (3034, 0.0038458411736087463), (2449, 0.0038457232714166722), (3494, 0.0038455024548122597), (2284, 0.003841593557342315), (2, 0.003841327708903179), (2611, 0.0038407158632552296), (2801, 0.0038403348889596276), (2447, 0.0038396584347336763), (4184, 0.00383657005839179), (1906, 0.0038339401573237574), (943, 0.00383013730450347), (1565, 0.0038266235378084405), (114, 0.0038246117047677055), (3376, 0.003822887987905212), (2709, 0.0038226390949470395), (2495, 0.0038206398064766843), (3662, 0.003819064407665134), (2026, 0.0038179401536722933), (1227, 0.0038171004323337226), (1120, 0.003816793647241551), (3188, 0.0038166225671393476), (4291, 0.003815621013014848), (1133, 0.0038127610523390155), (2387, 0.0038126684831947585), (3104, 0.0038120290434761495), (3106, 0.0038088783243150405), (4675, 0.0038066116956328895), (1638, 0.003806157901590148), (1112, 0.003805699644380649), (3673, 0.003805502844225529), (3200, 0.0038038181351816138), (1444, 0.003802139085120212), (1298, 0.0037998089906680042), (2336, 0.003799530953321911), (2999, 0.0037993108760104705), (188, 0.003796034762224881), (4688, 0.0037939858655052466), (3545, 0.0037925745643497934), (2836, 0.0037912732053732245), (1834, 0.0037879935953517873), (2280, 0.003785062006488851), (1837, 0.0037834750944111734), (3888, 0.0037806601004043757), (50, 0.0037734171565215807), (2435, 0.0037731053004950166), (535, 0.0037701767809612003), (3350, 0.0037695731305856773), (1549, 0.003769078651449004), (2627, 0.0037674959101142913), (1313, 0.003765217127328464), (1757, 0.003764063893193216), (2687, 0.003759237928950904), (1100, 0.003757740347374623), (3090, 0.0037573704838073296), (575, 0.0037556504516570856), (1330, 0.0037508665220356775), (64, 0.0037495220578226615), (1286, 0.003745894037787995), (4029, 0.003744530833908004), (1084, 0.003744059886475456), (3580, 0.0037435722973230908), (459, 0.0037433671841569146), (1589, 0.003742887470851651), (2945, 0.003740251925277096), (3928, 0.0037395525702685834), (1842, 0.003738534283817586), (4530, 0.003736889536754236), (3400, 0.0037367209519005495), (3220, 0.003734375649625189), (3429, 0.003732353343720817), (4234, 0.003727485391590785), (1771, 0.0037252113483462576), (4073, 0.0037242094434841552), (4327, 0.0037237646425831903), (3402, 0.003723463114839342), (2677, 0.0037228691270433066), (503, 0.003716915084750099), (755, 0.0037133326442669364), (1235, 0.0037109356692010204), (404, 0.003708070175946467), (2461, 0.00370476258819199), (662, 0.0037046913505672393), (3879, 0.0037044377390336794), (3375, 0.003704143178303678), (49, 0.003703634093193249), (2912, 0.003699823810497683), (1618, 0.0036998040024500385), (1261, 0.00369946828319614), (3348, 0.0036977875787612873), (2693, 0.0036937007503638226), (2467, 0.003686485712763401), (3896, 0.0036844412328593664), (2465, 0.0036825917306900534), (923, 0.003679686586054245), (1900, 0.0036787039785035613), (2681, 0.0036734748386945348), (1561, 0.003672680961771998), (1125, 0.0036717620672969613), (1117, 0.0036706406886762044), (1767, 0.0036705236803860676), (3490, 0.0036693074143596934), (1582, 0.0036682976137306566), (772, 0.003665617119544974), (3503, 0.003663941315771769), (2526, 0.0036629041247456745), (367, 0.0036604079630503613), (4434, 0.0036602856343608287), (3214, 0.0036478515583314754), (3824, 0.0036468932546757198), (2620, 0.0036460893377495904), (1744, 0.003645136846962452), (1929, 0.0036426239856418136), (157, 0.003639069577790128), (4321, 0.003637738257487024), (2644, 0.003635731317756375), (984, 0.0036345362655417824), (2140, 0.0036331645059993894), (1073, 0.0036326675802958036), (2242, 0.0036318277557285954), (2068, 0.003630822700620708), (505, 0.0036298548653699854), (3177, 0.0036296565938070888), (4206, 0.00362948737056645), (2690, 0.0036283816146865924), (1878, 0.003627985016035741), (1532, 0.0036269727026556112), (1363, 0.00362626834681934), (649, 0.003621258608128454), (1211, 0.003620583916992073), (4246, 0.0036178174551807466), (1785, 0.0036155814515572457), (3859, 0.003614106411271401), (859, 0.003611821185685779), (325, 0.003610697006543093), (3944, 0.0036087282436228878), (3194, 0.0036065070544598695), (939, 0.0036039966269935542), (1395, 0.0036035947485955145), (3811, 0.0036020851247802574), (2972, 0.003601645694460362), (2348, 0.003599048476940239), (1783, 0.003595213650698994), (2179, 0.00358950801840469), (4254, 0.00358771964685198), (1203, 0.0035875756202290664), (1693, 0.0035875725933268887), (311, 0.0035864081055973305), (1372, 0.003584309359213343), (3250, 0.0035835852383367998), (886, 0.003582190391612648), (3941, 0.0035806526947687275), (2594, 0.0035789256914775763), (941, 0.0035787252697827626), (702, 0.0035748805950128006), (2170, 0.003573256363749114), (4667, 0.0035732523341742354), (2099, 0.0035713867293402607), (1992, 0.0035696874297907726), (471, 0.003568241454183569), (2699, 0.0035647264367599666), (1899, 0.0035620877029603317), (3732, 0.003559855777758541), (659, 0.003559208474303105), (1457, 0.0035583827646645688), (1673, 0.0035571703797766764), (2866, 0.003555565702281826), (2201, 0.003554449643046833), (4356, 0.003553542907234198), (3543, 0.0035519493014350336), (4305, 0.003549658259234723), (2272, 0.003549112953913641), (3500, 0.0035449489370353218), (1152, 0.00354243016372694), (589, 0.0035411717458372766), (1610, 0.0035376789853046454), (770, 0.0035291983263823668), (3589, 0.003523562596824737), (1149, 0.0035224650511816165), (1543, 0.0035203222610592348), (3753, 0.003519954674838414), (2445, 0.0035168089884046604), (2326, 0.0035153378803713365), (1331, 0.0035022255239480727), (3050, 0.003500732575093481), (2225, 0.0034997505445762186), (2207, 0.003498141028897739), (1974, 0.0034919094546215753), (1038, 0.0034896898246258344), (2007, 0.003487673518902115), (1729, 0.0034801336753371086), (759, 0.0034788868752819065), (2728, 0.0034779564204132354), (3842, 0.0034777797760184065), (1200, 0.0034730295346034465), (3197, 0.0034725251411658617), (1528, 0.0034705255157353007), (3199, 0.0034668229191776043), (2063, 0.0034640646348416317), (2402, 0.0034603621553617827), (3304, 0.003459846106347754), (473, 0.0034568695879082603), (1827, 0.0034552404334052714), (1093, 0.00345349855508092), (1485, 0.003447328319997008), (3716, 0.003434177847688855), (1569, 0.003430731942405264), (4304, 0.003429358095667597), (2591, 0.0034280043509754116), (1980, 0.0034271457716024867), (1318, 0.0034077036554018216), (3933, 0.003405896623257357), (2833, 0.0034058684738179873), (1978, 0.003405568637538459), (383, 0.00340539502063838), (4237, 0.00340173718709524), (562, 0.0033963448156326907), (2264, 0.0033945964962713822), (703, 0.0033940850919071145), (4414, 0.00339288650427172), (1694, 0.0033925043219466843), (1652, 0.003389219659201822), (2366, 0.0033885698269889176), (1830, 0.0033856296605845678), (1954, 0.003384724820333645), (393, 0.0033837190216391287), (3861, 0.0033833804559919526), (1251, 0.0033811649229627235), (2398, 0.0033799941540099483), (3063, 0.003379027409304213), (3755, 0.0033769559800205413), (2360, 0.003376885237475828), (3356, 0.003376567554723812), (712, 0.003375808442264912), (4358, 0.003371175312639383), (1199, 0.0033706559279066146), (836, 0.0033684832225662014), (605, 0.003362146981874286), (912, 0.0033599186083769893), (1405, 0.003359208889196265), (1616, 0.003357839446165636), (1213, 0.0033564936350445737), (4066, 0.0033555489172378554), (2240, 0.003353098526108725), (4558, 0.0033479074828019185), (520, 0.0033385780909941506), (2721, 0.003320103814634305), (1217, 0.0033172304024031603), (892, 0.0033101903775187716), (103, 0.0033095148922532985), (4426, 0.00329690351326634), (1370, 0.0032946247007366435), (278, 0.0032908683707129896), (2001, 0.003290224375153663), (1323, 0.0032829489039691634), (4627, 0.0032786480357322447), (1008, 0.0032741483366798795), (1088, 0.0032663232617253886), (1070, 0.003265785908038739), (2146, 0.003265385237445867), (1523, 0.0032643635874859355), (3916, 0.003255855737097057), (2758, 0.0032451235989562734), (1340, 0.0032449398748531444), (1639, 0.0032347023938544815), (1300, 0.0032309177663630002), (4636, 0.0032222275384385505), (707, 0.003213830127427764), (2157, 0.0032129148122997954), (786, 0.0032002747192868553), (709, 0.003199576347088259), (1062, 0.0031948818552119283), (2876, 0.0031912199847706976), (1367, 0.0031908652824070628), (2373, 0.0031865593510747394), (1938, 0.0031857402807866073), (964, 0.003185342176366796), (293, 0.00318314476063041), (1078, 0.0031820444181373973), (1944, 0.0031735128258381148), (3212, 0.00316757331629793), (4171, 0.0031639517456528454), (2770, 0.0031596980173359645), (4200, 0.003159141960452506), (1752, 0.0031591249541860753), (1289, 0.0031392045156458546), (1156, 0.003136705262605856), (2331, 0.003135059295889059), (1427, 0.0031322035541913487), (2018, 0.0031166121388019143), (366, 0.003116029966199473), (4311, 0.0031043380499381906), (4744, 0.003097491635361924), (1963, 0.0030914599142119726), (1344, 0.0030897227145253482), (3575, 0.003086884279934665), (3971, 0.003081399699762342), (1646, 0.0030743896303256704), (2925, 0.0030678478704340177), (1676, 0.003050871524799887), (1871, 0.0030411761425815542), (1040, 0.002984347544426214), (837, 0.0029372105022740964), (351, 0.0029151701088909587), (1362, 0.0028394560441590724), (129, 0.002668187437742221), (824, 0.00266080380677386), (3421, 0.0026434812643438958), (740, 0.0025632676165799175), (475, 0.0025462888706954483), (4, 0.0), (5, 0.0), (8, 0.0), (13, 0.0), (16, 0.0), (20, 0.0), (23, 0.0), (24, 0.0), (26, 0.0), (30, 0.0), (31, 0.0), (47, 0.0), (51, 0.0), (52, 0.0), (61, 0.0), (66, 0.0), (70, 0.0), (77, 0.0), (87, 0.0), (89, 0.0), (98, 0.0), (99, 0.0), (100, 0.0), (111, 0.0), (116, 0.0), (120, 0.0), (127, 0.0), (132, 0.0), (133, 0.0), (136, 0.0), (140, 0.0), (145, 0.0), (154, 0.0), (158, 0.0), (163, 0.0), (176, 0.0), (178, 0.0), (194, 0.0), (198, 0.0), (200, 0.0), (203, 0.0), (213, 0.0), (224, 0.0), (226, 0.0), (227, 0.0), (229, 0.0), (236, 0.0), (256, 0.0), (265, 0.0), (267, 0.0), (268, 0.0), (270, 0.0), (275, 0.0), (276, 0.0), (281, 0.0), (285, 0.0), (302, 0.0), (304, 0.0), (326, 0.0), (349, 0.0), (360, 0.0), (370, 0.0), (373, 0.0), (376, 0.0), (378, 0.0), (389, 0.0), (395, 0.0), (396, 0.0), (399, 0.0), (400, 0.0), (423, 0.0), (429, 0.0), (430, 0.0), (434, 0.0), (438, 0.0), (443, 0.0), (444, 0.0), (447, 0.0), (450, 0.0), (453, 0.0), (462, 0.0), (466, 0.0), (476, 0.0), (478, 0.0), (481, 0.0), (485, 0.0), (487, 0.0), (488, 0.0), (489, 0.0), (490, 0.0), (493, 0.0), (499, 0.0), (502, 0.0), (509, 0.0), (518, 0.0), (541, 0.0), (543, 0.0), (552, 0.0), (556, 0.0), (557, 0.0), (558, 0.0), (559, 0.0), (564, 0.0), (571, 0.0), (574, 0.0), (576, 0.0), (578, 0.0), (580, 0.0), (581, 0.0), (584, 0.0), (587, 0.0), (593, 0.0), (596, 0.0), (598, 0.0), (606, 0.0), (607, 0.0), (611, 0.0), (612, 0.0), (617, 0.0), (622, 0.0), (623, 0.0), (624, 0.0), (625, 0.0), (626, 0.0), (628, 0.0), (633, 0.0), (634, 0.0), (636, 0.0), (637, 0.0), (638, 0.0), (642, 0.0), (645, 0.0), (646, 0.0), (647, 0.0), (652, 0.0), (658, 0.0), (660, 0.0), (676, 0.0), (693, 0.0), (694, 0.0), (695, 0.0), (696, 0.0), (698, 0.0), (718, 0.0), (721, 0.0), (743, 0.0), (746, 0.0), (750, 0.0), (761, 0.0), (774, 0.0), (777, 0.0), (783, 0.0), (791, 0.0), (799, 0.0), (801, 0.0), (811, 0.0), (816, 0.0), (818, 0.0), (830, 0.0), (831, 0.0), (855, 0.0), (857, 0.0), (858, 0.0), (860, 0.0), (861, 0.0), (863, 0.0), (876, 0.0), (877, 0.0), (880, 0.0), (887, 0.0), (888, 0.0), (889, 0.0), (893, 0.0), (896, 0.0), (901, 0.0), (910, 0.0), (917, 0.0), (922, 0.0), (927, 0.0), (932, 0.0), (937, 0.0), (942, 0.0), (950, 0.0), (960, 0.0), (967, 0.0), (975, 0.0), (976, 0.0), (980, 0.0), (987, 0.0), (989, 0.0), (991, 0.0), (1003, 0.0), (1004, 0.0), (1026, 0.0), (1027, 0.0), (1030, 0.0), (1034, 0.0), (1036, 0.0), (1042, 0.0), (1053, 0.0), (1058, 0.0), (1064, 0.0), (1072, 0.0), (1080, 0.0), (1083, 0.0), (1086, 0.0), (1097, 0.0), (1098, 0.0), (1101, 0.0), (1107, 0.0), (1110, 0.0), (1119, 0.0), (1121, 0.0), (1143, 0.0), (1148, 0.0), (1158, 0.0), (1159, 0.0), (1160, 0.0), (1161, 0.0), (1163, 0.0), (1176, 0.0), (1177, 0.0), (1181, 0.0), (1184, 0.0), (1189, 0.0), (1197, 0.0), (1202, 0.0), (1209, 0.0), (1233, 0.0), (1236, 0.0), (1237, 0.0), (1245, 0.0), (1247, 0.0), (1264, 0.0), (1271, 0.0), (1294, 0.0), (1295, 0.0), (1303, 0.0), (1325, 0.0), (1339, 0.0), (1342, 0.0), (1355, 0.0), (1356, 0.0), (1378, 0.0), (1383, 0.0), (1391, 0.0), (1399, 0.0), (1400, 0.0), (1415, 0.0), (1423, 0.0), (1428, 0.0), (1429, 0.0), (1434, 0.0), (1435, 0.0), (1438, 0.0), (1448, 0.0), (1449, 0.0), (1450, 0.0), (1452, 0.0), (1462, 0.0), (1480, 0.0), (1498, 0.0), (1499, 0.0), (1531, 0.0), (1534, 0.0), (1550, 0.0), (1556, 0.0), (1558, 0.0), (1562, 0.0), (1573, 0.0), (1575, 0.0), (1580, 0.0), (1588, 0.0), (1590, 0.0), (1593, 0.0), (1605, 0.0), (1621, 0.0), (1622, 0.0), (1623, 0.0), (1625, 0.0), (1628, 0.0), (1631, 0.0), (1633, 0.0), (1635, 0.0), (1667, 0.0), (1670, 0.0), (1671, 0.0), (1672, 0.0), (1674, 0.0), (1699, 0.0), (1703, 0.0), (1717, 0.0), (1720, 0.0), (1724, 0.0), (1739, 0.0), (1748, 0.0), (1753, 0.0), (1754, 0.0), (1763, 0.0), (1775, 0.0), (1780, 0.0), (1795, 0.0), (1800, 0.0), (1805, 0.0), (1811, 0.0), (1813, 0.0), (1814, 0.0), (1819, 0.0), (1820, 0.0), (1826, 0.0), (1831, 0.0), (1832, 0.0), (1835, 0.0), (1854, 0.0), (1862, 0.0), (1872, 0.0), (1874, 0.0), (1882, 0.0), (1884, 0.0), (1885, 0.0), (1890, 0.0), (1891, 0.0), (1892, 0.0), (1909, 0.0), (1916, 0.0), (1918, 0.0), (1921, 0.0), (1922, 0.0), (1927, 0.0), (1930, 0.0), (1933, 0.0), (1940, 0.0), (1946, 0.0), (1953, 0.0), (1958, 0.0), (1959, 0.0), (1962, 0.0), (1966, 0.0), (1967, 0.0), (1972, 0.0), (1975, 0.0), (1979, 0.0), (1993, 0.0), (1995, 0.0), (1996, 0.0), (2030, 0.0), (2035, 0.0), (2038, 0.0), (2039, 0.0), (2057, 0.0), (2069, 0.0), (2073, 0.0), (2080, 0.0), (2084, 0.0), (2089, 0.0), (2097, 0.0), (2104, 0.0), (2105, 0.0), (2115, 0.0), (2120, 0.0), (2132, 0.0), (2134, 0.0), (2135, 0.0), (2141, 0.0), (2142, 0.0), (2149, 0.0), (2152, 0.0), (2163, 0.0), (2165, 0.0), (2173, 0.0), (2189, 0.0), (2190, 0.0), (2191, 0.0), (2196, 0.0), (2213, 0.0), (2214, 0.0), (2216, 0.0), (2220, 0.0), (2229, 0.0), (2230, 0.0), (2235, 0.0), (2247, 0.0), (2248, 0.0), (2251, 0.0), (2253, 0.0), (2254, 0.0), (2256, 0.0), (2257, 0.0), (2267, 0.0), (2269, 0.0), (2273, 0.0), (2279, 0.0), (2288, 0.0), (2289, 0.0), (2295, 0.0), (2299, 0.0), (2300, 0.0), (2313, 0.0), (2314, 0.0), (2319, 0.0), (2323, 0.0), (2328, 0.0), (2341, 0.0), (2342, 0.0), (2343, 0.0), (2344, 0.0), (2345, 0.0), (2346, 0.0), (2347, 0.0), (2349, 0.0), (2350, 0.0), (2354, 0.0), (2355, 0.0), (2358, 0.0), (2359, 0.0), (2362, 0.0), (2369, 0.0), (2370, 0.0), (2372, 0.0), (2374, 0.0), (2382, 0.0), (2386, 0.0), (2388, 0.0), (2390, 0.0), (2392, 0.0), (2393, 0.0), (2400, 0.0), (2401, 0.0), (2405, 0.0), (2406, 0.0), (2407, 0.0), (2408, 0.0), (2419, 0.0), (2425, 0.0), (2437, 0.0), (2438, 0.0), (2453, 0.0), (2454, 0.0), (2457, 0.0), (2462, 0.0), (2466, 0.0), (2471, 0.0), (2475, 0.0), (2477, 0.0), (2484, 0.0), (2489, 0.0), (2496, 0.0), (2502, 0.0), (2520, 0.0), (2527, 0.0), (2528, 0.0), (2533, 0.0), (2538, 0.0), (2541, 0.0), (2556, 0.0), (2557, 0.0), (2577, 0.0), (2578, 0.0), (2580, 0.0), (2583, 0.0), (2589, 0.0), (2593, 0.0), (2596, 0.0), (2599, 0.0), (2602, 0.0), (2606, 0.0), (2613, 0.0), (2614, 0.0), (2617, 0.0), (2618, 0.0), (2623, 0.0), (2624, 0.0), (2628, 0.0), (2629, 0.0), (2630, 0.0), (2643, 0.0), (2649, 0.0), (2651, 0.0), (2652, 0.0), (2655, 0.0), (2658, 0.0), (2664, 0.0), (2679, 0.0), (2683, 0.0), (2686, 0.0), (2694, 0.0), (2695, 0.0), (2700, 0.0), (2704, 0.0), (2705, 0.0), (2716, 0.0), (2717, 0.0), (2723, 0.0), (2733, 0.0), (2735, 0.0), (2736, 0.0), (2743, 0.0), (2745, 0.0), (2750, 0.0), (2752, 0.0), (2753, 0.0), (2760, 0.0), (2762, 0.0), (2771, 0.0), (2773, 0.0), (2775, 0.0), (2779, 0.0), (2800, 0.0), (2821, 0.0), (2824, 0.0), (2827, 0.0), (2828, 0.0), (2837, 0.0), (2845, 0.0), (2849, 0.0), (2851, 0.0), (2853, 0.0), (2861, 0.0), (2865, 0.0), (2869, 0.0), (2870, 0.0), (2871, 0.0), (2879, 0.0), (2883, 0.0), (2886, 0.0), (2889, 0.0), (2890, 0.0), (2894, 0.0), (2901, 0.0), (2902, 0.0), (2904, 0.0), (2905, 0.0), (2907, 0.0), (2909, 0.0), (2916, 0.0), (2919, 0.0), (2921, 0.0), (2923, 0.0), (2932, 0.0), (2934, 0.0), (2946, 0.0), (2949, 0.0), (2952, 0.0), (2953, 0.0), (2957, 0.0), (2961, 0.0), (2965, 0.0), (2966, 0.0), (2967, 0.0), (2974, 0.0), (2984, 0.0), (2987, 0.0), (2993, 0.0), (2995, 0.0), (2997, 0.0), (3000, 0.0), (3001, 0.0), (3004, 0.0), (3005, 0.0), (3006, 0.0), (3007, 0.0), (3012, 0.0), (3013, 0.0), (3015, 0.0), (3019, 0.0), (3025, 0.0), (3029, 0.0), (3030, 0.0), (3031, 0.0), (3032, 0.0), (3035, 0.0), (3036, 0.0), (3043, 0.0), (3047, 0.0), (3048, 0.0), (3049, 0.0), (3051, 0.0), (3055, 0.0), (3056, 0.0), (3068, 0.0), (3069, 0.0), (3075, 0.0), (3076, 0.0), (3079, 0.0), (3081, 0.0), (3086, 0.0), (3092, 0.0), (3093, 0.0), (3101, 0.0), (3107, 0.0), (3110, 0.0), (3116, 0.0), (3117, 0.0), (3120, 0.0), (3123, 0.0), (3128, 0.0), (3138, 0.0), (3140, 0.0), (3148, 0.0), (3154, 0.0), (3159, 0.0), (3160, 0.0), (3167, 0.0), (3170, 0.0), (3171, 0.0), (3176, 0.0), (3179, 0.0), (3180, 0.0), (3195, 0.0), (3196, 0.0), (3216, 0.0), (3219, 0.0), (3243, 0.0), (3248, 0.0), (3251, 0.0), (3254, 0.0), (3255, 0.0), (3261, 0.0), (3262, 0.0), (3268, 0.0), (3269, 0.0), (3273, 0.0), (3274, 0.0), (3278, 0.0), (3279, 0.0), (3285, 0.0), (3291, 0.0), (3292, 0.0), (3296, 0.0), (3300, 0.0), (3301, 0.0), (3302, 0.0), (3305, 0.0), (3313, 0.0), (3314, 0.0), (3318, 0.0), (3322, 0.0), (3325, 0.0), (3326, 0.0), (3331, 0.0), (3333, 0.0), (3334, 0.0), (3338, 0.0), (3341, 0.0), (3347, 0.0), (3353, 0.0), (3354, 0.0), (3355, 0.0), (3359, 0.0), (3363, 0.0), (3369, 0.0), (3370, 0.0), (3372, 0.0), (3379, 0.0), (3381, 0.0), (3385, 0.0), (3392, 0.0), (3396, 0.0), (3398, 0.0), (3401, 0.0), (3417, 0.0), (3425, 0.0), (3431, 0.0), (3433, 0.0), (3434, 0.0), (3436, 0.0), (3437, 0.0), (3455, 0.0), (3460, 0.0), (3470, 0.0), (3471, 0.0), (3473, 0.0), (3474, 0.0), (3480, 0.0), (3488, 0.0), (3495, 0.0), (3497, 0.0), (3498, 0.0), (3499, 0.0), (3501, 0.0), (3505, 0.0), (3506, 0.0), (3521, 0.0), (3523, 0.0), (3527, 0.0), (3530, 0.0), (3533, 0.0), (3535, 0.0), (3540, 0.0), (3542, 0.0), (3547, 0.0), (3548, 0.0), (3550, 0.0), (3561, 0.0), (3569, 0.0), (3573, 0.0), (3576, 0.0), (3590, 0.0), (3607, 0.0), (3608, 0.0), (3613, 0.0), (3614, 0.0), (3615, 0.0), (3617, 0.0), (3624, 0.0), (3625, 0.0), (3627, 0.0), (3631, 0.0), (3636, 0.0), (3639, 0.0), (3640, 0.0), (3647, 0.0), (3653, 0.0), (3663, 0.0), (3664, 0.0), (3666, 0.0), (3669, 0.0), (3672, 0.0), (3675, 0.0), (3679, 0.0), (3682, 0.0), (3687, 0.0), (3691, 0.0), (3699, 0.0), (3704, 0.0), (3714, 0.0), (3717, 0.0), (3719, 0.0), (3721, 0.0), (3725, 0.0), (3729, 0.0), (3737, 0.0), (3749, 0.0), (3750, 0.0), (3757, 0.0), (3760, 0.0), (3761, 0.0), (3762, 0.0), (3766, 0.0), (3768, 0.0), (3769, 0.0), (3770, 0.0), (3774, 0.0), (3775, 0.0), (3781, 0.0), (3788, 0.0), (3793, 0.0), (3799, 0.0), (3804, 0.0), (3806, 0.0), (3813, 0.0), (3815, 0.0), (3827, 0.0), (3828, 0.0), (3830, 0.0), (3833, 0.0), (3838, 0.0), (3843, 0.0), (3847, 0.0), (3848, 0.0), (3863, 0.0), (3867, 0.0), (3872, 0.0), (3873, 0.0), (3874, 0.0), (3878, 0.0), (3881, 0.0), (3883, 0.0), (3884, 0.0), (3887, 0.0), (3898, 0.0), (3899, 0.0), (3900, 0.0), (3901, 0.0), (3902, 0.0), (3904, 0.0), (3911, 0.0), (3913, 0.0), (3915, 0.0), (3918, 0.0), (3925, 0.0), (3935, 0.0), (3938, 0.0), (3939, 0.0), (3945, 0.0), (3948, 0.0), (3961, 0.0), (3974, 0.0), (3975, 0.0), (3976, 0.0), (3981, 0.0), (3985, 0.0), (3987, 0.0), (3989, 0.0), (3990, 0.0), (3995, 0.0), (3999, 0.0), (4000, 0.0), (4004, 0.0), (4011, 0.0), (4014, 0.0), (4017, 0.0), (4019, 0.0), (4021, 0.0), (4024, 0.0), (4028, 0.0), (4030, 0.0), (4042, 0.0), (4047, 0.0), (4048, 0.0), (4050, 0.0), (4053, 0.0), (4060, 0.0), (4063, 0.0), (4065, 0.0), (4067, 0.0), (4069, 0.0), (4072, 0.0), (4075, 0.0), (4078, 0.0), (4079, 0.0), (4080, 0.0), (4081, 0.0), (4082, 0.0), (4083, 0.0), (4087, 0.0), (4107, 0.0), (4123, 0.0), (4126, 0.0), (4129, 0.0), (4133, 0.0), (4138, 0.0), (4139, 0.0), (4145, 0.0), (4150, 0.0), (4151, 0.0), (4154, 0.0), (4159, 0.0), (4161, 0.0), (4162, 0.0), (4163, 0.0), (4164, 0.0), (4165, 0.0), (4167, 0.0), (4169, 0.0), (4170, 0.0), (4172, 0.0), (4175, 0.0), (4177, 0.0), (4178, 0.0), (4179, 0.0), (4187, 0.0), (4208, 0.0), (4209, 0.0), (4212, 0.0), (4215, 0.0), (4219, 0.0), (4220, 0.0), (4225, 0.0), (4227, 0.0), (4228, 0.0), (4229, 0.0), (4230, 0.0), (4231, 0.0), (4232, 0.0), (4235, 0.0), (4243, 0.0), (4245, 0.0), (4247, 0.0), (4250, 0.0), (4251, 0.0), (4253, 0.0), (4266, 0.0), (4275, 0.0), (4278, 0.0), (4280, 0.0), (4286, 0.0), (4296, 0.0), (4301, 0.0), (4302, 0.0), (4307, 0.0), (4313, 0.0), (4316, 0.0), (4318, 0.0), (4322, 0.0), (4326, 0.0), (4331, 0.0), (4333, 0.0), (4340, 0.0), (4349, 0.0), (4352, 0.0), (4355, 0.0), (4359, 0.0), (4361, 0.0), (4362, 0.0), (4366, 0.0), (4369, 0.0), (4372, 0.0), (4377, 0.0), (4380, 0.0), (4383, 0.0), (4386, 0.0), (4389, 0.0), (4391, 0.0), (4396, 0.0), (4397, 0.0), (4398, 0.0), (4400, 0.0), (4403, 0.0), (4407, 0.0), (4409, 0.0), (4412, 0.0), (4416, 0.0), (4417, 0.0), (4423, 0.0), (4424, 0.0), (4425, 0.0), (4427, 0.0), (4458, 0.0), (4461, 0.0), (4464, 0.0), (4469, 0.0), (4474, 0.0), (4475, 0.0), (4476, 0.0), (4487, 0.0), (4488, 0.0), (4494, 0.0), (4497, 0.0), (4499, 0.0), (4500, 0.0), (4502, 0.0), (4505, 0.0), (4508, 0.0), (4512, 0.0), (4513, 0.0), (4517, 0.0), (4518, 0.0), (4520, 0.0), (4521, 0.0), (4525, 0.0), (4527, 0.0), (4528, 0.0), (4529, 0.0), (4532, 0.0), (4538, 0.0), (4539, 0.0), (4540, 0.0), (4544, 0.0), (4545, 0.0), (4546, 0.0), (4547, 0.0), (4559, 0.0), (4561, 0.0), (4565, 0.0), (4566, 0.0), (4567, 0.0), (4572, 0.0), (4578, 0.0), (4579, 0.0), (4583, 0.0), (4584, 0.0), (4587, 0.0), (4593, 0.0), (4595, 0.0), (4598, 0.0), (4601, 0.0), (4607, 0.0), (4611, 0.0), (4614, 0.0), (4615, 0.0), (4616, 0.0), (4617, 0.0), (4618, 0.0), (4623, 0.0), (4625, 0.0), (4632, 0.0), (4637, 0.0), (4638, 0.0), (4639, 0.0), (4640, 0.0), (4644, 0.0), (4645, 0.0), (4651, 0.0), (4654, 0.0), (4657, 0.0), (4662, 0.0), (4665, 0.0), (4668, 0.0), (4670, 0.0), (4671, 0.0), (4672, 0.0), (4677, 0.0), (4678, 0.0), (4680, 0.0), (4681, 0.0), (4683, 0.0), (4691, 0.0), (4692, 0.0), (4693, 0.0), (4694, 0.0), (4696, 0.0), (4697, 0.0), (4699, 0.0), (4701, 0.0), (4704, 0.0), (4707, 0.0), (4710, 0.0), (4712, 0.0), (4713, 0.0), (4715, 0.0), (4718, 0.0), (4722, 0.0), (4724, 0.0), (4728, 0.0), (4729, 0.0), (4730, 0.0), (4731, 0.0), (4735, 0.0), (4736, 0.0), (4740, 0.0), (4749, 0.0), (4750, 0.0), (4751, 0.0), (4753, 0.0), (4757, 0.0), (4758, 0.0), (4759, 0.0)]\n"
          ]
        }
      ]
    },
    {
      "cell_type": "code",
      "source": [
        "\n",
        "# print the name of similar movies on the basis of index\n",
        "print('Top 30 movies suggested for you : \\n')\n",
        "i= 1\n",
        "for movie in sorted_similar_movies:\n",
        "  index = movie[0]\n",
        "  title_from_index = df[df.index==index]['Movie_Title'].values[0]\n",
        "  if (i<31):\n",
        "    print(i,'.',title_from_index)\n",
        "    i+=1"
      ],
      "metadata": {
        "colab": {
          "base_uri": "https://localhost:8080/"
        },
        "id": "5bdRHQ6oeeat",
        "outputId": "642887d1-d57d-4fc4-aa8a-bd1f2cbb2cab"
      },
      "execution_count": 68,
      "outputs": [
        {
          "output_type": "stream",
          "name": "stdout",
          "text": [
            "Top 30 movies suggested for you : \n",
            "\n",
            "1 . Deadpool\n",
            "2 . The Incredible Hulk\n",
            "3 . Iron Man 2\n",
            "4 . X-Men\n",
            "5 . Avengers: Age of Ultron\n",
            "6 . X-Men: Apocalypse\n",
            "7 . Ant-Man\n",
            "8 . The Avengers\n",
            "9 . Thor: The Dark World\n",
            "10 . X2\n",
            "11 . X-Men Origins: Wolverine\n",
            "12 . The Amazing Spider-Man 2\n",
            "13 . The Image Revolution\n",
            "14 . X-Men: The Last Stand\n",
            "15 . X-Men: Days of Future Past\n",
            "16 . X-Men: First Class\n",
            "17 . Serenity\n",
            "18 . Superman II\n",
            "19 . Spawn\n",
            "20 . Man of Steel\n",
            "21 . Haywire\n",
            "22 . Batman v Superman: Dawn of Justice\n",
            "23 . Captain America: The Winter Soldier\n",
            "24 . Spider-Man 2\n",
            "25 . Captain America: Civil War\n",
            "26 . The Spirit\n",
            "27 . Kick-Ass 2\n",
            "28 . The Smurfs\n",
            "29 . Thor\n",
            "30 . Superhero Movie\n"
          ]
        }
      ]
    }
  ]
}